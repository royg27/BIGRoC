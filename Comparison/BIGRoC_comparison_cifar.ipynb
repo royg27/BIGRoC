{
  "cells": [
    {
      "cell_type": "markdown",
      "metadata": {
        "id": "fuvhgP_I_zkn"
      },
      "source": [
        "# BIGRoC: Boosting Image Generation via a Robust Classifier\n",
        "\n",
        "--------------------------------------------------\n",
        "\n",
        "## Comparison with other methods - CIFAR10\n",
        "\n",
        "This colab notebook contains the needed code to experiment with our proposed algorithm for comparison with competitive metohds on CIFAR10 dataset (Section 5.3).\n",
        "\n",
        "**How to use**\n",
        "\n",
        "1.   Upload the notebook to colab\n",
        "2.   Make sure that colab uses a GPU (Edit $\\rightarrow$ Notebook settings $\\rightarrow$ Hardware accelerator)\n",
        "\n",
        "**Downloading pretrained generators:**\n",
        "\n",
        "The pretrained image generators are stored in a [Google Drive](https://drive.google.com/drive/folders/1yN6WjMmc-pi3zHylF-I1jri7I2nZpsGJ?usp=sharing). This notebook mounts google drive and assumes that [this directory](https://drive.google.com/drive/folders/1yN6WjMmc-pi3zHylF-I1jri7I2nZpsGJ?usp=sharing) is located in your root folder in Google Drive. Therefore, please open the Google Drive's link and choose \"add a shortcut to drive\" and pick \"My Drive\" is the chosen location. By doing so, you are ready to go :)\n",
        "\n",
        "If you rather not to mount your google drive, download the files and edit the relevant checkpoint paths accordingly.\n",
        "\n",
        "**credits**\n",
        "\n",
        "This notebook uses the following packages:\n",
        "\n",
        "* [pfnet-researcrch](https://github.com/pfnet-research/sngan_projection) - For the official pretrained SN-ResNetGAN\n",
        "* [robustness](https://github.com/MadryLab/robustness) - For adversarially robust classifier\n",
        "* [torch fidelity](https://github.com/toshas/torch-fidelity) - For CIFAR-10 IS evaluation"
      ]
    },
    {
      "cell_type": "markdown",
      "metadata": {
        "id": "RUg7YZTf__Qd"
      },
      "source": [
        "# Setup & Installation"
      ]
    },
    {
      "cell_type": "code",
      "execution_count": null,
      "metadata": {
        "colab": {
          "background_save": true,
          "base_uri": "https://localhost:8080/"
        },
        "id": "lX8XxvIOWj5s",
        "outputId": "4ade4591-e8a8-4ec4-f90d-24d66a78d248"
      },
      "outputs": [
        {
          "name": "stdout",
          "output_type": "stream",
          "text": [
            "Looking in links: https://download.pytorch.org/whl/lts/1.8/torch_lts.html\n",
            "Collecting torch==1.8.2+cu102\n",
            "  Downloading https://download.pytorch.org/whl/lts/1.8/cu102/torch-1.8.2%2Bcu102-cp37-cp37m-linux_x86_64.whl (804.1 MB)\n",
            "\u001b[K     |████████████████████████████████| 804.1 MB 9.1 kB/s \n",
            "\u001b[?25hCollecting torchvision==0.9.2+cu102\n",
            "  Downloading https://download.pytorch.org/whl/lts/1.8/cu102/torchvision-0.9.2%2Bcu102-cp37-cp37m-linux_x86_64.whl (17.3 MB)\n",
            "\u001b[K     |████████████████████████████████| 17.3 MB 27.5 MB/s \n",
            "\u001b[?25hRequirement already satisfied: numpy in /usr/local/lib/python3.7/dist-packages (from torch==1.8.2+cu102) (1.21.6)\n",
            "Requirement already satisfied: typing-extensions in /usr/local/lib/python3.7/dist-packages (from torch==1.8.2+cu102) (4.2.0)\n",
            "Requirement already satisfied: pillow>=4.1.1 in /usr/local/lib/python3.7/dist-packages (from torchvision==0.9.2+cu102) (7.1.2)\n",
            "Installing collected packages: torch, torchvision\n",
            "  Attempting uninstall: torch\n",
            "    Found existing installation: torch 1.11.0+cu113\n",
            "    Uninstalling torch-1.11.0+cu113:\n",
            "      Successfully uninstalled torch-1.11.0+cu113\n",
            "  Attempting uninstall: torchvision\n",
            "    Found existing installation: torchvision 0.12.0+cu113\n",
            "    Uninstalling torchvision-0.12.0+cu113:\n",
            "      Successfully uninstalled torchvision-0.12.0+cu113\n",
            "\u001b[31mERROR: pip's dependency resolver does not currently take into account all the packages that are installed. This behaviour is the source of the following dependency conflicts.\n",
            "torchtext 0.12.0 requires torch==1.11.0, but you have torch 1.8.2+cu102 which is incompatible.\n",
            "torchaudio 0.11.0+cu113 requires torch==1.11.0, but you have torch 1.8.2+cu102 which is incompatible.\u001b[0m\n",
            "Successfully installed torch-1.8.2+cu102 torchvision-0.9.2+cu102\n"
          ]
        }
      ],
      "source": [
        "!pip install torch==1.8.2+cu102 torchvision==0.9.2+cu102 -f https://download.pytorch.org/whl/lts/1.8/torch_lts.html"
      ]
    },
    {
      "cell_type": "code",
      "execution_count": null,
      "metadata": {
        "id": "yOcqm8PCSLq9"
      },
      "outputs": [],
      "source": [
        "import torch\n",
        "import numpy as np\n",
        "\n",
        "torch.backends.cudnn.benchmark = False\n",
        "torch.backends.cudnn.deterministic = True\n",
        "\n",
        "torch.manual_seed(3407)\n",
        "np.random.seed(3407)"
      ]
    },
    {
      "cell_type": "code",
      "execution_count": null,
      "metadata": {
        "colab": {
          "base_uri": "https://localhost:8080/"
        },
        "id": "-GZjOk1WJdet",
        "outputId": "687d5730-f7a4-47c1-ec2b-58a3a176e72f"
      },
      "outputs": [
        {
          "name": "stdout",
          "output_type": "stream",
          "text": [
            "Mounted at /content/gdrive\n"
          ]
        }
      ],
      "source": [
        "from google.colab import drive\n",
        "drive.mount('/content/gdrive')"
      ]
    },
    {
      "cell_type": "code",
      "execution_count": null,
      "metadata": {
        "colab": {
          "base_uri": "https://localhost:8080/"
        },
        "id": "65YemMibJNbR",
        "outputId": "885b6956-3b94-4771-e157-694bfb38d26b"
      },
      "outputs": [
        {
          "name": "stdout",
          "output_type": "stream",
          "text": [
            "Cloning into 'sngan_projection'...\n",
            "remote: Enumerating objects: 310, done.\u001b[K\n",
            "remote: Total 310 (delta 0), reused 0 (delta 0), pack-reused 310\u001b[K\n",
            "Receiving objects: 100% (310/310), 6.13 MiB | 39.72 MiB/s, done.\n",
            "Resolving deltas: 100% (183/183), done.\n"
          ]
        }
      ],
      "source": [
        "!git clone https://github.com/pfnet-research/sngan_projection.git\n",
        "!mv sngan_projection/* ./"
      ]
    },
    {
      "cell_type": "code",
      "execution_count": null,
      "metadata": {
        "colab": {
          "base_uri": "https://localhost:8080/"
        },
        "id": "SAYQbDCoS05a",
        "outputId": "6b0c6c64-253f-43c3-8e8d-074414a3b3dc"
      },
      "outputs": [
        {
          "name": "stdout",
          "output_type": "stream",
          "text": [
            "  % Total    % Received % Xferd  Average Speed   Time    Time     Time  Current\n",
            "                                 Dload  Upload   Total   Spent    Left  Speed\n",
            "\r  0     0    0     0    0     0      0      0 --:--:-- --:--:-- --:--:--     0\r100  1580  100  1580    0     0   7559      0 --:--:-- --:--:-- --:--:--  7559\n",
            "+ apt -y -q install cuda-libraries-dev-10-0\n",
            "Reading package lists...\n",
            "Building dependency tree...\n",
            "Reading state information...\n",
            "cuda-libraries-dev-10-0 is already the newest version (10.0.130-1).\n",
            "0 upgraded, 0 newly installed, 0 to remove and 37 not upgraded.\n",
            "+ pip install -q cupy-cuda100 ==5.1.0 chainer ==5.1.0\n",
            "\u001b[K     |████████████████████████████████| 298.6 MB 15 kB/s \n",
            "\u001b[K     |████████████████████████████████| 513 kB 66.6 MB/s \n",
            "\u001b[?25h  Building wheel for chainer (setup.py) ... \u001b[?25l\u001b[?25hdone\n",
            "+ set +ex\n",
            "Installation succeeded!\n"
          ]
        }
      ],
      "source": [
        "!curl https://colab.chainer.org/install | CHAINER_VERSION=\"==5.1.0\" CUPY_VERSION=\"==5.1.0\" sh -"
      ]
    },
    {
      "cell_type": "code",
      "execution_count": null,
      "metadata": {
        "colab": {
          "base_uri": "https://localhost:8080/"
        },
        "id": "Cj56u7yCA0sh",
        "outputId": "7ca7a679-27cf-48a7-e294-8af06f975a45"
      },
      "outputs": [
        {
          "name": "stdout",
          "output_type": "stream",
          "text": [
            "Collecting torch-fidelity\n",
            "  Downloading torch_fidelity-0.3.0-py3-none-any.whl (37 kB)\n",
            "Requirement already satisfied: scipy in /usr/local/lib/python3.7/dist-packages (from torch-fidelity) (1.4.1)\n",
            "Requirement already satisfied: Pillow in /usr/local/lib/python3.7/dist-packages (from torch-fidelity) (7.1.2)\n",
            "Requirement already satisfied: torch in /usr/local/lib/python3.7/dist-packages (from torch-fidelity) (1.8.2+cu102)\n",
            "Requirement already satisfied: torchvision in /usr/local/lib/python3.7/dist-packages (from torch-fidelity) (0.9.2+cu102)\n",
            "Requirement already satisfied: tqdm in /usr/local/lib/python3.7/dist-packages (from torch-fidelity) (4.62.3)\n",
            "Requirement already satisfied: numpy in /usr/local/lib/python3.7/dist-packages (from torch-fidelity) (1.19.5)\n",
            "Requirement already satisfied: typing-extensions in /usr/local/lib/python3.7/dist-packages (from torch->torch-fidelity) (3.10.0.2)\n",
            "Installing collected packages: torch-fidelity\n",
            "Successfully installed torch-fidelity-0.3.0\n"
          ]
        }
      ],
      "source": [
        "!pip install torch-fidelity"
      ]
    },
    {
      "cell_type": "code",
      "execution_count": null,
      "metadata": {
        "id": "vbbxRA--P3iS"
      },
      "outputs": [],
      "source": [
        "import os, sys, time\n",
        "import shutil\n",
        "import numpy as np\n",
        "import argparse\n",
        "import chainer\n",
        "from PIL import Image\n",
        "from evaluation import gen_images_with_condition\n",
        "import yaml\n",
        "import source.yaml_utils as yaml_utils\n",
        "import torch\n",
        "\n",
        "\n",
        "def load_models(config):\n",
        "    gen_conf = config.models['generator']\n",
        "    gen = yaml_utils.load_model(gen_conf['fn'], gen_conf['name'], gen_conf['args'])\n",
        "    return gen\n",
        "\n",
        "\n",
        "parser = argparse.ArgumentParser()\n",
        "parser.add_argument('--config_path', type=str, default='configs/sn_cifar10_conditional.yml')\n",
        "parser.add_argument('--gpu', '-g', type=int, default=0)\n",
        "parser.add_argument('--results_dir', type=str, default='images')\n",
        "parser.add_argument('--snapshot', type=str, default='gdrive/MyDrive/ResNetGenerator_50000.npz')\n",
        "parser.add_argument('--rows', type=int, default=1)\n",
        "parser.add_argument('--columns', type=int, default=1)\n",
        "parser.add_argument('--classes', type=int, nargs=\"*\", default=None)\n",
        "args,_ = parser.parse_known_args()\n",
        "chainer.cuda.get_device_from_id(args.gpu).use()\n",
        "config = yaml_utils.Config(yaml.load(open(args.config_path)))\n",
        "# Model\n",
        "gen = load_models(config)\n",
        "gen.to_gpu(args.gpu)\n",
        "out = args.results_dir\n",
        "chainer.serializers.load_npz(args.snapshot, gen)\n",
        "np.random.seed(1)\n",
        "classes = tuple(args.classes) if args.classes is not None else np.arange(0, gen.n_classes, dtype=np.int32)\n",
        "\n",
        "gen_imgs = []\n",
        "\n",
        "for c in classes:\n",
        "    with chainer.using_config('train', False), chainer.using_config('enable_backprop', False):\n",
        "        x = gen_images_with_condition(gen, c=c, n=5000, batchsize=100)\n",
        "    _, _, h, w = x.shape\n",
        "    \n",
        "    x = x.transpose(0, 2, 3, 1)\n",
        "\n",
        "    for i in range(5000):\n",
        "      save_path = os.path.join(out, f'{str(c)}_{i}.png')\n",
        "      if not os.path.exists(out):\n",
        "          os.makedirs(out)\n",
        "      Image.fromarray(x[i]).save(save_path)\n",
        "      gen_imgs.append(torch.tensor(x[i: i+1]))\n",
        "#\n",
        "gen_imgs = torch.cat(gen_imgs)"
      ]
    },
    {
      "cell_type": "markdown",
      "metadata": {
        "id": "WynRFCJ4A5So"
      },
      "source": [
        "Evaluate Baseline"
      ]
    },
    {
      "cell_type": "code",
      "execution_count": null,
      "metadata": {
        "colab": {
          "base_uri": "https://localhost:8080/"
        },
        "id": "vhBtcmMwOqfZ",
        "outputId": "f57fd169-a901-4d91-c9eb-7a3ebb67ac94"
      },
      "outputs": [
        {
          "name": "stdout",
          "output_type": "stream",
          "text": [
            "Creating feature extractor \"inception-v3-compat\" with features ['logits_unbiased']\n",
            "Downloading: \"https://github.com/toshas/torch-fidelity/releases/download/v0.2.0/weights-inception-2015-12-05-6726825d.pth\" to /root/.cache/torch/hub/checkpoints/weights-inception-2015-12-05-6726825d.pth\n",
            "100% 91.2M/91.2M [00:03<00:00, 27.6MB/s]\n",
            "Extracting features from input1\n",
            "Looking for samples non-recursivelty in \"images/\" with extensions png,jpg,jpeg\n",
            "Found 50000 samples\n",
            "/usr/local/lib/python3.7/dist-packages/torch/utils/data/dataloader.py:477: UserWarning: This DataLoader will create 4 worker processes in total. Our suggested max number of worker in current system is 2, which is smaller than what this DataLoader is going to create. Please be aware that excessive worker creation might get DataLoader running slow or even freeze, lower the worker number to avoid potential slowness/freeze if necessary.\n",
            "  cpuset_checked))\n",
            "Processing samples\n",
            "Inception Score: 8.42419547380226 ± 0.10676806268476369\n",
            "inception_score_mean: 8.424195\n",
            "inception_score_std: 0.1067681\n"
          ]
        }
      ],
      "source": [
        "!fidelity --gpu 0 --isc --input1 images/"
      ]
    },
    {
      "cell_type": "code",
      "execution_count": null,
      "metadata": {
        "id": "QMEAQdMThq-l"
      },
      "outputs": [],
      "source": [
        "gen_imgs = gen_imgs / 255.\n",
        "gen_imgs = gen_imgs.permute(0,3,1,2)"
      ]
    },
    {
      "cell_type": "code",
      "execution_count": null,
      "metadata": {
        "id": "tKHwrpQDYAuQ"
      },
      "outputs": [],
      "source": [
        "labels = torch.ones(size=(50000,))\n",
        "for c in range(10):\n",
        "  labels[c*5000: (c+1) * 5000] = c\n",
        "labels = labels.int()"
      ]
    },
    {
      "cell_type": "markdown",
      "metadata": {
        "id": "jmGs3vELSwCV"
      },
      "source": [
        "# BIGRoC Utils"
      ]
    },
    {
      "cell_type": "code",
      "execution_count": null,
      "metadata": {
        "id": "gpVkxsQFSycf"
      },
      "outputs": [],
      "source": [
        "!pip install robustness"
      ]
    },
    {
      "cell_type": "code",
      "execution_count": null,
      "metadata": {
        "id": "PmR6k5t8S1op"
      },
      "outputs": [],
      "source": [
        "!wget http://andrewilyas.com/CIFAR.pt"
      ]
    },
    {
      "cell_type": "code",
      "execution_count": null,
      "metadata": {
        "id": "3dPHTuW-S6OM"
      },
      "outputs": [],
      "source": [
        "from robustness import model_utils, datasets\n",
        "import torch\n",
        "\n",
        "\n",
        "def create_dl_model(path, DATA='CIFAR', BATCH_SIZE=128, NUM_WORKERS=8):\n",
        "\n",
        "    # Load dataset\n",
        "    dataset_function = getattr(datasets, 'CIFAR')\n",
        "    dataset = dataset_function('data')\n",
        "    train_loader, test_loader = dataset.make_loaders(workers=NUM_WORKERS,\n",
        "                                          batch_size=BATCH_SIZE,\n",
        "                                          data_aug=False)\n",
        "    # Load model\n",
        "    model_kwargs = {\n",
        "        'arch': 'resnet50',\n",
        "        'dataset': dataset,\n",
        "        'resume_path': f'./{path}'\n",
        "    }\n",
        "    model, _ = model_utils.make_and_restore_model(**model_kwargs)\n",
        "    classifier = model.model\n",
        "    classifier.eval()\n",
        "\n",
        "    return classifier\n",
        "\n",
        "adv_l2_model = create_dl_model(path='CIFAR.pt') "
      ]
    },
    {
      "cell_type": "code",
      "execution_count": null,
      "metadata": {
        "id": "6SXxIRoXS6qI"
      },
      "outputs": [],
      "source": [
        "from torch import nn\n",
        "\n",
        "# simple Module to normalize an image\n",
        "class Normalize(nn.Module):\n",
        "    def __init__(self, mean, std):\n",
        "        super(Normalize, self).__init__()\n",
        "        self.mean = torch.Tensor(mean)\n",
        "        self.std = torch.Tensor(std)\n",
        "    def forward(self, x):\n",
        "        return (x - self.mean.type_as(x)[None, :, None, None]) / self.std.type_as(x)[None, :, None, None]\n",
        "\n",
        "norm = Normalize(mean=[0.4914, 0.4822, 0.4465], std=[0.2023, 0.1994, 0.2010])"
      ]
    },
    {
      "cell_type": "code",
      "execution_count": null,
      "metadata": {
        "id": "SmNxkl7cS9Y4"
      },
      "outputs": [],
      "source": [
        "import torch\n",
        "from torch import nn\n",
        "\n",
        "\n",
        "class AttackerStep:\n",
        "    '''\n",
        "    Generic class for attacker steps, under perturbation constraints\n",
        "    specified by an \"origin input\" and a perturbation magnitude.\n",
        "    Must implement project, step, and random_perturb\n",
        "    '''\n",
        "\n",
        "    def __init__(self, orig_input, eps, step_size, use_grad=True):\n",
        "        '''\n",
        "        Initialize the attacker step with a given perturbation magnitude.\n",
        "        Args:\n",
        "            eps (float): the perturbation magnitude\n",
        "            orig_input (ch.tensor): the original input\n",
        "        '''\n",
        "        self.orig_input = orig_input\n",
        "        self.eps = eps\n",
        "        self.step_size = step_size\n",
        "        self.use_grad = use_grad\n",
        "\n",
        "    def project(self, x):\n",
        "        '''\n",
        "        Given an input x, project it back into the feasible set\n",
        "        Args:\n",
        "            ch.tensor x : the input to project back into the feasible set.\n",
        "        Returns:\n",
        "            A `ch.tensor` that is the input projected back into\n",
        "            the feasible set, that is,\n",
        "        .. math:: \\min_{x' \\in S} \\|x' - x\\|_2\n",
        "        '''\n",
        "        raise NotImplementedError\n",
        "\n",
        "    def step(self, x, g):\n",
        "        '''\n",
        "        Given a gradient, make the appropriate step according to the\n",
        "        perturbation constraint (e.g. dual norm maximization for :math:`\\ell_p`\n",
        "        norms).\n",
        "        Parameters:\n",
        "            g (ch.tensor): the raw gradient\n",
        "        Returns:\n",
        "            The new input, a ch.tensor for the next step.\n",
        "        '''\n",
        "        raise NotImplementedError\n",
        "\n",
        "    def random_perturb(self, x):\n",
        "        '''\n",
        "        Given a starting input, take a random step within the feasible set\n",
        "        '''\n",
        "        raise NotImplementedError\n",
        "\n",
        "    def to_image(self, x):\n",
        "        '''\n",
        "        Given an input (which may be in an alternative parameterization),\n",
        "        convert it to a valid image (this is implemented as the identity\n",
        "        function by default as most of the time we use the pixel\n",
        "        parameterization, but for alternative parameterizations this functino\n",
        "        must be overriden).\n",
        "        '''\n",
        "        return x\n",
        "\n",
        "\n",
        "# L2 threat model\n",
        "class L2Step(AttackerStep):\n",
        "    \"\"\"\n",
        "    Attack step for :math:`\\ell_\\infty` threat model. Given :math:`x_0`\n",
        "    and :math:`\\epsilon`, the constraint set is given by:\n",
        "    .. math:: S = \\{x | \\|x - x_0\\|_2 \\leq \\epsilon\\}\n",
        "    \"\"\"\n",
        "\n",
        "    def project(self, x):\n",
        "        \"\"\"\n",
        "        \"\"\"\n",
        "        if self.orig_input is None: self.orig_input = x.detach()\n",
        "        self.orig_input = self.orig_input.cuda()\n",
        "        diff = x - self.orig_input\n",
        "        diff = diff.renorm(p=2, dim=0, maxnorm=self.eps)\n",
        "        return torch.clamp(self.orig_input + diff, 0, 1)\n",
        "\n",
        "    def step(self, x, g):\n",
        "        \"\"\"\n",
        "        \"\"\"\n",
        "        l = len(x.shape) - 1\n",
        "        g_norm = torch.norm(g.reshape(g.shape[0], -1), dim=1).view(-1, *([1] * l))\n",
        "        scaled_g = g / (g_norm + 1e-10)\n",
        "        return x + scaled_g * self.step_size\n",
        "\n",
        "\n",
        "def targeted_pgd_l2(model, X, y, num_iter, eps=30, step_size=0.5):\n",
        "    steper = L2Step(eps=eps, orig_input=None, step_size=step_size)\n",
        "    for t in range(num_iter):\n",
        "        X = X.clone().detach().requires_grad_(True).cuda()\n",
        "        loss = nn.CrossEntropyLoss(reduction='none')(model(norm(X)), y)\n",
        "        loss = torch.mean(loss)\n",
        "        grad, = torch.autograd.grad(-1 * loss, [X])\n",
        "        X = steper.step(X, grad)\n",
        "        X = steper.project(X)\n",
        "    return X.detach()"
      ]
    },
    {
      "cell_type": "markdown",
      "metadata": {
        "id": "YbR7blfJCcZQ"
      },
      "source": [
        "# BIGRoC Application"
      ]
    },
    {
      "cell_type": "code",
      "execution_count": null,
      "metadata": {
        "colab": {
          "base_uri": "https://localhost:8080/",
          "height": 49,
          "referenced_widgets": [
            "b330ce0815ea4901be5870643947fc4a",
            "04290cb83d5241f0aef866e5c1f4be47",
            "09416ce5db9f4d879ed8ca2982eb2d42",
            "38ff8e660f754d3c982bcb1d6dc1c344",
            "e5c77d42035d44b18e9d32eb04dec179",
            "5f703582bebd4bafaf4db92dde06e094",
            "d7d4f446549d4617a38812f03dbda88c",
            "e70cd52de5984053837fbf8e99309776",
            "49fde8ec581d46a1815237ae8d4300ad",
            "92452fcc09b1453496c87bb5364a5a2a",
            "8c8882688fed4eee8a24a3722f547295"
          ]
        },
        "id": "Fht2oRlMZO0h",
        "outputId": "f22b65aa-9e3e-4516-a929-22cae096da0f"
      },
      "outputs": [
        {
          "data": {
            "application/vnd.jupyter.widget-view+json": {
              "model_id": "b330ce0815ea4901be5870643947fc4a",
              "version_major": 2,
              "version_minor": 0
            },
            "text/plain": [
              "  0%|          | 0/500 [00:00<?, ?it/s]"
            ]
          },
          "metadata": {},
          "output_type": "display_data"
        }
      ],
      "source": [
        "from tqdm.notebook import tqdm\n",
        "\n",
        "\n",
        "eps = 1.8\n",
        "num_steps = 7\n",
        "step_size = 1.5 * eps / num_steps\n",
        "\n",
        "\n",
        "boosted_imgs = []\n",
        "b_size = 100\n",
        "num_b = 50000 // b_size\n",
        "for i in tqdm(range(num_b)):\n",
        "  x, y = gen_imgs[i * b_size: (i + 1) * b_size].cuda(), labels[i * b_size: (i + 1) * b_size].cuda()\n",
        "  gen_imgs_boosted = targeted_pgd_l2(model=adv_l2_model, X=x.data, y=y.long(), num_iter=num_steps, eps=eps, step_size=step_size)\n",
        "  boosted_imgs.append(gen_imgs_boosted)"
      ]
    },
    {
      "cell_type": "code",
      "execution_count": null,
      "metadata": {
        "id": "lKYmfagwS6qM"
      },
      "outputs": [],
      "source": [
        "import matplotlib.pyplot as plt\n",
        "\n",
        "idx = 7\n",
        "\n",
        "plt.figure()\n",
        "plt.imshow(boosted_imgs[0][idx].permute(1,2,0).detach().cpu().numpy())\n",
        "\n",
        "plt.figure()\n",
        "plt.imshow(gen_imgs[idx].permute(1,2,0).detach().cpu().numpy())\n",
        "\n",
        "plt.figure()\n",
        "plt.imshow((boosted_imgs[0][idx] - gen_imgs[idx].cuda()).permute(1,2,0).detach().cpu().numpy())"
      ]
    },
    {
      "cell_type": "code",
      "execution_count": null,
      "metadata": {
        "id": "OGhTmEfMbix8"
      },
      "outputs": [],
      "source": [
        "X_boost = torch.cat(boosted_imgs)\n",
        "X_boost = X_boost[:(num_b * b_size)]\n",
        "X_boost = (X_boost * 255).int()\n",
        "X_boost = X_boost.detach().cpu().permute(0,2,3,1).numpy()\n",
        "X_boost = X_boost.astype(np.uint8)"
      ]
    },
    {
      "cell_type": "code",
      "execution_count": null,
      "metadata": {
        "colab": {
          "base_uri": "https://localhost:8080/",
          "height": 49,
          "referenced_widgets": [
            "e9fccd8005de4f18b2143574082f97f3",
            "9828c98c81c440c38dcfae6ad2bd3463",
            "a78057d056a64159be6d611ebb005434",
            "2a7ee1796ee44642aeea8c25de6e0afb",
            "e48a6521e40f40139151446256514016",
            "de925e70b464478d8fc948635a442ff0",
            "e321e23664e24b95aa2e3c83be051ad5",
            "7c4fcf3f07b841e782a0044b2ef18030",
            "4731e41e644a45b1a3d700e0c84332ca",
            "4efb4c82e1584ed88e3465961c813efe",
            "c3fb41ee29e840c197d91477dd509b81"
          ]
        },
        "id": "5qjoCHNrbUXz",
        "outputId": "87ffecd2-a522-4df9-c671-986aab24f229"
      },
      "outputs": [
        {
          "data": {
            "application/vnd.jupyter.widget-view+json": {
              "model_id": "e9fccd8005de4f18b2143574082f97f3",
              "version_major": 2,
              "version_minor": 0
            },
            "text/plain": [
              "0it [00:00, ?it/s]"
            ]
          },
          "metadata": {},
          "output_type": "display_data"
        }
      ],
      "source": [
        "for i, img in tqdm(enumerate(X_boost)):\n",
        "  save_path = os.path.join(f'boosted_images_eps_{eps}', f'{i}.png')\n",
        "  if not os.path.exists(f'boosted_images_eps_{eps}'):\n",
        "      os.makedirs(f'boosted_images_eps_{eps}')\n",
        "  Image.fromarray(img).save(save_path)"
      ]
    },
    {
      "cell_type": "code",
      "execution_count": null,
      "metadata": {
        "colab": {
          "base_uri": "https://localhost:8080/"
        },
        "id": "NA0H9a3-bKaS",
        "outputId": "c21d8903-2b26-41df-e23f-208462b99848"
      },
      "outputs": [
        {
          "name": "stdout",
          "output_type": "stream",
          "text": [
            "Creating feature extractor \"inception-v3-compat\" with features ['logits_unbiased']\n",
            "Extracting features from input1\n",
            "Looking for samples non-recursivelty in \"boosted_images_eps_1.8/\" with extensions png,jpg,jpeg\n",
            "Found 50000 samples\n",
            "/usr/local/lib/python3.7/dist-packages/torch/utils/data/dataloader.py:477: UserWarning: This DataLoader will create 4 worker processes in total. Our suggested max number of worker in current system is 2, which is smaller than what this DataLoader is going to create. Please be aware that excessive worker creation might get DataLoader running slow or even freeze, lower the worker number to avoid potential slowness/freeze if necessary.\n",
            "  cpuset_checked))\n",
            "Processing samples\n",
            "Inception Score: 9.333590194871679 ± 0.08018190897178912\n",
            "inception_score_mean: 9.33359\n",
            "inception_score_std: 0.08018191\n"
          ]
        }
      ],
      "source": [
        "!fidelity --gpu 0 --isc --input1 boosted_images_eps_1.8/"
      ]
    }
  ],
  "metadata": {
    "accelerator": "GPU",
    "colab": {
      "collapsed_sections": [],
      "name": "BIGRoC_comparison_cifar.ipynb",
      "provenance": []
    },
    "kernelspec": {
      "display_name": "Python 3",
      "name": "python3"
    },
    "language_info": {
      "name": "python"
    },
    "widgets": {
      "application/vnd.jupyter.widget-state+json": {
        "04290cb83d5241f0aef866e5c1f4be47": {
          "model_module": "@jupyter-widgets/controls",
          "model_module_version": "1.5.0",
          "model_name": "HTMLModel",
          "state": {
            "_dom_classes": [],
            "_model_module": "@jupyter-widgets/controls",
            "_model_module_version": "1.5.0",
            "_model_name": "HTMLModel",
            "_view_count": null,
            "_view_module": "@jupyter-widgets/controls",
            "_view_module_version": "1.5.0",
            "_view_name": "HTMLView",
            "description": "",
            "description_tooltip": null,
            "layout": "IPY_MODEL_5f703582bebd4bafaf4db92dde06e094",
            "placeholder": "​",
            "style": "IPY_MODEL_d7d4f446549d4617a38812f03dbda88c",
            "value": "100%"
          }
        },
        "09416ce5db9f4d879ed8ca2982eb2d42": {
          "model_module": "@jupyter-widgets/controls",
          "model_module_version": "1.5.0",
          "model_name": "FloatProgressModel",
          "state": {
            "_dom_classes": [],
            "_model_module": "@jupyter-widgets/controls",
            "_model_module_version": "1.5.0",
            "_model_name": "FloatProgressModel",
            "_view_count": null,
            "_view_module": "@jupyter-widgets/controls",
            "_view_module_version": "1.5.0",
            "_view_name": "ProgressView",
            "bar_style": "success",
            "description": "",
            "description_tooltip": null,
            "layout": "IPY_MODEL_e70cd52de5984053837fbf8e99309776",
            "max": 500,
            "min": 0,
            "orientation": "horizontal",
            "style": "IPY_MODEL_49fde8ec581d46a1815237ae8d4300ad",
            "value": 500
          }
        },
        "2a7ee1796ee44642aeea8c25de6e0afb": {
          "model_module": "@jupyter-widgets/controls",
          "model_module_version": "1.5.0",
          "model_name": "HTMLModel",
          "state": {
            "_dom_classes": [],
            "_model_module": "@jupyter-widgets/controls",
            "_model_module_version": "1.5.0",
            "_model_name": "HTMLModel",
            "_view_count": null,
            "_view_module": "@jupyter-widgets/controls",
            "_view_module_version": "1.5.0",
            "_view_name": "HTMLView",
            "description": "",
            "description_tooltip": null,
            "layout": "IPY_MODEL_4efb4c82e1584ed88e3465961c813efe",
            "placeholder": "​",
            "style": "IPY_MODEL_c3fb41ee29e840c197d91477dd509b81",
            "value": " 50000/? [00:15&lt;00:00, 3281.96it/s]"
          }
        },
        "38ff8e660f754d3c982bcb1d6dc1c344": {
          "model_module": "@jupyter-widgets/controls",
          "model_module_version": "1.5.0",
          "model_name": "HTMLModel",
          "state": {
            "_dom_classes": [],
            "_model_module": "@jupyter-widgets/controls",
            "_model_module_version": "1.5.0",
            "_model_name": "HTMLModel",
            "_view_count": null,
            "_view_module": "@jupyter-widgets/controls",
            "_view_module_version": "1.5.0",
            "_view_name": "HTMLView",
            "description": "",
            "description_tooltip": null,
            "layout": "IPY_MODEL_92452fcc09b1453496c87bb5364a5a2a",
            "placeholder": "​",
            "style": "IPY_MODEL_8c8882688fed4eee8a24a3722f547295",
            "value": " 500/500 [21:48&lt;00:00,  2.62s/it]"
          }
        },
        "4731e41e644a45b1a3d700e0c84332ca": {
          "model_module": "@jupyter-widgets/controls",
          "model_module_version": "1.5.0",
          "model_name": "ProgressStyleModel",
          "state": {
            "_model_module": "@jupyter-widgets/controls",
            "_model_module_version": "1.5.0",
            "_model_name": "ProgressStyleModel",
            "_view_count": null,
            "_view_module": "@jupyter-widgets/base",
            "_view_module_version": "1.2.0",
            "_view_name": "StyleView",
            "bar_color": null,
            "description_width": ""
          }
        },
        "49fde8ec581d46a1815237ae8d4300ad": {
          "model_module": "@jupyter-widgets/controls",
          "model_module_version": "1.5.0",
          "model_name": "ProgressStyleModel",
          "state": {
            "_model_module": "@jupyter-widgets/controls",
            "_model_module_version": "1.5.0",
            "_model_name": "ProgressStyleModel",
            "_view_count": null,
            "_view_module": "@jupyter-widgets/base",
            "_view_module_version": "1.2.0",
            "_view_name": "StyleView",
            "bar_color": null,
            "description_width": ""
          }
        },
        "4efb4c82e1584ed88e3465961c813efe": {
          "model_module": "@jupyter-widgets/base",
          "model_module_version": "1.2.0",
          "model_name": "LayoutModel",
          "state": {
            "_model_module": "@jupyter-widgets/base",
            "_model_module_version": "1.2.0",
            "_model_name": "LayoutModel",
            "_view_count": null,
            "_view_module": "@jupyter-widgets/base",
            "_view_module_version": "1.2.0",
            "_view_name": "LayoutView",
            "align_content": null,
            "align_items": null,
            "align_self": null,
            "border": null,
            "bottom": null,
            "display": null,
            "flex": null,
            "flex_flow": null,
            "grid_area": null,
            "grid_auto_columns": null,
            "grid_auto_flow": null,
            "grid_auto_rows": null,
            "grid_column": null,
            "grid_gap": null,
            "grid_row": null,
            "grid_template_areas": null,
            "grid_template_columns": null,
            "grid_template_rows": null,
            "height": null,
            "justify_content": null,
            "justify_items": null,
            "left": null,
            "margin": null,
            "max_height": null,
            "max_width": null,
            "min_height": null,
            "min_width": null,
            "object_fit": null,
            "object_position": null,
            "order": null,
            "overflow": null,
            "overflow_x": null,
            "overflow_y": null,
            "padding": null,
            "right": null,
            "top": null,
            "visibility": null,
            "width": null
          }
        },
        "5f703582bebd4bafaf4db92dde06e094": {
          "model_module": "@jupyter-widgets/base",
          "model_module_version": "1.2.0",
          "model_name": "LayoutModel",
          "state": {
            "_model_module": "@jupyter-widgets/base",
            "_model_module_version": "1.2.0",
            "_model_name": "LayoutModel",
            "_view_count": null,
            "_view_module": "@jupyter-widgets/base",
            "_view_module_version": "1.2.0",
            "_view_name": "LayoutView",
            "align_content": null,
            "align_items": null,
            "align_self": null,
            "border": null,
            "bottom": null,
            "display": null,
            "flex": null,
            "flex_flow": null,
            "grid_area": null,
            "grid_auto_columns": null,
            "grid_auto_flow": null,
            "grid_auto_rows": null,
            "grid_column": null,
            "grid_gap": null,
            "grid_row": null,
            "grid_template_areas": null,
            "grid_template_columns": null,
            "grid_template_rows": null,
            "height": null,
            "justify_content": null,
            "justify_items": null,
            "left": null,
            "margin": null,
            "max_height": null,
            "max_width": null,
            "min_height": null,
            "min_width": null,
            "object_fit": null,
            "object_position": null,
            "order": null,
            "overflow": null,
            "overflow_x": null,
            "overflow_y": null,
            "padding": null,
            "right": null,
            "top": null,
            "visibility": null,
            "width": null
          }
        },
        "7c4fcf3f07b841e782a0044b2ef18030": {
          "model_module": "@jupyter-widgets/base",
          "model_module_version": "1.2.0",
          "model_name": "LayoutModel",
          "state": {
            "_model_module": "@jupyter-widgets/base",
            "_model_module_version": "1.2.0",
            "_model_name": "LayoutModel",
            "_view_count": null,
            "_view_module": "@jupyter-widgets/base",
            "_view_module_version": "1.2.0",
            "_view_name": "LayoutView",
            "align_content": null,
            "align_items": null,
            "align_self": null,
            "border": null,
            "bottom": null,
            "display": null,
            "flex": null,
            "flex_flow": null,
            "grid_area": null,
            "grid_auto_columns": null,
            "grid_auto_flow": null,
            "grid_auto_rows": null,
            "grid_column": null,
            "grid_gap": null,
            "grid_row": null,
            "grid_template_areas": null,
            "grid_template_columns": null,
            "grid_template_rows": null,
            "height": null,
            "justify_content": null,
            "justify_items": null,
            "left": null,
            "margin": null,
            "max_height": null,
            "max_width": null,
            "min_height": null,
            "min_width": null,
            "object_fit": null,
            "object_position": null,
            "order": null,
            "overflow": null,
            "overflow_x": null,
            "overflow_y": null,
            "padding": null,
            "right": null,
            "top": null,
            "visibility": null,
            "width": "20px"
          }
        },
        "8c8882688fed4eee8a24a3722f547295": {
          "model_module": "@jupyter-widgets/controls",
          "model_module_version": "1.5.0",
          "model_name": "DescriptionStyleModel",
          "state": {
            "_model_module": "@jupyter-widgets/controls",
            "_model_module_version": "1.5.0",
            "_model_name": "DescriptionStyleModel",
            "_view_count": null,
            "_view_module": "@jupyter-widgets/base",
            "_view_module_version": "1.2.0",
            "_view_name": "StyleView",
            "description_width": ""
          }
        },
        "92452fcc09b1453496c87bb5364a5a2a": {
          "model_module": "@jupyter-widgets/base",
          "model_module_version": "1.2.0",
          "model_name": "LayoutModel",
          "state": {
            "_model_module": "@jupyter-widgets/base",
            "_model_module_version": "1.2.0",
            "_model_name": "LayoutModel",
            "_view_count": null,
            "_view_module": "@jupyter-widgets/base",
            "_view_module_version": "1.2.0",
            "_view_name": "LayoutView",
            "align_content": null,
            "align_items": null,
            "align_self": null,
            "border": null,
            "bottom": null,
            "display": null,
            "flex": null,
            "flex_flow": null,
            "grid_area": null,
            "grid_auto_columns": null,
            "grid_auto_flow": null,
            "grid_auto_rows": null,
            "grid_column": null,
            "grid_gap": null,
            "grid_row": null,
            "grid_template_areas": null,
            "grid_template_columns": null,
            "grid_template_rows": null,
            "height": null,
            "justify_content": null,
            "justify_items": null,
            "left": null,
            "margin": null,
            "max_height": null,
            "max_width": null,
            "min_height": null,
            "min_width": null,
            "object_fit": null,
            "object_position": null,
            "order": null,
            "overflow": null,
            "overflow_x": null,
            "overflow_y": null,
            "padding": null,
            "right": null,
            "top": null,
            "visibility": null,
            "width": null
          }
        },
        "9828c98c81c440c38dcfae6ad2bd3463": {
          "model_module": "@jupyter-widgets/controls",
          "model_module_version": "1.5.0",
          "model_name": "HTMLModel",
          "state": {
            "_dom_classes": [],
            "_model_module": "@jupyter-widgets/controls",
            "_model_module_version": "1.5.0",
            "_model_name": "HTMLModel",
            "_view_count": null,
            "_view_module": "@jupyter-widgets/controls",
            "_view_module_version": "1.5.0",
            "_view_name": "HTMLView",
            "description": "",
            "description_tooltip": null,
            "layout": "IPY_MODEL_de925e70b464478d8fc948635a442ff0",
            "placeholder": "​",
            "style": "IPY_MODEL_e321e23664e24b95aa2e3c83be051ad5",
            "value": ""
          }
        },
        "a78057d056a64159be6d611ebb005434": {
          "model_module": "@jupyter-widgets/controls",
          "model_module_version": "1.5.0",
          "model_name": "FloatProgressModel",
          "state": {
            "_dom_classes": [],
            "_model_module": "@jupyter-widgets/controls",
            "_model_module_version": "1.5.0",
            "_model_name": "FloatProgressModel",
            "_view_count": null,
            "_view_module": "@jupyter-widgets/controls",
            "_view_module_version": "1.5.0",
            "_view_name": "ProgressView",
            "bar_style": "success",
            "description": "",
            "description_tooltip": null,
            "layout": "IPY_MODEL_7c4fcf3f07b841e782a0044b2ef18030",
            "max": 1,
            "min": 0,
            "orientation": "horizontal",
            "style": "IPY_MODEL_4731e41e644a45b1a3d700e0c84332ca",
            "value": 1
          }
        },
        "b330ce0815ea4901be5870643947fc4a": {
          "model_module": "@jupyter-widgets/controls",
          "model_module_version": "1.5.0",
          "model_name": "HBoxModel",
          "state": {
            "_dom_classes": [],
            "_model_module": "@jupyter-widgets/controls",
            "_model_module_version": "1.5.0",
            "_model_name": "HBoxModel",
            "_view_count": null,
            "_view_module": "@jupyter-widgets/controls",
            "_view_module_version": "1.5.0",
            "_view_name": "HBoxView",
            "box_style": "",
            "children": [
              "IPY_MODEL_04290cb83d5241f0aef866e5c1f4be47",
              "IPY_MODEL_09416ce5db9f4d879ed8ca2982eb2d42",
              "IPY_MODEL_38ff8e660f754d3c982bcb1d6dc1c344"
            ],
            "layout": "IPY_MODEL_e5c77d42035d44b18e9d32eb04dec179"
          }
        },
        "c3fb41ee29e840c197d91477dd509b81": {
          "model_module": "@jupyter-widgets/controls",
          "model_module_version": "1.5.0",
          "model_name": "DescriptionStyleModel",
          "state": {
            "_model_module": "@jupyter-widgets/controls",
            "_model_module_version": "1.5.0",
            "_model_name": "DescriptionStyleModel",
            "_view_count": null,
            "_view_module": "@jupyter-widgets/base",
            "_view_module_version": "1.2.0",
            "_view_name": "StyleView",
            "description_width": ""
          }
        },
        "d7d4f446549d4617a38812f03dbda88c": {
          "model_module": "@jupyter-widgets/controls",
          "model_module_version": "1.5.0",
          "model_name": "DescriptionStyleModel",
          "state": {
            "_model_module": "@jupyter-widgets/controls",
            "_model_module_version": "1.5.0",
            "_model_name": "DescriptionStyleModel",
            "_view_count": null,
            "_view_module": "@jupyter-widgets/base",
            "_view_module_version": "1.2.0",
            "_view_name": "StyleView",
            "description_width": ""
          }
        },
        "de925e70b464478d8fc948635a442ff0": {
          "model_module": "@jupyter-widgets/base",
          "model_module_version": "1.2.0",
          "model_name": "LayoutModel",
          "state": {
            "_model_module": "@jupyter-widgets/base",
            "_model_module_version": "1.2.0",
            "_model_name": "LayoutModel",
            "_view_count": null,
            "_view_module": "@jupyter-widgets/base",
            "_view_module_version": "1.2.0",
            "_view_name": "LayoutView",
            "align_content": null,
            "align_items": null,
            "align_self": null,
            "border": null,
            "bottom": null,
            "display": null,
            "flex": null,
            "flex_flow": null,
            "grid_area": null,
            "grid_auto_columns": null,
            "grid_auto_flow": null,
            "grid_auto_rows": null,
            "grid_column": null,
            "grid_gap": null,
            "grid_row": null,
            "grid_template_areas": null,
            "grid_template_columns": null,
            "grid_template_rows": null,
            "height": null,
            "justify_content": null,
            "justify_items": null,
            "left": null,
            "margin": null,
            "max_height": null,
            "max_width": null,
            "min_height": null,
            "min_width": null,
            "object_fit": null,
            "object_position": null,
            "order": null,
            "overflow": null,
            "overflow_x": null,
            "overflow_y": null,
            "padding": null,
            "right": null,
            "top": null,
            "visibility": null,
            "width": null
          }
        },
        "e321e23664e24b95aa2e3c83be051ad5": {
          "model_module": "@jupyter-widgets/controls",
          "model_module_version": "1.5.0",
          "model_name": "DescriptionStyleModel",
          "state": {
            "_model_module": "@jupyter-widgets/controls",
            "_model_module_version": "1.5.0",
            "_model_name": "DescriptionStyleModel",
            "_view_count": null,
            "_view_module": "@jupyter-widgets/base",
            "_view_module_version": "1.2.0",
            "_view_name": "StyleView",
            "description_width": ""
          }
        },
        "e48a6521e40f40139151446256514016": {
          "model_module": "@jupyter-widgets/base",
          "model_module_version": "1.2.0",
          "model_name": "LayoutModel",
          "state": {
            "_model_module": "@jupyter-widgets/base",
            "_model_module_version": "1.2.0",
            "_model_name": "LayoutModel",
            "_view_count": null,
            "_view_module": "@jupyter-widgets/base",
            "_view_module_version": "1.2.0",
            "_view_name": "LayoutView",
            "align_content": null,
            "align_items": null,
            "align_self": null,
            "border": null,
            "bottom": null,
            "display": null,
            "flex": null,
            "flex_flow": null,
            "grid_area": null,
            "grid_auto_columns": null,
            "grid_auto_flow": null,
            "grid_auto_rows": null,
            "grid_column": null,
            "grid_gap": null,
            "grid_row": null,
            "grid_template_areas": null,
            "grid_template_columns": null,
            "grid_template_rows": null,
            "height": null,
            "justify_content": null,
            "justify_items": null,
            "left": null,
            "margin": null,
            "max_height": null,
            "max_width": null,
            "min_height": null,
            "min_width": null,
            "object_fit": null,
            "object_position": null,
            "order": null,
            "overflow": null,
            "overflow_x": null,
            "overflow_y": null,
            "padding": null,
            "right": null,
            "top": null,
            "visibility": null,
            "width": null
          }
        },
        "e5c77d42035d44b18e9d32eb04dec179": {
          "model_module": "@jupyter-widgets/base",
          "model_module_version": "1.2.0",
          "model_name": "LayoutModel",
          "state": {
            "_model_module": "@jupyter-widgets/base",
            "_model_module_version": "1.2.0",
            "_model_name": "LayoutModel",
            "_view_count": null,
            "_view_module": "@jupyter-widgets/base",
            "_view_module_version": "1.2.0",
            "_view_name": "LayoutView",
            "align_content": null,
            "align_items": null,
            "align_self": null,
            "border": null,
            "bottom": null,
            "display": null,
            "flex": null,
            "flex_flow": null,
            "grid_area": null,
            "grid_auto_columns": null,
            "grid_auto_flow": null,
            "grid_auto_rows": null,
            "grid_column": null,
            "grid_gap": null,
            "grid_row": null,
            "grid_template_areas": null,
            "grid_template_columns": null,
            "grid_template_rows": null,
            "height": null,
            "justify_content": null,
            "justify_items": null,
            "left": null,
            "margin": null,
            "max_height": null,
            "max_width": null,
            "min_height": null,
            "min_width": null,
            "object_fit": null,
            "object_position": null,
            "order": null,
            "overflow": null,
            "overflow_x": null,
            "overflow_y": null,
            "padding": null,
            "right": null,
            "top": null,
            "visibility": null,
            "width": null
          }
        },
        "e70cd52de5984053837fbf8e99309776": {
          "model_module": "@jupyter-widgets/base",
          "model_module_version": "1.2.0",
          "model_name": "LayoutModel",
          "state": {
            "_model_module": "@jupyter-widgets/base",
            "_model_module_version": "1.2.0",
            "_model_name": "LayoutModel",
            "_view_count": null,
            "_view_module": "@jupyter-widgets/base",
            "_view_module_version": "1.2.0",
            "_view_name": "LayoutView",
            "align_content": null,
            "align_items": null,
            "align_self": null,
            "border": null,
            "bottom": null,
            "display": null,
            "flex": null,
            "flex_flow": null,
            "grid_area": null,
            "grid_auto_columns": null,
            "grid_auto_flow": null,
            "grid_auto_rows": null,
            "grid_column": null,
            "grid_gap": null,
            "grid_row": null,
            "grid_template_areas": null,
            "grid_template_columns": null,
            "grid_template_rows": null,
            "height": null,
            "justify_content": null,
            "justify_items": null,
            "left": null,
            "margin": null,
            "max_height": null,
            "max_width": null,
            "min_height": null,
            "min_width": null,
            "object_fit": null,
            "object_position": null,
            "order": null,
            "overflow": null,
            "overflow_x": null,
            "overflow_y": null,
            "padding": null,
            "right": null,
            "top": null,
            "visibility": null,
            "width": null
          }
        },
        "e9fccd8005de4f18b2143574082f97f3": {
          "model_module": "@jupyter-widgets/controls",
          "model_module_version": "1.5.0",
          "model_name": "HBoxModel",
          "state": {
            "_dom_classes": [],
            "_model_module": "@jupyter-widgets/controls",
            "_model_module_version": "1.5.0",
            "_model_name": "HBoxModel",
            "_view_count": null,
            "_view_module": "@jupyter-widgets/controls",
            "_view_module_version": "1.5.0",
            "_view_name": "HBoxView",
            "box_style": "",
            "children": [
              "IPY_MODEL_9828c98c81c440c38dcfae6ad2bd3463",
              "IPY_MODEL_a78057d056a64159be6d611ebb005434",
              "IPY_MODEL_2a7ee1796ee44642aeea8c25de6e0afb"
            ],
            "layout": "IPY_MODEL_e48a6521e40f40139151446256514016"
          }
        }
      }
    }
  },
  "nbformat": 4,
  "nbformat_minor": 0
}