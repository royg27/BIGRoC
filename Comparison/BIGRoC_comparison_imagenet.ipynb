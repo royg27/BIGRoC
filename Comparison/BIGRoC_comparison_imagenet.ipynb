{
 "nbformat": 4,
 "nbformat_minor": 0,
 "metadata": {
  "colab": {
   "name": "BIGRoC_comparison_IN.ipynb",
   "provenance": [],
   "machine_shape": "hm",
   "authorship_tag": "ABX9TyNa9RjrrR+nEVTv/65n/IKs",
   "include_colab_link": true
  },
  "kernelspec": {
   "name": "python3",
   "display_name": "Python 3"
  },
  "language_info": {
   "name": "python"
  },
  "accelerator": "GPU",
  "widgets": {
   "application/vnd.jupyter.widget-state+json": {
    "18d61188c80a4acd8a4587f0d2f35e9b": {
     "model_module": "@jupyter-widgets/controls",
     "model_name": "HBoxModel",
     "model_module_version": "1.5.0",
     "state": {
      "_view_name": "HBoxView",
      "_dom_classes": [],
      "_model_name": "HBoxModel",
      "_view_module": "@jupyter-widgets/controls",
      "_model_module_version": "1.5.0",
      "_view_count": null,
      "_view_module_version": "1.5.0",
      "box_style": "",
      "layout": "IPY_MODEL_0c70fcedc6324ec4bc378745ab7c1475",
      "_model_module": "@jupyter-widgets/controls",
      "children": [
       "IPY_MODEL_8bf44868793449ce9eed3a3ebe6876dc",
       "IPY_MODEL_91aac72499e54e4ba5f7e0e2b3a79aba",
       "IPY_MODEL_c119bcd5be014922b4b4bcdf287f8025"
      ]
     }
    },
    "0c70fcedc6324ec4bc378745ab7c1475": {
     "model_module": "@jupyter-widgets/base",
     "model_name": "LayoutModel",
     "model_module_version": "1.2.0",
     "state": {
      "_view_name": "LayoutView",
      "grid_template_rows": null,
      "right": null,
      "justify_content": null,
      "_view_module": "@jupyter-widgets/base",
      "overflow": null,
      "_model_module_version": "1.2.0",
      "_view_count": null,
      "flex_flow": null,
      "width": null,
      "min_width": null,
      "border": null,
      "align_items": null,
      "bottom": null,
      "_model_module": "@jupyter-widgets/base",
      "top": null,
      "grid_column": null,
      "overflow_y": null,
      "overflow_x": null,
      "grid_auto_flow": null,
      "grid_area": null,
      "grid_template_columns": null,
      "flex": null,
      "_model_name": "LayoutModel",
      "justify_items": null,
      "grid_row": null,
      "max_height": null,
      "align_content": null,
      "visibility": null,
      "align_self": null,
      "height": null,
      "min_height": null,
      "padding": null,
      "grid_auto_rows": null,
      "grid_gap": null,
      "max_width": null,
      "order": null,
      "_view_module_version": "1.2.0",
      "grid_template_areas": null,
      "object_position": null,
      "object_fit": null,
      "grid_auto_columns": null,
      "margin": null,
      "display": null,
      "left": null
     }
    },
    "8bf44868793449ce9eed3a3ebe6876dc": {
     "model_module": "@jupyter-widgets/controls",
     "model_name": "HTMLModel",
     "model_module_version": "1.5.0",
     "state": {
      "_view_name": "HTMLView",
      "style": "IPY_MODEL_f250b8bdad074308822ac4f61e84bdb0",
      "_dom_classes": [],
      "description": "",
      "_model_name": "HTMLModel",
      "placeholder": "​",
      "_view_module": "@jupyter-widgets/controls",
      "_model_module_version": "1.5.0",
      "value": "100%",
      "_view_count": null,
      "_view_module_version": "1.5.0",
      "description_tooltip": null,
      "_model_module": "@jupyter-widgets/controls",
      "layout": "IPY_MODEL_106cca8c580544d0a6376a0b5fd74637"
     }
    },
    "91aac72499e54e4ba5f7e0e2b3a79aba": {
     "model_module": "@jupyter-widgets/controls",
     "model_name": "FloatProgressModel",
     "model_module_version": "1.5.0",
     "state": {
      "_view_name": "ProgressView",
      "style": "IPY_MODEL_1e5aed9920fe4a32b36eee868fe58094",
      "_dom_classes": [],
      "description": "",
      "_model_name": "FloatProgressModel",
      "bar_style": "success",
      "max": 1000,
      "_view_module": "@jupyter-widgets/controls",
      "_model_module_version": "1.5.0",
      "value": 1000,
      "_view_count": null,
      "_view_module_version": "1.5.0",
      "orientation": "horizontal",
      "min": 0,
      "description_tooltip": null,
      "_model_module": "@jupyter-widgets/controls",
      "layout": "IPY_MODEL_142bc0df064b4c33830fdde3b46bdb28"
     }
    },
    "c119bcd5be014922b4b4bcdf287f8025": {
     "model_module": "@jupyter-widgets/controls",
     "model_name": "HTMLModel",
     "model_module_version": "1.5.0",
     "state": {
      "_view_name": "HTMLView",
      "style": "IPY_MODEL_09358b9f0e9349a99a2bca6d2bb8230a",
      "_dom_classes": [],
      "description": "",
      "_model_name": "HTMLModel",
      "placeholder": "​",
      "_view_module": "@jupyter-widgets/controls",
      "_model_module_version": "1.5.0",
      "value": " 1000/1000 [07:37&lt;00:00,  2.26it/s]",
      "_view_count": null,
      "_view_module_version": "1.5.0",
      "description_tooltip": null,
      "_model_module": "@jupyter-widgets/controls",
      "layout": "IPY_MODEL_f10726efe4c94ce28183c4ae89683c04"
     }
    },
    "f250b8bdad074308822ac4f61e84bdb0": {
     "model_module": "@jupyter-widgets/controls",
     "model_name": "DescriptionStyleModel",
     "model_module_version": "1.5.0",
     "state": {
      "_view_name": "StyleView",
      "_model_name": "DescriptionStyleModel",
      "description_width": "",
      "_view_module": "@jupyter-widgets/base",
      "_model_module_version": "1.5.0",
      "_view_count": null,
      "_view_module_version": "1.2.0",
      "_model_module": "@jupyter-widgets/controls"
     }
    },
    "106cca8c580544d0a6376a0b5fd74637": {
     "model_module": "@jupyter-widgets/base",
     "model_name": "LayoutModel",
     "model_module_version": "1.2.0",
     "state": {
      "_view_name": "LayoutView",
      "grid_template_rows": null,
      "right": null,
      "justify_content": null,
      "_view_module": "@jupyter-widgets/base",
      "overflow": null,
      "_model_module_version": "1.2.0",
      "_view_count": null,
      "flex_flow": null,
      "width": null,
      "min_width": null,
      "border": null,
      "align_items": null,
      "bottom": null,
      "_model_module": "@jupyter-widgets/base",
      "top": null,
      "grid_column": null,
      "overflow_y": null,
      "overflow_x": null,
      "grid_auto_flow": null,
      "grid_area": null,
      "grid_template_columns": null,
      "flex": null,
      "_model_name": "LayoutModel",
      "justify_items": null,
      "grid_row": null,
      "max_height": null,
      "align_content": null,
      "visibility": null,
      "align_self": null,
      "height": null,
      "min_height": null,
      "padding": null,
      "grid_auto_rows": null,
      "grid_gap": null,
      "max_width": null,
      "order": null,
      "_view_module_version": "1.2.0",
      "grid_template_areas": null,
      "object_position": null,
      "object_fit": null,
      "grid_auto_columns": null,
      "margin": null,
      "display": null,
      "left": null
     }
    },
    "1e5aed9920fe4a32b36eee868fe58094": {
     "model_module": "@jupyter-widgets/controls",
     "model_name": "ProgressStyleModel",
     "model_module_version": "1.5.0",
     "state": {
      "_view_name": "StyleView",
      "_model_name": "ProgressStyleModel",
      "description_width": "",
      "_view_module": "@jupyter-widgets/base",
      "_model_module_version": "1.5.0",
      "_view_count": null,
      "_view_module_version": "1.2.0",
      "bar_color": null,
      "_model_module": "@jupyter-widgets/controls"
     }
    },
    "142bc0df064b4c33830fdde3b46bdb28": {
     "model_module": "@jupyter-widgets/base",
     "model_name": "LayoutModel",
     "model_module_version": "1.2.0",
     "state": {
      "_view_name": "LayoutView",
      "grid_template_rows": null,
      "right": null,
      "justify_content": null,
      "_view_module": "@jupyter-widgets/base",
      "overflow": null,
      "_model_module_version": "1.2.0",
      "_view_count": null,
      "flex_flow": null,
      "width": null,
      "min_width": null,
      "border": null,
      "align_items": null,
      "bottom": null,
      "_model_module": "@jupyter-widgets/base",
      "top": null,
      "grid_column": null,
      "overflow_y": null,
      "overflow_x": null,
      "grid_auto_flow": null,
      "grid_area": null,
      "grid_template_columns": null,
      "flex": null,
      "_model_name": "LayoutModel",
      "justify_items": null,
      "grid_row": null,
      "max_height": null,
      "align_content": null,
      "visibility": null,
      "align_self": null,
      "height": null,
      "min_height": null,
      "padding": null,
      "grid_auto_rows": null,
      "grid_gap": null,
      "max_width": null,
      "order": null,
      "_view_module_version": "1.2.0",
      "grid_template_areas": null,
      "object_position": null,
      "object_fit": null,
      "grid_auto_columns": null,
      "margin": null,
      "display": null,
      "left": null
     }
    },
    "09358b9f0e9349a99a2bca6d2bb8230a": {
     "model_module": "@jupyter-widgets/controls",
     "model_name": "DescriptionStyleModel",
     "model_module_version": "1.5.0",
     "state": {
      "_view_name": "StyleView",
      "_model_name": "DescriptionStyleModel",
      "description_width": "",
      "_view_module": "@jupyter-widgets/base",
      "_model_module_version": "1.5.0",
      "_view_count": null,
      "_view_module_version": "1.2.0",
      "_model_module": "@jupyter-widgets/controls"
     }
    },
    "f10726efe4c94ce28183c4ae89683c04": {
     "model_module": "@jupyter-widgets/base",
     "model_name": "LayoutModel",
     "model_module_version": "1.2.0",
     "state": {
      "_view_name": "LayoutView",
      "grid_template_rows": null,
      "right": null,
      "justify_content": null,
      "_view_module": "@jupyter-widgets/base",
      "overflow": null,
      "_model_module_version": "1.2.0",
      "_view_count": null,
      "flex_flow": null,
      "width": null,
      "min_width": null,
      "border": null,
      "align_items": null,
      "bottom": null,
      "_model_module": "@jupyter-widgets/base",
      "top": null,
      "grid_column": null,
      "overflow_y": null,
      "overflow_x": null,
      "grid_auto_flow": null,
      "grid_area": null,
      "grid_template_columns": null,
      "flex": null,
      "_model_name": "LayoutModel",
      "justify_items": null,
      "grid_row": null,
      "max_height": null,
      "align_content": null,
      "visibility": null,
      "align_self": null,
      "height": null,
      "min_height": null,
      "padding": null,
      "grid_auto_rows": null,
      "grid_gap": null,
      "max_width": null,
      "order": null,
      "_view_module_version": "1.2.0",
      "grid_template_areas": null,
      "object_position": null,
      "object_fit": null,
      "grid_auto_columns": null,
      "margin": null,
      "display": null,
      "left": null
     }
    },
    "5141f21d8148423bbea8ab952061ad37": {
     "model_module": "@jupyter-widgets/controls",
     "model_name": "HBoxModel",
     "model_module_version": "1.5.0",
     "state": {
      "_view_name": "HBoxView",
      "_dom_classes": [],
      "_model_name": "HBoxModel",
      "_view_module": "@jupyter-widgets/controls",
      "_model_module_version": "1.5.0",
      "_view_count": null,
      "_view_module_version": "1.5.0",
      "box_style": "",
      "layout": "IPY_MODEL_c09a21a7750a42cda27f2123e1778cbf",
      "_model_module": "@jupyter-widgets/controls",
      "children": [
       "IPY_MODEL_4d7ed430afe444c9bc7b7c1c3d5bc269",
       "IPY_MODEL_795e7cbbf1f749a5a72e47c981cf2c5e",
       "IPY_MODEL_b5fbe0dbb2e44f0eae07a81bb0e874f4"
      ]
     }
    },
    "c09a21a7750a42cda27f2123e1778cbf": {
     "model_module": "@jupyter-widgets/base",
     "model_name": "LayoutModel",
     "model_module_version": "1.2.0",
     "state": {
      "_view_name": "LayoutView",
      "grid_template_rows": null,
      "right": null,
      "justify_content": null,
      "_view_module": "@jupyter-widgets/base",
      "overflow": null,
      "_model_module_version": "1.2.0",
      "_view_count": null,
      "flex_flow": null,
      "width": null,
      "min_width": null,
      "border": null,
      "align_items": null,
      "bottom": null,
      "_model_module": "@jupyter-widgets/base",
      "top": null,
      "grid_column": null,
      "overflow_y": null,
      "overflow_x": null,
      "grid_auto_flow": null,
      "grid_area": null,
      "grid_template_columns": null,
      "flex": null,
      "_model_name": "LayoutModel",
      "justify_items": null,
      "grid_row": null,
      "max_height": null,
      "align_content": null,
      "visibility": null,
      "align_self": null,
      "height": null,
      "min_height": null,
      "padding": null,
      "grid_auto_rows": null,
      "grid_gap": null,
      "max_width": null,
      "order": null,
      "_view_module_version": "1.2.0",
      "grid_template_areas": null,
      "object_position": null,
      "object_fit": null,
      "grid_auto_columns": null,
      "margin": null,
      "display": null,
      "left": null
     }
    },
    "4d7ed430afe444c9bc7b7c1c3d5bc269": {
     "model_module": "@jupyter-widgets/controls",
     "model_name": "HTMLModel",
     "model_module_version": "1.5.0",
     "state": {
      "_view_name": "HTMLView",
      "style": "IPY_MODEL_e15de04611df461ca4281d151a7c226f",
      "_dom_classes": [],
      "description": "",
      "_model_name": "HTMLModel",
      "placeholder": "​",
      "_view_module": "@jupyter-widgets/controls",
      "_model_module_version": "1.5.0",
      "value": "100%",
      "_view_count": null,
      "_view_module_version": "1.5.0",
      "description_tooltip": null,
      "_model_module": "@jupyter-widgets/controls",
      "layout": "IPY_MODEL_d7b1c8a9e0764f59b4fafba1c81023f6"
     }
    },
    "795e7cbbf1f749a5a72e47c981cf2c5e": {
     "model_module": "@jupyter-widgets/controls",
     "model_name": "FloatProgressModel",
     "model_module_version": "1.5.0",
     "state": {
      "_view_name": "ProgressView",
      "style": "IPY_MODEL_919f2460dc03479bbe6d18eefa3fbf0d",
      "_dom_classes": [],
      "description": "",
      "_model_name": "FloatProgressModel",
      "bar_style": "success",
      "max": 250,
      "_view_module": "@jupyter-widgets/controls",
      "_model_module_version": "1.5.0",
      "value": 250,
      "_view_count": null,
      "_view_module_version": "1.5.0",
      "orientation": "horizontal",
      "min": 0,
      "description_tooltip": null,
      "_model_module": "@jupyter-widgets/controls",
      "layout": "IPY_MODEL_99e4016a9be041c48dd767a3aa179d24"
     }
    },
    "b5fbe0dbb2e44f0eae07a81bb0e874f4": {
     "model_module": "@jupyter-widgets/controls",
     "model_name": "HTMLModel",
     "model_module_version": "1.5.0",
     "state": {
      "_view_name": "HTMLView",
      "style": "IPY_MODEL_bf1c03f2da7e4c03af1a872d911eca0a",
      "_dom_classes": [],
      "description": "",
      "_model_name": "HTMLModel",
      "placeholder": "​",
      "_view_module": "@jupyter-widgets/controls",
      "_model_module_version": "1.5.0",
      "value": " 250/250 [12:06&lt;00:00,  2.90s/it]",
      "_view_count": null,
      "_view_module_version": "1.5.0",
      "description_tooltip": null,
      "_model_module": "@jupyter-widgets/controls",
      "layout": "IPY_MODEL_b5ce969d9340453cbb77e4ffc667791f"
     }
    },
    "e15de04611df461ca4281d151a7c226f": {
     "model_module": "@jupyter-widgets/controls",
     "model_name": "DescriptionStyleModel",
     "model_module_version": "1.5.0",
     "state": {
      "_view_name": "StyleView",
      "_model_name": "DescriptionStyleModel",
      "description_width": "",
      "_view_module": "@jupyter-widgets/base",
      "_model_module_version": "1.5.0",
      "_view_count": null,
      "_view_module_version": "1.2.0",
      "_model_module": "@jupyter-widgets/controls"
     }
    },
    "d7b1c8a9e0764f59b4fafba1c81023f6": {
     "model_module": "@jupyter-widgets/base",
     "model_name": "LayoutModel",
     "model_module_version": "1.2.0",
     "state": {
      "_view_name": "LayoutView",
      "grid_template_rows": null,
      "right": null,
      "justify_content": null,
      "_view_module": "@jupyter-widgets/base",
      "overflow": null,
      "_model_module_version": "1.2.0",
      "_view_count": null,
      "flex_flow": null,
      "width": null,
      "min_width": null,
      "border": null,
      "align_items": null,
      "bottom": null,
      "_model_module": "@jupyter-widgets/base",
      "top": null,
      "grid_column": null,
      "overflow_y": null,
      "overflow_x": null,
      "grid_auto_flow": null,
      "grid_area": null,
      "grid_template_columns": null,
      "flex": null,
      "_model_name": "LayoutModel",
      "justify_items": null,
      "grid_row": null,
      "max_height": null,
      "align_content": null,
      "visibility": null,
      "align_self": null,
      "height": null,
      "min_height": null,
      "padding": null,
      "grid_auto_rows": null,
      "grid_gap": null,
      "max_width": null,
      "order": null,
      "_view_module_version": "1.2.0",
      "grid_template_areas": null,
      "object_position": null,
      "object_fit": null,
      "grid_auto_columns": null,
      "margin": null,
      "display": null,
      "left": null
     }
    },
    "919f2460dc03479bbe6d18eefa3fbf0d": {
     "model_module": "@jupyter-widgets/controls",
     "model_name": "ProgressStyleModel",
     "model_module_version": "1.5.0",
     "state": {
      "_view_name": "StyleView",
      "_model_name": "ProgressStyleModel",
      "description_width": "",
      "_view_module": "@jupyter-widgets/base",
      "_model_module_version": "1.5.0",
      "_view_count": null,
      "_view_module_version": "1.2.0",
      "bar_color": null,
      "_model_module": "@jupyter-widgets/controls"
     }
    },
    "99e4016a9be041c48dd767a3aa179d24": {
     "model_module": "@jupyter-widgets/base",
     "model_name": "LayoutModel",
     "model_module_version": "1.2.0",
     "state": {
      "_view_name": "LayoutView",
      "grid_template_rows": null,
      "right": null,
      "justify_content": null,
      "_view_module": "@jupyter-widgets/base",
      "overflow": null,
      "_model_module_version": "1.2.0",
      "_view_count": null,
      "flex_flow": null,
      "width": null,
      "min_width": null,
      "border": null,
      "align_items": null,
      "bottom": null,
      "_model_module": "@jupyter-widgets/base",
      "top": null,
      "grid_column": null,
      "overflow_y": null,
      "overflow_x": null,
      "grid_auto_flow": null,
      "grid_area": null,
      "grid_template_columns": null,
      "flex": null,
      "_model_name": "LayoutModel",
      "justify_items": null,
      "grid_row": null,
      "max_height": null,
      "align_content": null,
      "visibility": null,
      "align_self": null,
      "height": null,
      "min_height": null,
      "padding": null,
      "grid_auto_rows": null,
      "grid_gap": null,
      "max_width": null,
      "order": null,
      "_view_module_version": "1.2.0",
      "grid_template_areas": null,
      "object_position": null,
      "object_fit": null,
      "grid_auto_columns": null,
      "margin": null,
      "display": null,
      "left": null
     }
    },
    "bf1c03f2da7e4c03af1a872d911eca0a": {
     "model_module": "@jupyter-widgets/controls",
     "model_name": "DescriptionStyleModel",
     "model_module_version": "1.5.0",
     "state": {
      "_view_name": "StyleView",
      "_model_name": "DescriptionStyleModel",
      "description_width": "",
      "_view_module": "@jupyter-widgets/base",
      "_model_module_version": "1.5.0",
      "_view_count": null,
      "_view_module_version": "1.2.0",
      "_model_module": "@jupyter-widgets/controls"
     }
    },
    "b5ce969d9340453cbb77e4ffc667791f": {
     "model_module": "@jupyter-widgets/base",
     "model_name": "LayoutModel",
     "model_module_version": "1.2.0",
     "state": {
      "_view_name": "LayoutView",
      "grid_template_rows": null,
      "right": null,
      "justify_content": null,
      "_view_module": "@jupyter-widgets/base",
      "overflow": null,
      "_model_module_version": "1.2.0",
      "_view_count": null,
      "flex_flow": null,
      "width": null,
      "min_width": null,
      "border": null,
      "align_items": null,
      "bottom": null,
      "_model_module": "@jupyter-widgets/base",
      "top": null,
      "grid_column": null,
      "overflow_y": null,
      "overflow_x": null,
      "grid_auto_flow": null,
      "grid_area": null,
      "grid_template_columns": null,
      "flex": null,
      "_model_name": "LayoutModel",
      "justify_items": null,
      "grid_row": null,
      "max_height": null,
      "align_content": null,
      "visibility": null,
      "align_self": null,
      "height": null,
      "min_height": null,
      "padding": null,
      "grid_auto_rows": null,
      "grid_gap": null,
      "max_width": null,
      "order": null,
      "_view_module_version": "1.2.0",
      "grid_template_areas": null,
      "object_position": null,
      "object_fit": null,
      "grid_auto_columns": null,
      "margin": null,
      "display": null,
      "left": null
     }
    },
    "7b9e4cb0f52146749a41405e1c6cfaa4": {
     "model_module": "@jupyter-widgets/controls",
     "model_name": "HBoxModel",
     "model_module_version": "1.5.0",
     "state": {
      "_view_name": "HBoxView",
      "_dom_classes": [],
      "_model_name": "HBoxModel",
      "_view_module": "@jupyter-widgets/controls",
      "_model_module_version": "1.5.0",
      "_view_count": null,
      "_view_module_version": "1.5.0",
      "box_style": "",
      "layout": "IPY_MODEL_cf08264bd7a848249f3343ee52de8455",
      "_model_module": "@jupyter-widgets/controls",
      "children": [
       "IPY_MODEL_0308a63c5eb145f2b5da22ffc933ff46",
       "IPY_MODEL_13464492148d4081bd145d09fad8c173",
       "IPY_MODEL_f36fc30d6aae4ee1ade548c571a076b3"
      ]
     }
    },
    "cf08264bd7a848249f3343ee52de8455": {
     "model_module": "@jupyter-widgets/base",
     "model_name": "LayoutModel",
     "model_module_version": "1.2.0",
     "state": {
      "_view_name": "LayoutView",
      "grid_template_rows": null,
      "right": null,
      "justify_content": null,
      "_view_module": "@jupyter-widgets/base",
      "overflow": null,
      "_model_module_version": "1.2.0",
      "_view_count": null,
      "flex_flow": null,
      "width": null,
      "min_width": null,
      "border": null,
      "align_items": null,
      "bottom": null,
      "_model_module": "@jupyter-widgets/base",
      "top": null,
      "grid_column": null,
      "overflow_y": null,
      "overflow_x": null,
      "grid_auto_flow": null,
      "grid_area": null,
      "grid_template_columns": null,
      "flex": null,
      "_model_name": "LayoutModel",
      "justify_items": null,
      "grid_row": null,
      "max_height": null,
      "align_content": null,
      "visibility": null,
      "align_self": null,
      "height": null,
      "min_height": null,
      "padding": null,
      "grid_auto_rows": null,
      "grid_gap": null,
      "max_width": null,
      "order": null,
      "_view_module_version": "1.2.0",
      "grid_template_areas": null,
      "object_position": null,
      "object_fit": null,
      "grid_auto_columns": null,
      "margin": null,
      "display": null,
      "left": null
     }
    },
    "0308a63c5eb145f2b5da22ffc933ff46": {
     "model_module": "@jupyter-widgets/controls",
     "model_name": "HTMLModel",
     "model_module_version": "1.5.0",
     "state": {
      "_view_name": "HTMLView",
      "style": "IPY_MODEL_00a90662cf9f4fae8aa9835762295ef1",
      "_dom_classes": [],
      "description": "",
      "_model_name": "HTMLModel",
      "placeholder": "​",
      "_view_module": "@jupyter-widgets/controls",
      "_model_module_version": "1.5.0",
      "value": "100%",
      "_view_count": null,
      "_view_module_version": "1.5.0",
      "description_tooltip": null,
      "_model_module": "@jupyter-widgets/controls",
      "layout": "IPY_MODEL_85d58a58d6e1432caaf5e72abaa1179b"
     }
    },
    "13464492148d4081bd145d09fad8c173": {
     "model_module": "@jupyter-widgets/controls",
     "model_name": "FloatProgressModel",
     "model_module_version": "1.5.0",
     "state": {
      "_view_name": "ProgressView",
      "style": "IPY_MODEL_bbf12ed76ba54734ab74b9863934b5b7",
      "_dom_classes": [],
      "description": "",
      "_model_name": "FloatProgressModel",
      "bar_style": "success",
      "max": 250,
      "_view_module": "@jupyter-widgets/controls",
      "_model_module_version": "1.5.0",
      "value": 250,
      "_view_count": null,
      "_view_module_version": "1.5.0",
      "orientation": "horizontal",
      "min": 0,
      "description_tooltip": null,
      "_model_module": "@jupyter-widgets/controls",
      "layout": "IPY_MODEL_cdae6f315147437ebec7bdf80f3a456e"
     }
    },
    "f36fc30d6aae4ee1ade548c571a076b3": {
     "model_module": "@jupyter-widgets/controls",
     "model_name": "HTMLModel",
     "model_module_version": "1.5.0",
     "state": {
      "_view_name": "HTMLView",
      "style": "IPY_MODEL_94564500da9c4be5a33e6845c3b7bea8",
      "_dom_classes": [],
      "description": "",
      "_model_name": "HTMLModel",
      "placeholder": "​",
      "_view_module": "@jupyter-widgets/controls",
      "_model_module_version": "1.5.0",
      "value": " 250/250 [12:01&lt;00:00,  2.88s/it]",
      "_view_count": null,
      "_view_module_version": "1.5.0",
      "description_tooltip": null,
      "_model_module": "@jupyter-widgets/controls",
      "layout": "IPY_MODEL_42e415755d954219b0241e5c92be3163"
     }
    },
    "00a90662cf9f4fae8aa9835762295ef1": {
     "model_module": "@jupyter-widgets/controls",
     "model_name": "DescriptionStyleModel",
     "model_module_version": "1.5.0",
     "state": {
      "_view_name": "StyleView",
      "_model_name": "DescriptionStyleModel",
      "description_width": "",
      "_view_module": "@jupyter-widgets/base",
      "_model_module_version": "1.5.0",
      "_view_count": null,
      "_view_module_version": "1.2.0",
      "_model_module": "@jupyter-widgets/controls"
     }
    },
    "85d58a58d6e1432caaf5e72abaa1179b": {
     "model_module": "@jupyter-widgets/base",
     "model_name": "LayoutModel",
     "model_module_version": "1.2.0",
     "state": {
      "_view_name": "LayoutView",
      "grid_template_rows": null,
      "right": null,
      "justify_content": null,
      "_view_module": "@jupyter-widgets/base",
      "overflow": null,
      "_model_module_version": "1.2.0",
      "_view_count": null,
      "flex_flow": null,
      "width": null,
      "min_width": null,
      "border": null,
      "align_items": null,
      "bottom": null,
      "_model_module": "@jupyter-widgets/base",
      "top": null,
      "grid_column": null,
      "overflow_y": null,
      "overflow_x": null,
      "grid_auto_flow": null,
      "grid_area": null,
      "grid_template_columns": null,
      "flex": null,
      "_model_name": "LayoutModel",
      "justify_items": null,
      "grid_row": null,
      "max_height": null,
      "align_content": null,
      "visibility": null,
      "align_self": null,
      "height": null,
      "min_height": null,
      "padding": null,
      "grid_auto_rows": null,
      "grid_gap": null,
      "max_width": null,
      "order": null,
      "_view_module_version": "1.2.0",
      "grid_template_areas": null,
      "object_position": null,
      "object_fit": null,
      "grid_auto_columns": null,
      "margin": null,
      "display": null,
      "left": null
     }
    },
    "bbf12ed76ba54734ab74b9863934b5b7": {
     "model_module": "@jupyter-widgets/controls",
     "model_name": "ProgressStyleModel",
     "model_module_version": "1.5.0",
     "state": {
      "_view_name": "StyleView",
      "_model_name": "ProgressStyleModel",
      "description_width": "",
      "_view_module": "@jupyter-widgets/base",
      "_model_module_version": "1.5.0",
      "_view_count": null,
      "_view_module_version": "1.2.0",
      "bar_color": null,
      "_model_module": "@jupyter-widgets/controls"
     }
    },
    "cdae6f315147437ebec7bdf80f3a456e": {
     "model_module": "@jupyter-widgets/base",
     "model_name": "LayoutModel",
     "model_module_version": "1.2.0",
     "state": {
      "_view_name": "LayoutView",
      "grid_template_rows": null,
      "right": null,
      "justify_content": null,
      "_view_module": "@jupyter-widgets/base",
      "overflow": null,
      "_model_module_version": "1.2.0",
      "_view_count": null,
      "flex_flow": null,
      "width": null,
      "min_width": null,
      "border": null,
      "align_items": null,
      "bottom": null,
      "_model_module": "@jupyter-widgets/base",
      "top": null,
      "grid_column": null,
      "overflow_y": null,
      "overflow_x": null,
      "grid_auto_flow": null,
      "grid_area": null,
      "grid_template_columns": null,
      "flex": null,
      "_model_name": "LayoutModel",
      "justify_items": null,
      "grid_row": null,
      "max_height": null,
      "align_content": null,
      "visibility": null,
      "align_self": null,
      "height": null,
      "min_height": null,
      "padding": null,
      "grid_auto_rows": null,
      "grid_gap": null,
      "max_width": null,
      "order": null,
      "_view_module_version": "1.2.0",
      "grid_template_areas": null,
      "object_position": null,
      "object_fit": null,
      "grid_auto_columns": null,
      "margin": null,
      "display": null,
      "left": null
     }
    },
    "94564500da9c4be5a33e6845c3b7bea8": {
     "model_module": "@jupyter-widgets/controls",
     "model_name": "DescriptionStyleModel",
     "model_module_version": "1.5.0",
     "state": {
      "_view_name": "StyleView",
      "_model_name": "DescriptionStyleModel",
      "description_width": "",
      "_view_module": "@jupyter-widgets/base",
      "_model_module_version": "1.5.0",
      "_view_count": null,
      "_view_module_version": "1.2.0",
      "_model_module": "@jupyter-widgets/controls"
     }
    },
    "42e415755d954219b0241e5c92be3163": {
     "model_module": "@jupyter-widgets/base",
     "model_name": "LayoutModel",
     "model_module_version": "1.2.0",
     "state": {
      "_view_name": "LayoutView",
      "grid_template_rows": null,
      "right": null,
      "justify_content": null,
      "_view_module": "@jupyter-widgets/base",
      "overflow": null,
      "_model_module_version": "1.2.0",
      "_view_count": null,
      "flex_flow": null,
      "width": null,
      "min_width": null,
      "border": null,
      "align_items": null,
      "bottom": null,
      "_model_module": "@jupyter-widgets/base",
      "top": null,
      "grid_column": null,
      "overflow_y": null,
      "overflow_x": null,
      "grid_auto_flow": null,
      "grid_area": null,
      "grid_template_columns": null,
      "flex": null,
      "_model_name": "LayoutModel",
      "justify_items": null,
      "grid_row": null,
      "max_height": null,
      "align_content": null,
      "visibility": null,
      "align_self": null,
      "height": null,
      "min_height": null,
      "padding": null,
      "grid_auto_rows": null,
      "grid_gap": null,
      "max_width": null,
      "order": null,
      "_view_module_version": "1.2.0",
      "grid_template_areas": null,
      "object_position": null,
      "object_fit": null,
      "grid_auto_columns": null,
      "margin": null,
      "display": null,
      "left": null
     }
    }
   }
  }
 },
 "cells": [
  {
   "cell_type": "markdown",
   "source": [
    "# BIGRoC: Boosting Image Generation via a Robust Classifier\n",
    "\n",
    "--------------------------------------------------\n",
    "\n",
    "## Comparison with other methods - ImageNet $128\\times128$\n",
    "\n",
    "This colab notebook contains the needed code to experiment with our proposed algorithm for comparison with competitive metohds on ImageNet128x128 dataset (Section 5.3).\n",
    "\n",
    "**How to use**\n",
    "\n",
    "1.   Upload the notebook to colab\n",
    "2.   Make sure that colab uses a GPU (Edit $\\rightarrow$ Notebook settings $\\rightarrow$ Hardware accelerator)\n",
    "\n",
    "**Downloading pretrained generators:**\n",
    "\n",
    "The pretrained image generators are stored in a [Google Drive](https://drive.google.com/drive/folders/1yN6WjMmc-pi3zHylF-I1jri7I2nZpsGJ?usp=sharing). This notebook mounts google drive and assumes that [this directory](https://drive.google.com/drive/folders/1yN6WjMmc-pi3zHylF-I1jri7I2nZpsGJ?usp=sharing) is located in your root folder in Google Drive. Therefore, please open the Google Drive's link and choose \"add a shortcut to drive\" and pick \"My Drive\" is the chosen location. By doing so, you are ready to go :)\n",
    "\n",
    "If you rather not to mount your google drive, download the files and edit the relevant checkpoint paths accordingly.\n",
    "\n",
    "**credits**\n",
    "\n",
    "This notebook uses the following packages:\n",
    "\n",
    "* [pfnet-researcrch](https://github.com/pfnet-research/sngan_projection) - For the official pretrained SN-ResNetGAN\n",
    "* [robustness](https://github.com/MadryLab/robustness) - For adversarially robust classifier\n",
    "* [guided-diffuision](https://github.com/openai/guided-diffusion/tree/main/evaluations) - ImageNet quantitative evaluation"
   ],
   "metadata": {
    "id": "zbBns3gf2MyU"
   }
  },
  {
   "cell_type": "markdown",
   "source": [
    "# Setup & Installation"
   ],
   "metadata": {
    "id": "r6ZrITV12qkN"
   }
  },
  {
   "cell_type": "code",
   "execution_count": null,
   "metadata": {
    "id": "35X7A2fuPU6x"
   },
   "outputs": [],
   "source": [
    "!pip install torch==1.8.2+cu102 torchvision==0.9.2+cu102 -f https://download.pytorch.org/whl/lts/1.8/torch_lts.html"
   ]
  },
  {
   "cell_type": "code",
   "source": [
    "import torch\n",
    "import numpy as np\n",
    "\n",
    "# reproducibility\n",
    "torch.backends.cudnn.benchmark = False\n",
    "torch.backends.cudnn.deterministic = True\n",
    "\n",
    "torch.manual_seed(3407)\n",
    "np.random.seed(3407)"
   ],
   "metadata": {
    "id": "jLqgolPwPak9"
   },
   "execution_count": 2,
   "outputs": []
  },
  {
   "cell_type": "code",
   "source": [
    "from google.colab import drive\n",
    "drive.mount('/content/gdrive')"
   ],
   "metadata": {
    "id": "Nh17IxtvPcgV"
   },
   "execution_count": null,
   "outputs": []
  },
  {
   "cell_type": "code",
   "source": [
    "!curl https://colab.chainer.org/install | CHAINER_VERSION=\"==5.1.0\" CUPY_VERSION=\"==5.1.0\" sh -"
   ],
   "metadata": {
    "id": "Lrfmj71sPgxR"
   },
   "execution_count": null,
   "outputs": []
  },
  {
   "cell_type": "markdown",
   "source": [
    "Clone SN-ResNet-GAN repository"
   ],
   "metadata": {
    "id": "83N4New94MrP"
   }
  },
  {
   "cell_type": "code",
   "source": [
    "!git clone https://github.com/pfnet-research/sngan_projection.git\n",
    "!mv sngan_projection/* ./"
   ],
   "metadata": {
    "id": "wxKR57glPeY5"
   },
   "execution_count": null,
   "outputs": []
  },
  {
   "cell_type": "markdown",
   "source": [
    "Load the pretrained SN-ResNet-GAN and generate 50K reference images"
   ],
   "metadata": {
    "id": "syLzxf6W2wbb"
   }
  },
  {
   "cell_type": "code",
   "source": [
    "import os, sys, time\n",
    "import shutil\n",
    "import numpy as np\n",
    "import argparse\n",
    "import chainer\n",
    "from PIL import Image\n",
    "from evaluation import gen_images_with_condition\n",
    "import yaml\n",
    "import source.yaml_utils as yaml_utils\n",
    "import torch\n",
    "from tqdm.notebook import tqdm\n",
    "import cupy\n",
    "\n",
    "def load_models(config):\n",
    "    gen_conf = config.models['generator']\n",
    "    gen = yaml_utils.load_model(gen_conf['fn'], gen_conf['name'], gen_conf['args'])\n",
    "    return gen\n",
    "\n",
    "\n",
    "parser = argparse.ArgumentParser()\n",
    "parser.add_argument('--config_path', type=str, default='configs/sn_projection.yml')\n",
    "parser.add_argument('--gpu', '-g', type=int, default=0)\n",
    "parser.add_argument('--results_dir', type=str, default='images')\n",
    "parser.add_argument('--snapshot', type=str, default='gdrive/MyDrive/models_and_scripts/IN_ResNetGenerator_850000.npz')\n",
    "parser.add_argument('--rows', type=int, default=1)\n",
    "parser.add_argument('--columns', type=int, default=1)\n",
    "parser.add_argument('--classes', type=int, nargs=\"*\", default=None)\n",
    "args,_ = parser.parse_known_args()\n",
    "chainer.cuda.get_device_from_id(args.gpu).use()\n",
    "config = yaml_utils.Config(yaml.load(open(args.config_path)))\n",
    "gen = load_models(config)\n",
    "gen.to_gpu(args.gpu)\n",
    "out = args.results_dir\n",
    "chainer.serializers.load_npz(args.snapshot, gen)\n",
    "np.random.seed(1)\n",
    "cupy.random.seed(1)\n",
    "classes = tuple(args.classes) if args.classes is not None else np.arange(0, gen.n_classes, dtype=np.int32)\n",
    "gen_imgs = []\n",
    "\n",
    "for c in tqdm(classes):\n",
    "    with chainer.using_config('train', False), chainer.using_config('enable_backprop', False):\n",
    "        x = gen_images_with_condition(gen, c=c, n=50, batchsize=50)\n",
    "    _, _, h, w = x.shape\n",
    "    x = x.transpose(0, 2, 3, 1)\n",
    "\n",
    "    for i in range(50):\n",
    "      save_path = os.path.join(out, f'{str(c)}_{i}.png')\n",
    "      if not os.path.exists(out):\n",
    "          os.makedirs(out)\n",
    "      Image.fromarray(x[i]).save(save_path)\n",
    "      gen_imgs.append(torch.tensor(x[i: i+1]))\n",
    "gen_imgs = torch.cat(gen_imgs)"
   ],
   "metadata": {
    "colab": {
     "base_uri": "https://localhost:8080/",
     "height": 49,
     "referenced_widgets": [
      "18d61188c80a4acd8a4587f0d2f35e9b",
      "0c70fcedc6324ec4bc378745ab7c1475",
      "8bf44868793449ce9eed3a3ebe6876dc",
      "91aac72499e54e4ba5f7e0e2b3a79aba",
      "c119bcd5be014922b4b4bcdf287f8025",
      "f250b8bdad074308822ac4f61e84bdb0",
      "106cca8c580544d0a6376a0b5fd74637",
      "1e5aed9920fe4a32b36eee868fe58094",
      "142bc0df064b4c33830fdde3b46bdb28",
      "09358b9f0e9349a99a2bca6d2bb8230a",
      "f10726efe4c94ce28183c4ae89683c04"
     ]
    },
    "id": "fnKT028uPiPx",
    "outputId": "b2c94ad0-7c06-4f1b-d6af-f4e444871612"
   },
   "execution_count": 19,
   "outputs": [
    {
     "output_type": "display_data",
     "data": {
      "application/vnd.jupyter.widget-view+json": {
       "model_id": "18d61188c80a4acd8a4587f0d2f35e9b",
       "version_minor": 0,
       "version_major": 2
      },
      "text/plain": [
       "  0%|          | 0/1000 [00:00<?, ?it/s]"
      ]
     },
     "metadata": {}
    }
   ]
  },
  {
   "cell_type": "markdown",
   "source": [
    "Download reference batch for metrics calculation"
   ],
   "metadata": {
    "id": "HKhn46QoGOS6"
   }
  },
  {
   "cell_type": "code",
   "source": [
    "!wget https://openaipublic.blob.core.windows.net/diffusion/jul-2021/ref_batches/imagenet/128/VIRTUAL_imagenet128_labeled.npz"
   ],
   "metadata": {
    "id": "jCChZqPMFUBb"
   },
   "execution_count": null,
   "outputs": []
  },
  {
   "cell_type": "markdown",
   "source": [
    "# BIGRoC Utils"
   ],
   "metadata": {
    "id": "pzuhWAYUu4KP"
   }
  },
  {
   "cell_type": "code",
   "source": [
    "!wget http://andrewilyas.com/ImageNet.pt"
   ],
   "metadata": {
    "id": "9wRWaRSdu3NK"
   },
   "execution_count": null,
   "outputs": []
  },
  {
   "cell_type": "code",
   "source": [
    "!pip install robustness"
   ],
   "metadata": {
    "id": "r9odOmYRvRE-"
   },
   "execution_count": null,
   "outputs": []
  },
  {
   "cell_type": "code",
   "source": [
    "from robustness import model_utils, datasets\n",
    "import torch\n",
    "\n",
    "\n",
    "def create_dl_model(DATA='CIFAR', BATCH_SIZE=128, NUM_WORKERS=8):\n",
    "    '''\n",
    "    :param DATA: Choices: ['CIFAR', 'ImageNet', 'RestrictedImageNet']\n",
    "    :param bs: batch size\n",
    "    :param num_workers:\n",
    "    :return: a dataloader object\n",
    "    '''\n",
    "\n",
    "    # Load dataset\n",
    "    dataset_function = getattr(datasets, DATA)\n",
    "    dataset = dataset_function('data')\n",
    "    # Load model\n",
    "    model_kwargs = {\n",
    "        'arch': 'resnet50',\n",
    "        'dataset': dataset,\n",
    "        'resume_path': f'./{DATA}.pt'\n",
    "    }\n",
    "    model, _ = model_utils.make_and_restore_model(**model_kwargs)\n",
    "    classifier = model.model\n",
    "    classifier.eval()\n",
    "    return classifier\n",
    "\n",
    "adv_model = create_dl_model(DATA='ImageNet')"
   ],
   "metadata": {
    "id": "QaSipHRIvS__"
   },
   "execution_count": null,
   "outputs": []
  },
  {
   "cell_type": "code",
   "source": [
    "import torch\n",
    "from torch import nn\n",
    "\n",
    "\n",
    "class AttackerStep:\n",
    "    '''\n",
    "    Generic class for attacker steps, under perturbation constraints\n",
    "    specified by an \"origin input\" and a perturbation magnitude.\n",
    "    Must implement project, step, and random_perturb\n",
    "    '''\n",
    "\n",
    "    def __init__(self, orig_input, eps, step_size, use_grad=True):\n",
    "        '''\n",
    "        Initialize the attacker step with a given perturbation magnitude.\n",
    "        Args:\n",
    "            eps (float): the perturbation magnitude\n",
    "            orig_input (ch.tensor): the original input\n",
    "        '''\n",
    "        self.orig_input = orig_input\n",
    "        self.eps = eps\n",
    "        self.step_size = step_size\n",
    "        self.use_grad = use_grad\n",
    "\n",
    "    def project(self, x):\n",
    "        '''\n",
    "        Given an input x, project it back into the feasible set\n",
    "        Args:\n",
    "            ch.tensor x : the input to project back into the feasible set.\n",
    "        Returns:\n",
    "            A `ch.tensor` that is the input projected back into\n",
    "            the feasible set, that is,\n",
    "        .. math:: \\min_{x' \\in S} \\|x' - x\\|_2\n",
    "        '''\n",
    "        raise NotImplementedError\n",
    "\n",
    "    def step(self, x, g):\n",
    "        '''\n",
    "        Given a gradient, make the appropriate step according to the\n",
    "        perturbation constraint (e.g. dual norm maximization for :math:`\\ell_p`\n",
    "        norms).\n",
    "        Parameters:\n",
    "            g (ch.tensor): the raw gradient\n",
    "        Returns:\n",
    "            The new input, a ch.tensor for the next step.\n",
    "        '''\n",
    "        raise NotImplementedError\n",
    "\n",
    "    def random_perturb(self, x):\n",
    "        '''\n",
    "        Given a starting input, take a random step within the feasible set\n",
    "        '''\n",
    "        raise NotImplementedError\n",
    "\n",
    "    def to_image(self, x):\n",
    "        '''\n",
    "        Given an input (which may be in an alternative parameterization),\n",
    "        convert it to a valid image (this is implemented as the identity\n",
    "        function by default as most of the time we use the pixel\n",
    "        parameterization, but for alternative parameterizations this functino\n",
    "        must be overriden).\n",
    "        '''\n",
    "        return x\n",
    "\n",
    "\n",
    "from torch import nn\n",
    "\n",
    "# simple Module to normalize an image\n",
    "class Normalize(nn.Module):\n",
    "    def __init__(self, mean, std):\n",
    "        super(Normalize, self).__init__()\n",
    "        self.mean = torch.Tensor(mean)\n",
    "        self.std = torch.Tensor(std)\n",
    "    def forward(self, x):\n",
    "        return (x - self.mean.type_as(x)[None, :, None, None]) / self.std.type_as(x)[None, :, None, None]\n",
    "\n",
    "norm = Normalize(mean=[0.485, 0.456, 0.406], std=[0.229, 0.224, 0.225])\n",
    "\n",
    "\n",
    "\n",
    "# L2 threat model\n",
    "class L2Step(AttackerStep):\n",
    "    \"\"\"\n",
    "    Attack step for :math:`\\ell_\\infty` threat model. Given :math:`x_0`\n",
    "    and :math:`\\epsilon`, the constraint set is given by:\n",
    "    .. math:: S = \\{x | \\|x - x_0\\|_2 \\leq \\epsilon\\}\n",
    "    \"\"\"\n",
    "\n",
    "    def project(self, x):\n",
    "        \"\"\"\n",
    "        \"\"\"\n",
    "        if self.orig_input is None: self.orig_input = x.detach()\n",
    "        self.orig_input = self.orig_input.cuda()\n",
    "        diff = x - self.orig_input\n",
    "        diff = diff.renorm(p=2, dim=0, maxnorm=self.eps)\n",
    "        return torch.clamp(self.orig_input + diff, 0, 1)\n",
    "\n",
    "    def step(self, x, g):\n",
    "        \"\"\"\n",
    "        \"\"\"\n",
    "        l = len(x.shape) - 1\n",
    "        g_norm = torch.norm(g.reshape(g.shape[0], -1), dim=1).view(-1, *([1] * l))\n",
    "        scaled_g = g / (g_norm + 1e-10)\n",
    "        return x + scaled_g * self.step_size\n",
    "\n",
    "def targeted_pgd_l2(model, X, y, num_iter, eps, step_size):\n",
    "    # input images are in range [0,1]\n",
    "    steper = L2Step(eps=eps, orig_input=None, step_size=step_size)\n",
    "    for t in range(num_iter):\n",
    "        X = X.clone().detach().requires_grad_(True).cuda()\n",
    "        loss = nn.CrossEntropyLoss(reduction='none')(model(norm(X)), y)\n",
    "        loss = torch.mean(loss)\n",
    "        grad, = torch.autograd.grad(-1 * loss, [X])\n",
    "        X = steper.step(X, grad)\n",
    "        X = steper.project(X)\n",
    "    return X.detach()"
   ],
   "metadata": {
    "id": "ZtRnNFC_vUsX"
   },
   "execution_count": 11,
   "outputs": []
  },
  {
   "cell_type": "markdown",
   "source": [
    "# BIGRoC Application"
   ],
   "metadata": {
    "id": "QSGC0WdV-8En"
   }
  },
  {
   "cell_type": "code",
   "source": [
    "# BIGRoC args\n",
    "epsilon, steps = 15, 7\n",
    "step_size = 1.5 * epsilon / steps"
   ],
   "metadata": {
    "id": "F6sbBB4FvXE4"
   },
   "execution_count": 20,
   "outputs": []
  },
  {
   "cell_type": "code",
   "source": [
    "labels = torch.ones(size=(50000,))\n",
    "for c in range(1000):\n",
    "  labels[c*50: (c+1) * 50] = c\n",
    "labels = labels.int()"
   ],
   "metadata": {
    "id": "VDmdAK4GwA2y"
   },
   "execution_count": 21,
   "outputs": []
  },
  {
   "cell_type": "code",
   "source": [
    "from tqdm.notebook import tqdm\n",
    "\n",
    "# In each iter, generate 25K boosted images from the generated ones\n",
    "for iter in range(2):\n",
    "  torch.manual_seed(1)\n",
    "  boosted_gen_imgs = []\n",
    "  for i in tqdm(range(250)):\n",
    "    x_batch = gen_imgs[i * 100: (i + 1) * 100]\n",
    "    x_batch_0_1 = torch.tensor(x_batch / 255.).cuda().permute(0,3,1,2).float()\n",
    "    y = labels[i * 100: (i + 1) * 100].cuda()\n",
    "    b_imgs = targeted_pgd_l2(model=adv_model, X=x_batch_0_1.data, y=y.long(), num_iter=steps, eps=epsilon,\n",
    "                                      step_size=step_size).detach().cpu()\n",
    "    boosted_gen_imgs.append(b_imgs)\n",
    "  # to np array\n",
    "  boosted_gen_imgs = torch.cat(boosted_gen_imgs)\n",
    "  boosted_gen_imgs = (boosted_gen_imgs * 255.).int()\n",
    "  boosted_gen_imgs = boosted_gen_imgs.detach().cpu().permute(0,2,3,1).numpy().astype(np.uint8)\n",
    "\n",
    "  np.savez(f\"boosted_SN_ResNet_GAN_eps_{epsilon}_{iter}\", boosted_gen_imgs)"
   ],
   "metadata": {
    "colab": {
     "base_uri": "https://localhost:8080/",
     "height": 136,
     "referenced_widgets": [
      "5141f21d8148423bbea8ab952061ad37",
      "c09a21a7750a42cda27f2123e1778cbf",
      "4d7ed430afe444c9bc7b7c1c3d5bc269",
      "795e7cbbf1f749a5a72e47c981cf2c5e",
      "b5fbe0dbb2e44f0eae07a81bb0e874f4",
      "e15de04611df461ca4281d151a7c226f",
      "d7b1c8a9e0764f59b4fafba1c81023f6",
      "919f2460dc03479bbe6d18eefa3fbf0d",
      "99e4016a9be041c48dd767a3aa179d24",
      "bf1c03f2da7e4c03af1a872d911eca0a",
      "b5ce969d9340453cbb77e4ffc667791f",
      "7b9e4cb0f52146749a41405e1c6cfaa4",
      "cf08264bd7a848249f3343ee52de8455",
      "0308a63c5eb145f2b5da22ffc933ff46",
      "13464492148d4081bd145d09fad8c173",
      "f36fc30d6aae4ee1ade548c571a076b3",
      "00a90662cf9f4fae8aa9835762295ef1",
      "85d58a58d6e1432caaf5e72abaa1179b",
      "bbf12ed76ba54734ab74b9863934b5b7",
      "cdae6f315147437ebec7bdf80f3a456e",
      "94564500da9c4be5a33e6845c3b7bea8",
      "42e415755d954219b0241e5c92be3163"
     ]
    },
    "id": "DOSkg10p3Wc8",
    "outputId": "efd94432-b4f9-4090-aca7-96650be18e0a"
   },
   "execution_count": 22,
   "outputs": [
    {
     "output_type": "display_data",
     "data": {
      "application/vnd.jupyter.widget-view+json": {
       "model_id": "5141f21d8148423bbea8ab952061ad37",
       "version_minor": 0,
       "version_major": 2
      },
      "text/plain": [
       "  0%|          | 0/250 [00:00<?, ?it/s]"
      ]
     },
     "metadata": {}
    },
    {
     "output_type": "stream",
     "name": "stderr",
     "text": [
      "/usr/local/lib/python3.7/dist-packages/ipykernel_launcher.py:9: UserWarning: To copy construct from a tensor, it is recommended to use sourceTensor.clone().detach() or sourceTensor.clone().detach().requires_grad_(True), rather than torch.tensor(sourceTensor).\n",
      "  if __name__ == '__main__':\n"
     ]
    },
    {
     "output_type": "display_data",
     "data": {
      "application/vnd.jupyter.widget-view+json": {
       "model_id": "7b9e4cb0f52146749a41405e1c6cfaa4",
       "version_minor": 0,
       "version_major": 2
      },
      "text/plain": [
       "  0%|          | 0/250 [00:00<?, ?it/s]"
      ]
     },
     "metadata": {}
    }
   ]
  },
  {
   "cell_type": "markdown",
   "source": [
    "# Evaluation"
   ],
   "metadata": {
    "id": "2P0q8MCb_D5C"
   }
  },
  {
   "cell_type": "markdown",
   "source": [
    "Collect the two 25K boosted images for evaluation"
   ],
   "metadata": {
    "id": "DWlviD74A7Dc"
   }
  },
  {
   "cell_type": "code",
   "source": [
    "import numpy as np\n",
    "\n",
    "x = np.load(f\"boosted_SN_ResNet_GAN_eps_{epsilon}_0.npz\", mmap_mode='r')\n",
    "arr = x['arr_0']\n",
    "x = np.load(f\"boosted_SN_ResNet_GAN_eps_{epsilon}_1.npz\", mmap_mode='r')\n",
    "arr = np.concatenate((arr, x['arr_0']))"
   ],
   "metadata": {
    "id": "Td_zb7tuA7M2"
   },
   "execution_count": 23,
   "outputs": []
  },
  {
   "cell_type": "code",
   "source": [
    "  # save as npz for evaluation\n",
    "  np.savez(f\"boosted_SN_ResNet_GAN_eps_{epsilon}\", arr)"
   ],
   "metadata": {
    "id": "f95sIe1REoeI"
   },
   "execution_count": 24,
   "outputs": []
  },
  {
   "cell_type": "markdown",
   "source": [
    "Run evaluation"
   ],
   "metadata": {
    "id": "SIh1n833-Muz"
   }
  },
  {
   "cell_type": "code",
   "source": [
    "!python ./gdrive/MyDrive/models_and_scripts/evaluator.py ./VIRTUAL_imagenet128_labeled.npz ./boosted_SN_ResNet_GAN_eps_15.npz"
   ],
   "metadata": {
    "colab": {
     "base_uri": "https://localhost:8080/"
    },
    "id": "so8-cT29F6l3",
    "outputId": "c3446edc-aa2c-460e-900d-fff97a1aade7"
   },
   "execution_count": 25,
   "outputs": [
    {
     "output_type": "stream",
     "name": "stdout",
     "text": [
      "2022-01-26 21:05:28.340476: W tensorflow/core/framework/op_def_util.cc:371] Op BatchNormWithGlobalNormalization is deprecated. It will cease to work in GraphDef version 9. Use tf.nn.batch_normalization().\n",
      "warming up TensorFlow...\n",
      "100% 1/1 [00:08<00:00,  8.12s/it]\n",
      "computing reference batch activations...\n",
      "100% 157/157 [00:29<00:00,  5.26it/s]\n",
      "computing/reading reference batch statistics...\n",
      "computing sample batch activations...\n",
      "100% 782/782 [02:23<00:00,  5.44it/s]\n",
      "computing/reading sample batch statistics...\n",
      "Computing evaluations...\n",
      "Inception Score: 44.68443298339844\n",
      "FID: 29.297974807360504\n",
      "sFID: 22.245279315420362\n",
      "tcmalloc: large alloc 2000003072 bytes == 0x5631e9efc000 @  0x7fde085d3001 0x7fde0509b54f 0x7fde050ebb58 0x7fde050efb17 0x7fde0518e203 0x5631185bb544 0x5631185bb240 0x56311862f627 0x563118629ced 0x5631185bcbda 0x56311862ac0d 0x5631185bcafa 0x56311862ac0d 0x5631185bcafa 0x56311862a915 0x5631186299ee 0x5631186296f3 0x5631186f34c2 0x5631186f383d 0x5631186f36e6 0x5631186cb163 0x5631186cae0c 0x7fde073bbbf7 0x5631186cacea\n",
      "Precision: 0.46536\n",
      "Recall: 0.1776\n"
     ]
    }
   ]
  }
 ]
}