{
 "nbformat": 4,
 "nbformat_minor": 0,
 "metadata": {
  "accelerator": "GPU",
  "colab": {
   "name": "BigROC_deep_biggan_ImageNet128.ipynb",
   "provenance": [],
   "collapsed_sections": [],
   "machine_shape": "hm",
   "toc_visible": true,
   "authorship_tag": "ABX9TyPdM4Mf1BucjSjWVcHIOFpJ",
   "include_colab_link": true
  },
  "kernelspec": {
   "display_name": "Python 3",
   "name": "python3"
  },
  "language_info": {
   "name": "python"
  },
  "widgets": {
   "application/vnd.jupyter.widget-state+json": {
    "268fcfaa4e8148a99b3f370a90d446d9": {
     "model_module": "@jupyter-widgets/controls",
     "model_name": "HBoxModel",
     "model_module_version": "1.5.0",
     "state": {
      "_view_name": "HBoxView",
      "_dom_classes": [],
      "_model_name": "HBoxModel",
      "_view_module": "@jupyter-widgets/controls",
      "_model_module_version": "1.5.0",
      "_view_count": null,
      "_view_module_version": "1.5.0",
      "box_style": "",
      "layout": "IPY_MODEL_72c3d31c1a874cde93ab786e45515c92",
      "_model_module": "@jupyter-widgets/controls",
      "children": [
       "IPY_MODEL_71c166b8af78450cabc8f33bd6944f75",
       "IPY_MODEL_783298f7f82b43699ae4182afabe78e7",
       "IPY_MODEL_54e06a0f80e84078ac02791e6a70fcb5"
      ]
     }
    },
    "72c3d31c1a874cde93ab786e45515c92": {
     "model_module": "@jupyter-widgets/base",
     "model_name": "LayoutModel",
     "model_module_version": "1.2.0",
     "state": {
      "_view_name": "LayoutView",
      "grid_template_rows": null,
      "right": null,
      "justify_content": null,
      "_view_module": "@jupyter-widgets/base",
      "overflow": null,
      "_model_module_version": "1.2.0",
      "_view_count": null,
      "flex_flow": null,
      "width": null,
      "min_width": null,
      "border": null,
      "align_items": null,
      "bottom": null,
      "_model_module": "@jupyter-widgets/base",
      "top": null,
      "grid_column": null,
      "overflow_y": null,
      "overflow_x": null,
      "grid_auto_flow": null,
      "grid_area": null,
      "grid_template_columns": null,
      "flex": null,
      "_model_name": "LayoutModel",
      "justify_items": null,
      "grid_row": null,
      "max_height": null,
      "align_content": null,
      "visibility": null,
      "align_self": null,
      "height": null,
      "min_height": null,
      "padding": null,
      "grid_auto_rows": null,
      "grid_gap": null,
      "max_width": null,
      "order": null,
      "_view_module_version": "1.2.0",
      "grid_template_areas": null,
      "object_position": null,
      "object_fit": null,
      "grid_auto_columns": null,
      "margin": null,
      "display": null,
      "left": null
     }
    },
    "71c166b8af78450cabc8f33bd6944f75": {
     "model_module": "@jupyter-widgets/controls",
     "model_name": "HTMLModel",
     "model_module_version": "1.5.0",
     "state": {
      "_view_name": "HTMLView",
      "style": "IPY_MODEL_9cd5c6c064b04f2cbd8c834378f0340e",
      "_dom_classes": [],
      "description": "",
      "_model_name": "HTMLModel",
      "placeholder": "​",
      "_view_module": "@jupyter-widgets/controls",
      "_model_module_version": "1.5.0",
      "value": "100%",
      "_view_count": null,
      "_view_module_version": "1.5.0",
      "description_tooltip": null,
      "_model_module": "@jupyter-widgets/controls",
      "layout": "IPY_MODEL_f249388d1c43497f83a54429404e5082"
     }
    },
    "783298f7f82b43699ae4182afabe78e7": {
     "model_module": "@jupyter-widgets/controls",
     "model_name": "FloatProgressModel",
     "model_module_version": "1.5.0",
     "state": {
      "_view_name": "ProgressView",
      "style": "IPY_MODEL_c0c11da6b4ba4e038782738baedbbdde",
      "_dom_classes": [],
      "description": "",
      "_model_name": "FloatProgressModel",
      "bar_style": "success",
      "max": 250,
      "_view_module": "@jupyter-widgets/controls",
      "_model_module_version": "1.5.0",
      "value": 250,
      "_view_count": null,
      "_view_module_version": "1.5.0",
      "orientation": "horizontal",
      "min": 0,
      "description_tooltip": null,
      "_model_module": "@jupyter-widgets/controls",
      "layout": "IPY_MODEL_5413c9f324c540d4bdfe2dec37c01d22"
     }
    },
    "54e06a0f80e84078ac02791e6a70fcb5": {
     "model_module": "@jupyter-widgets/controls",
     "model_name": "HTMLModel",
     "model_module_version": "1.5.0",
     "state": {
      "_view_name": "HTMLView",
      "style": "IPY_MODEL_84a92f910b864d2f96659beeec12df5c",
      "_dom_classes": [],
      "description": "",
      "_model_name": "HTMLModel",
      "placeholder": "​",
      "_view_module": "@jupyter-widgets/controls",
      "_model_module_version": "1.5.0",
      "value": " 250/250 [16:41&lt;00:00,  4.02s/it]",
      "_view_count": null,
      "_view_module_version": "1.5.0",
      "description_tooltip": null,
      "_model_module": "@jupyter-widgets/controls",
      "layout": "IPY_MODEL_82a1b3a771b24a8e9b1bf312d722ae95"
     }
    },
    "9cd5c6c064b04f2cbd8c834378f0340e": {
     "model_module": "@jupyter-widgets/controls",
     "model_name": "DescriptionStyleModel",
     "model_module_version": "1.5.0",
     "state": {
      "_view_name": "StyleView",
      "_model_name": "DescriptionStyleModel",
      "description_width": "",
      "_view_module": "@jupyter-widgets/base",
      "_model_module_version": "1.5.0",
      "_view_count": null,
      "_view_module_version": "1.2.0",
      "_model_module": "@jupyter-widgets/controls"
     }
    },
    "f249388d1c43497f83a54429404e5082": {
     "model_module": "@jupyter-widgets/base",
     "model_name": "LayoutModel",
     "model_module_version": "1.2.0",
     "state": {
      "_view_name": "LayoutView",
      "grid_template_rows": null,
      "right": null,
      "justify_content": null,
      "_view_module": "@jupyter-widgets/base",
      "overflow": null,
      "_model_module_version": "1.2.0",
      "_view_count": null,
      "flex_flow": null,
      "width": null,
      "min_width": null,
      "border": null,
      "align_items": null,
      "bottom": null,
      "_model_module": "@jupyter-widgets/base",
      "top": null,
      "grid_column": null,
      "overflow_y": null,
      "overflow_x": null,
      "grid_auto_flow": null,
      "grid_area": null,
      "grid_template_columns": null,
      "flex": null,
      "_model_name": "LayoutModel",
      "justify_items": null,
      "grid_row": null,
      "max_height": null,
      "align_content": null,
      "visibility": null,
      "align_self": null,
      "height": null,
      "min_height": null,
      "padding": null,
      "grid_auto_rows": null,
      "grid_gap": null,
      "max_width": null,
      "order": null,
      "_view_module_version": "1.2.0",
      "grid_template_areas": null,
      "object_position": null,
      "object_fit": null,
      "grid_auto_columns": null,
      "margin": null,
      "display": null,
      "left": null
     }
    },
    "c0c11da6b4ba4e038782738baedbbdde": {
     "model_module": "@jupyter-widgets/controls",
     "model_name": "ProgressStyleModel",
     "model_module_version": "1.5.0",
     "state": {
      "_view_name": "StyleView",
      "_model_name": "ProgressStyleModel",
      "description_width": "",
      "_view_module": "@jupyter-widgets/base",
      "_model_module_version": "1.5.0",
      "_view_count": null,
      "_view_module_version": "1.2.0",
      "bar_color": null,
      "_model_module": "@jupyter-widgets/controls"
     }
    },
    "5413c9f324c540d4bdfe2dec37c01d22": {
     "model_module": "@jupyter-widgets/base",
     "model_name": "LayoutModel",
     "model_module_version": "1.2.0",
     "state": {
      "_view_name": "LayoutView",
      "grid_template_rows": null,
      "right": null,
      "justify_content": null,
      "_view_module": "@jupyter-widgets/base",
      "overflow": null,
      "_model_module_version": "1.2.0",
      "_view_count": null,
      "flex_flow": null,
      "width": null,
      "min_width": null,
      "border": null,
      "align_items": null,
      "bottom": null,
      "_model_module": "@jupyter-widgets/base",
      "top": null,
      "grid_column": null,
      "overflow_y": null,
      "overflow_x": null,
      "grid_auto_flow": null,
      "grid_area": null,
      "grid_template_columns": null,
      "flex": null,
      "_model_name": "LayoutModel",
      "justify_items": null,
      "grid_row": null,
      "max_height": null,
      "align_content": null,
      "visibility": null,
      "align_self": null,
      "height": null,
      "min_height": null,
      "padding": null,
      "grid_auto_rows": null,
      "grid_gap": null,
      "max_width": null,
      "order": null,
      "_view_module_version": "1.2.0",
      "grid_template_areas": null,
      "object_position": null,
      "object_fit": null,
      "grid_auto_columns": null,
      "margin": null,
      "display": null,
      "left": null
     }
    },
    "84a92f910b864d2f96659beeec12df5c": {
     "model_module": "@jupyter-widgets/controls",
     "model_name": "DescriptionStyleModel",
     "model_module_version": "1.5.0",
     "state": {
      "_view_name": "StyleView",
      "_model_name": "DescriptionStyleModel",
      "description_width": "",
      "_view_module": "@jupyter-widgets/base",
      "_model_module_version": "1.5.0",
      "_view_count": null,
      "_view_module_version": "1.2.0",
      "_model_module": "@jupyter-widgets/controls"
     }
    },
    "82a1b3a771b24a8e9b1bf312d722ae95": {
     "model_module": "@jupyter-widgets/base",
     "model_name": "LayoutModel",
     "model_module_version": "1.2.0",
     "state": {
      "_view_name": "LayoutView",
      "grid_template_rows": null,
      "right": null,
      "justify_content": null,
      "_view_module": "@jupyter-widgets/base",
      "overflow": null,
      "_model_module_version": "1.2.0",
      "_view_count": null,
      "flex_flow": null,
      "width": null,
      "min_width": null,
      "border": null,
      "align_items": null,
      "bottom": null,
      "_model_module": "@jupyter-widgets/base",
      "top": null,
      "grid_column": null,
      "overflow_y": null,
      "overflow_x": null,
      "grid_auto_flow": null,
      "grid_area": null,
      "grid_template_columns": null,
      "flex": null,
      "_model_name": "LayoutModel",
      "justify_items": null,
      "grid_row": null,
      "max_height": null,
      "align_content": null,
      "visibility": null,
      "align_self": null,
      "height": null,
      "min_height": null,
      "padding": null,
      "grid_auto_rows": null,
      "grid_gap": null,
      "max_width": null,
      "order": null,
      "_view_module_version": "1.2.0",
      "grid_template_areas": null,
      "object_position": null,
      "object_fit": null,
      "grid_auto_columns": null,
      "margin": null,
      "display": null,
      "left": null
     }
    },
    "6d5fbe69757f4918ac7685ace313dc6f": {
     "model_module": "@jupyter-widgets/controls",
     "model_name": "HBoxModel",
     "model_module_version": "1.5.0",
     "state": {
      "_view_name": "HBoxView",
      "_dom_classes": [],
      "_model_name": "HBoxModel",
      "_view_module": "@jupyter-widgets/controls",
      "_model_module_version": "1.5.0",
      "_view_count": null,
      "_view_module_version": "1.5.0",
      "box_style": "",
      "layout": "IPY_MODEL_44c2d40dddf34630b397105314393c23",
      "_model_module": "@jupyter-widgets/controls",
      "children": [
       "IPY_MODEL_b2e8a1d4caca41aba85baba03965d0ad",
       "IPY_MODEL_7b271a19c04c4861b5b9a06562f32d73",
       "IPY_MODEL_514a6ae8144b4cc486496005562219c7"
      ]
     }
    },
    "44c2d40dddf34630b397105314393c23": {
     "model_module": "@jupyter-widgets/base",
     "model_name": "LayoutModel",
     "model_module_version": "1.2.0",
     "state": {
      "_view_name": "LayoutView",
      "grid_template_rows": null,
      "right": null,
      "justify_content": null,
      "_view_module": "@jupyter-widgets/base",
      "overflow": null,
      "_model_module_version": "1.2.0",
      "_view_count": null,
      "flex_flow": null,
      "width": null,
      "min_width": null,
      "border": null,
      "align_items": null,
      "bottom": null,
      "_model_module": "@jupyter-widgets/base",
      "top": null,
      "grid_column": null,
      "overflow_y": null,
      "overflow_x": null,
      "grid_auto_flow": null,
      "grid_area": null,
      "grid_template_columns": null,
      "flex": null,
      "_model_name": "LayoutModel",
      "justify_items": null,
      "grid_row": null,
      "max_height": null,
      "align_content": null,
      "visibility": null,
      "align_self": null,
      "height": null,
      "min_height": null,
      "padding": null,
      "grid_auto_rows": null,
      "grid_gap": null,
      "max_width": null,
      "order": null,
      "_view_module_version": "1.2.0",
      "grid_template_areas": null,
      "object_position": null,
      "object_fit": null,
      "grid_auto_columns": null,
      "margin": null,
      "display": null,
      "left": null
     }
    },
    "b2e8a1d4caca41aba85baba03965d0ad": {
     "model_module": "@jupyter-widgets/controls",
     "model_name": "HTMLModel",
     "model_module_version": "1.5.0",
     "state": {
      "_view_name": "HTMLView",
      "style": "IPY_MODEL_025d476e06164357b37e55abe5f72923",
      "_dom_classes": [],
      "description": "",
      "_model_name": "HTMLModel",
      "placeholder": "​",
      "_view_module": "@jupyter-widgets/controls",
      "_model_module_version": "1.5.0",
      "value": "100%",
      "_view_count": null,
      "_view_module_version": "1.5.0",
      "description_tooltip": null,
      "_model_module": "@jupyter-widgets/controls",
      "layout": "IPY_MODEL_c7a4d84a4f5b4b3cb426f9a06e8aceac"
     }
    },
    "7b271a19c04c4861b5b9a06562f32d73": {
     "model_module": "@jupyter-widgets/controls",
     "model_name": "FloatProgressModel",
     "model_module_version": "1.5.0",
     "state": {
      "_view_name": "ProgressView",
      "style": "IPY_MODEL_00ac5b7e5246470b84eda6c72e79fcaf",
      "_dom_classes": [],
      "description": "",
      "_model_name": "FloatProgressModel",
      "bar_style": "success",
      "max": 250,
      "_view_module": "@jupyter-widgets/controls",
      "_model_module_version": "1.5.0",
      "value": 250,
      "_view_count": null,
      "_view_module_version": "1.5.0",
      "orientation": "horizontal",
      "min": 0,
      "description_tooltip": null,
      "_model_module": "@jupyter-widgets/controls",
      "layout": "IPY_MODEL_936567a8a17d46a8b887f64c1d5f0180"
     }
    },
    "514a6ae8144b4cc486496005562219c7": {
     "model_module": "@jupyter-widgets/controls",
     "model_name": "HTMLModel",
     "model_module_version": "1.5.0",
     "state": {
      "_view_name": "HTMLView",
      "style": "IPY_MODEL_e5729cdd013340a9bff25494002abdff",
      "_dom_classes": [],
      "description": "",
      "_model_name": "HTMLModel",
      "placeholder": "​",
      "_view_module": "@jupyter-widgets/controls",
      "_model_module_version": "1.5.0",
      "value": " 250/250 [16:45&lt;00:00,  4.05s/it]",
      "_view_count": null,
      "_view_module_version": "1.5.0",
      "description_tooltip": null,
      "_model_module": "@jupyter-widgets/controls",
      "layout": "IPY_MODEL_665b0554e0ab47e08358d9b4f9a26802"
     }
    },
    "025d476e06164357b37e55abe5f72923": {
     "model_module": "@jupyter-widgets/controls",
     "model_name": "DescriptionStyleModel",
     "model_module_version": "1.5.0",
     "state": {
      "_view_name": "StyleView",
      "_model_name": "DescriptionStyleModel",
      "description_width": "",
      "_view_module": "@jupyter-widgets/base",
      "_model_module_version": "1.5.0",
      "_view_count": null,
      "_view_module_version": "1.2.0",
      "_model_module": "@jupyter-widgets/controls"
     }
    },
    "c7a4d84a4f5b4b3cb426f9a06e8aceac": {
     "model_module": "@jupyter-widgets/base",
     "model_name": "LayoutModel",
     "model_module_version": "1.2.0",
     "state": {
      "_view_name": "LayoutView",
      "grid_template_rows": null,
      "right": null,
      "justify_content": null,
      "_view_module": "@jupyter-widgets/base",
      "overflow": null,
      "_model_module_version": "1.2.0",
      "_view_count": null,
      "flex_flow": null,
      "width": null,
      "min_width": null,
      "border": null,
      "align_items": null,
      "bottom": null,
      "_model_module": "@jupyter-widgets/base",
      "top": null,
      "grid_column": null,
      "overflow_y": null,
      "overflow_x": null,
      "grid_auto_flow": null,
      "grid_area": null,
      "grid_template_columns": null,
      "flex": null,
      "_model_name": "LayoutModel",
      "justify_items": null,
      "grid_row": null,
      "max_height": null,
      "align_content": null,
      "visibility": null,
      "align_self": null,
      "height": null,
      "min_height": null,
      "padding": null,
      "grid_auto_rows": null,
      "grid_gap": null,
      "max_width": null,
      "order": null,
      "_view_module_version": "1.2.0",
      "grid_template_areas": null,
      "object_position": null,
      "object_fit": null,
      "grid_auto_columns": null,
      "margin": null,
      "display": null,
      "left": null
     }
    },
    "00ac5b7e5246470b84eda6c72e79fcaf": {
     "model_module": "@jupyter-widgets/controls",
     "model_name": "ProgressStyleModel",
     "model_module_version": "1.5.0",
     "state": {
      "_view_name": "StyleView",
      "_model_name": "ProgressStyleModel",
      "description_width": "",
      "_view_module": "@jupyter-widgets/base",
      "_model_module_version": "1.5.0",
      "_view_count": null,
      "_view_module_version": "1.2.0",
      "bar_color": null,
      "_model_module": "@jupyter-widgets/controls"
     }
    },
    "936567a8a17d46a8b887f64c1d5f0180": {
     "model_module": "@jupyter-widgets/base",
     "model_name": "LayoutModel",
     "model_module_version": "1.2.0",
     "state": {
      "_view_name": "LayoutView",
      "grid_template_rows": null,
      "right": null,
      "justify_content": null,
      "_view_module": "@jupyter-widgets/base",
      "overflow": null,
      "_model_module_version": "1.2.0",
      "_view_count": null,
      "flex_flow": null,
      "width": null,
      "min_width": null,
      "border": null,
      "align_items": null,
      "bottom": null,
      "_model_module": "@jupyter-widgets/base",
      "top": null,
      "grid_column": null,
      "overflow_y": null,
      "overflow_x": null,
      "grid_auto_flow": null,
      "grid_area": null,
      "grid_template_columns": null,
      "flex": null,
      "_model_name": "LayoutModel",
      "justify_items": null,
      "grid_row": null,
      "max_height": null,
      "align_content": null,
      "visibility": null,
      "align_self": null,
      "height": null,
      "min_height": null,
      "padding": null,
      "grid_auto_rows": null,
      "grid_gap": null,
      "max_width": null,
      "order": null,
      "_view_module_version": "1.2.0",
      "grid_template_areas": null,
      "object_position": null,
      "object_fit": null,
      "grid_auto_columns": null,
      "margin": null,
      "display": null,
      "left": null
     }
    },
    "e5729cdd013340a9bff25494002abdff": {
     "model_module": "@jupyter-widgets/controls",
     "model_name": "DescriptionStyleModel",
     "model_module_version": "1.5.0",
     "state": {
      "_view_name": "StyleView",
      "_model_name": "DescriptionStyleModel",
      "description_width": "",
      "_view_module": "@jupyter-widgets/base",
      "_model_module_version": "1.5.0",
      "_view_count": null,
      "_view_module_version": "1.2.0",
      "_model_module": "@jupyter-widgets/controls"
     }
    },
    "665b0554e0ab47e08358d9b4f9a26802": {
     "model_module": "@jupyter-widgets/base",
     "model_name": "LayoutModel",
     "model_module_version": "1.2.0",
     "state": {
      "_view_name": "LayoutView",
      "grid_template_rows": null,
      "right": null,
      "justify_content": null,
      "_view_module": "@jupyter-widgets/base",
      "overflow": null,
      "_model_module_version": "1.2.0",
      "_view_count": null,
      "flex_flow": null,
      "width": null,
      "min_width": null,
      "border": null,
      "align_items": null,
      "bottom": null,
      "_model_module": "@jupyter-widgets/base",
      "top": null,
      "grid_column": null,
      "overflow_y": null,
      "overflow_x": null,
      "grid_auto_flow": null,
      "grid_area": null,
      "grid_template_columns": null,
      "flex": null,
      "_model_name": "LayoutModel",
      "justify_items": null,
      "grid_row": null,
      "max_height": null,
      "align_content": null,
      "visibility": null,
      "align_self": null,
      "height": null,
      "min_height": null,
      "padding": null,
      "grid_auto_rows": null,
      "grid_gap": null,
      "max_width": null,
      "order": null,
      "_view_module_version": "1.2.0",
      "grid_template_areas": null,
      "object_position": null,
      "object_fit": null,
      "grid_auto_columns": null,
      "margin": null,
      "display": null,
      "left": null
     }
    }
   }
  }
 },
 "cells": [
  {
   "cell_type": "markdown",
   "source": [
    "# BIGRoC: Boosting Image Generation via a Robust Classifier\n",
    "\n",
    "--------------------------------------------------\n",
    "\n",
    "## Boosting deep BigGAN on ImageNet $128\\times128$\n",
    "\n",
    "This colab notebook contains the needed code to experiment with our proposed algorithm for boosting deep BigGAN on ImageNet 128x128 (in Section 5.2).\n",
    "\n",
    "**How to use**\n",
    "\n",
    "1.   Upload the notebook to colab\n",
    "2.   Make sure that colab uses a GPU (Edit $\\rightarrow$ Notebook settings $\\rightarrow$ Hardware accelerator)\n",
    "\n",
    "**Setup:**\n",
    "\n",
    "This notebook mounts google drive and assumes that [this directory](https://drive.google.com/drive/folders/1yN6WjMmc-pi3zHylF-I1jri7I2nZpsGJ?usp=sharing) is located in your root folder in Google Drive. Therefore, please open the Google Drive's link and choose \"add a shortcut to drive\" and pick \"My Drive\" is the chosen location. By doing so, you are ready to go :)\n",
    "\n",
    "If you rather not to mount your google drive, download the files and edit the relevant paths accordingly.\n",
    "\n",
    "**Credits**\n",
    "\n",
    "This notebook uses the following packages:\n",
    "\n",
    "* [robustness](https://github.com/MadryLab/robustness) - For adversarially robust classifier\n",
    "* [guided-diffuision](https://github.com/openai/guided-diffusion/tree/main/evaluations) - ImageNet quantitative evaluation and 50K set of generated images + labels"
   ],
   "metadata": {
    "id": "kvc8m_39Qvjm"
   }
  },
  {
   "cell_type": "markdown",
   "source": [
    "# Setup & Installation"
   ],
   "metadata": {
    "id": "PG9z7gCoQ-Xx"
   }
  },
  {
   "cell_type": "code",
   "source": [
    "from google.colab import drive\n",
    "drive.mount('/content/gdrive')"
   ],
   "metadata": {
    "id": "B7kxmjDV6zJ5",
    "colab": {
     "base_uri": "https://localhost:8080/"
    },
    "outputId": "a0072619-348d-489d-823d-69aec9bcc21e"
   },
   "execution_count": 1,
   "outputs": [
    {
     "output_type": "stream",
     "name": "stdout",
     "text": [
      "Mounted at /content/gdrive\n"
     ]
    }
   ]
  },
  {
   "cell_type": "code",
   "metadata": {
    "id": "88-l2rMBa_2x"
   },
   "source": [
    "!pip install torch==1.8.2+cu102 torchvision==0.9.2+cu102 -f https://download.pytorch.org/whl/lts/1.8/torch_lts.html"
   ],
   "execution_count": null,
   "outputs": []
  },
  {
   "cell_type": "code",
   "metadata": {
    "id": "uWzwRENDpoKT"
   },
   "source": [
    "!wget http://andrewilyas.com/ImageNet.pt"
   ],
   "execution_count": null,
   "outputs": []
  },
  {
   "cell_type": "code",
   "metadata": {
    "id": "QjlvYu2GpshB"
   },
   "source": [
    "!pip install robustness"
   ],
   "execution_count": null,
   "outputs": []
  },
  {
   "cell_type": "code",
   "metadata": {
    "id": "F4u5i4W6pwc5"
   },
   "source": [
    "from robustness import model_utils, datasets\n",
    "import torch\n",
    "\n",
    "\n",
    "def create_dl_model(DATA='CIFAR', BATCH_SIZE=128, NUM_WORKERS=8):\n",
    "    '''\n",
    "    :param DATA: Choices: ['CIFAR', 'ImageNet', 'RestrictedImageNet']\n",
    "    :param bs: batch size\n",
    "    :param num_workers:\n",
    "    :return: a dataloader object\n",
    "    '''\n",
    "\n",
    "    # Load dataset\n",
    "    dataset_function = getattr(datasets, DATA)\n",
    "    dataset = dataset_function('data')\n",
    "    # Load model\n",
    "    model_kwargs = {\n",
    "        'arch': 'resnet50',\n",
    "        'dataset': dataset,\n",
    "        'resume_path': f'./{DATA}.pt'\n",
    "    }\n",
    "    model, _ = model_utils.make_and_restore_model(**model_kwargs)\n",
    "    classifier = model.model\n",
    "    classifier.eval()\n",
    "    return classifier\n",
    "\n",
    "adv_model = create_dl_model(DATA='ImageNet')"
   ],
   "execution_count": null,
   "outputs": []
  },
  {
   "cell_type": "code",
   "metadata": {
    "id": "gbD_W0ytpyVV"
   },
   "source": [
    "import torch\n",
    "from torch import nn\n",
    "\n",
    "\n",
    "class AttackerStep:\n",
    "    '''\n",
    "    Generic class for attacker steps, under perturbation constraints\n",
    "    specified by an \"origin input\" and a perturbation magnitude.\n",
    "    Must implement project, step, and random_perturb\n",
    "    '''\n",
    "\n",
    "    def __init__(self, orig_input, eps, step_size, use_grad=True):\n",
    "        '''\n",
    "        Initialize the attacker step with a given perturbation magnitude.\n",
    "        Args:\n",
    "            eps (float): the perturbation magnitude\n",
    "            orig_input (ch.tensor): the original input\n",
    "        '''\n",
    "        self.orig_input = orig_input\n",
    "        self.eps = eps\n",
    "        self.step_size = step_size\n",
    "        self.use_grad = use_grad\n",
    "\n",
    "    def project(self, x):\n",
    "        '''\n",
    "        Given an input x, project it back into the feasible set\n",
    "        Args:\n",
    "            ch.tensor x : the input to project back into the feasible set.\n",
    "        Returns:\n",
    "            A `ch.tensor` that is the input projected back into\n",
    "            the feasible set, that is,\n",
    "        .. math:: \\min_{x' \\in S} \\|x' - x\\|_2\n",
    "        '''\n",
    "        raise NotImplementedError\n",
    "\n",
    "    def step(self, x, g):\n",
    "        '''\n",
    "        Given a gradient, make the appropriate step according to the\n",
    "        perturbation constraint (e.g. dual norm maximization for :math:`\\ell_p`\n",
    "        norms).\n",
    "        Parameters:\n",
    "            g (ch.tensor): the raw gradient\n",
    "        Returns:\n",
    "            The new input, a ch.tensor for the next step.\n",
    "        '''\n",
    "        raise NotImplementedError\n",
    "\n",
    "    def random_perturb(self, x):\n",
    "        '''\n",
    "        Given a starting input, take a random step within the feasible set\n",
    "        '''\n",
    "        raise NotImplementedError\n",
    "\n",
    "    def to_image(self, x):\n",
    "        '''\n",
    "        Given an input (which may be in an alternative parameterization),\n",
    "        convert it to a valid image (this is implemented as the identity\n",
    "        function by default as most of the time we use the pixel\n",
    "        parameterization, but for alternative parameterizations this functino\n",
    "        must be overriden).\n",
    "        '''\n",
    "        return x\n",
    "\n",
    "\n",
    "from torch import nn\n",
    "\n",
    "# simple Module to normalize an image\n",
    "class Normalize(nn.Module):\n",
    "    def __init__(self, mean, std):\n",
    "        super(Normalize, self).__init__()\n",
    "        self.mean = torch.Tensor(mean)\n",
    "        self.std = torch.Tensor(std)\n",
    "    def forward(self, x):\n",
    "        return (x - self.mean.type_as(x)[None, :, None, None]) / self.std.type_as(x)[None, :, None, None]\n",
    "\n",
    "norm = Normalize(mean=[0.485, 0.456, 0.406], std=[0.229, 0.224, 0.225])\n",
    "\n",
    "\n",
    "\n",
    "# L2 threat model\n",
    "class L2Step(AttackerStep):\n",
    "    \"\"\"\n",
    "    Attack step for :math:`\\ell_\\infty` threat model. Given :math:`x_0`\n",
    "    and :math:`\\epsilon`, the constraint set is given by:\n",
    "    .. math:: S = \\{x | \\|x - x_0\\|_2 \\leq \\epsilon\\}\n",
    "    \"\"\"\n",
    "\n",
    "    def project(self, x):\n",
    "        \"\"\"\n",
    "        \"\"\"\n",
    "        if self.orig_input is None: self.orig_input = x.detach()\n",
    "        self.orig_input = self.orig_input.cuda()\n",
    "        diff = x - self.orig_input\n",
    "        diff = diff.renorm(p=2, dim=0, maxnorm=self.eps)\n",
    "        return torch.clamp(self.orig_input + diff, 0, 1)\n",
    "\n",
    "    def step(self, x, g):\n",
    "        \"\"\"\n",
    "        \"\"\"\n",
    "        l = len(x.shape) - 1\n",
    "        g_norm = torch.norm(g.reshape(g.shape[0], -1), dim=1).view(-1, *([1] * l))\n",
    "        scaled_g = g / (g_norm + 1e-10)\n",
    "        return x + scaled_g * self.step_size\n",
    "\n",
    "def targeted_pgd_l2(model, X, y, num_iter, eps, step_size):\n",
    "    # input images are in range [0,1]\n",
    "    steper = L2Step(eps=eps, orig_input=None, step_size=step_size)\n",
    "    for t in range(num_iter):\n",
    "        X = X.clone().detach().requires_grad_(True).cuda()\n",
    "        loss = nn.CrossEntropyLoss(reduction='none')(model(norm(X)), y)\n",
    "        loss = torch.mean(loss)\n",
    "        grad, = torch.autograd.grad(-1 * loss, [X])\n",
    "        X = steper.step(X, grad)\n",
    "        X = steper.project(X)\n",
    "    return X.detach()"
   ],
   "execution_count": 2,
   "outputs": []
  },
  {
   "cell_type": "markdown",
   "source": [
    "Donwload reference batch"
   ],
   "metadata": {
    "id": "Uu-6CnPWRYJG"
   }
  },
  {
   "cell_type": "code",
   "source": [
    "!wget https://openaipublic.blob.core.windows.net/diffusion/jul-2021/ref_batches/imagenet/128/VIRTUAL_imagenet128_labeled.npz"
   ],
   "metadata": {
    "id": "RwvissQNRcMA"
   },
   "execution_count": null,
   "outputs": []
  },
  {
   "cell_type": "code",
   "metadata": {
    "id": "xKNwsWGgprBH"
   },
   "source": [
    "!wget https://openaipublic.blob.core.windows.net/diffusion/jul-2021/ref_batches/imagenet/128/biggan_deep_trunc1_imagenet128.npz"
   ],
   "execution_count": null,
   "outputs": []
  },
  {
   "cell_type": "code",
   "metadata": {
    "id": "yt0nCTh-qFp-"
   },
   "source": [
    "import numpy as np\n",
    "\n",
    "x = np.load(\"biggan_deep_trunc1_imagenet128.npz\", mmap_mode='r')\n",
    "gen_imgs = x['arr_0']\n",
    "gt_labels = x['arr_1']"
   ],
   "execution_count": 3,
   "outputs": []
  },
  {
   "cell_type": "markdown",
   "source": [
    "# Deep BigGAN baseline quantitative results"
   ],
   "metadata": {
    "id": "P1O4iCYPRPRG"
   }
  },
  {
   "cell_type": "code",
   "source": [
    "!python ./gdrive/MyDrive/models_and_scripts/evaluator.py ./VIRTUAL_imagenet128_labeled.npz ./biggan_deep_trunc1_imagenet128.npz"
   ],
   "metadata": {
    "colab": {
     "base_uri": "https://localhost:8080/"
    },
    "id": "YJUX-K-ZU5VW",
    "outputId": "7e3d24fe-96da-48c8-b2b2-eb5a21df495d"
   },
   "execution_count": null,
   "outputs": [
    {
     "output_type": "stream",
     "name": "stdout",
     "text": [
      "downloading InceptionV3 model...\n",
      "11679it [00:13, 850.48it/s]\n",
      "2022-01-26 23:34:29.230569: W tensorflow/core/framework/op_def_util.cc:371] Op BatchNormWithGlobalNormalization is deprecated. It will cease to work in GraphDef version 9. Use tf.nn.batch_normalization().\n",
      "warming up TensorFlow...\n",
      "100% 1/1 [00:08<00:00,  8.30s/it]\n",
      "computing reference batch activations...\n",
      "100% 157/157 [00:28<00:00,  5.53it/s]\n",
      "computing/reading reference batch statistics...\n",
      "computing sample batch activations...\n",
      "100% 782/782 [02:15<00:00,  5.75it/s]\n",
      "computing/reading sample batch statistics...\n",
      "Computing evaluations...\n",
      "Inception Score: 145.83079528808594\n",
      "FID: 6.0220333742788625\n",
      "sFID: 7.17773218489333\n",
      "tcmalloc: large alloc 2000003072 bytes == 0x555b8da54000 @  0x7ff23e1e4001 0x7ff23acac54f 0x7ff23acfcb58 0x7ff23ad00b17 0x7ff23ad9f203 0x555abb18f544 0x555abb18f240 0x555abb203627 0x555abb1fdced 0x555abb190bda 0x555abb1fec0d 0x555abb190afa 0x555abb1fec0d 0x555abb190afa 0x555abb1fe915 0x555abb1fd9ee 0x555abb1fd6f3 0x555abb2c74c2 0x555abb2c783d 0x555abb2c76e6 0x555abb29f163 0x555abb29ee0c 0x7ff23cfccbf7 0x555abb29ecea\n",
      "Precision: 0.8624\n",
      "Recall: 0.3487\n"
     ]
    }
   ]
  },
  {
   "cell_type": "markdown",
   "source": [
    "# BIGRoC Application"
   ],
   "metadata": {
    "id": "fSkdWQL8RqUy"
   }
  },
  {
   "cell_type": "code",
   "source": [
    "# calculate the debiasing factor on a subset of generated images\n",
    "logits = []\n",
    "with torch.no_grad():\n",
    "  for idx in range(500):\n",
    "    gen_imgs_debias = gen_imgs[idx * 100 : (idx + 1) * 100]\n",
    "    gen_imgs_debias = torch.tensor(gen_imgs_debias / 255.).cuda().permute(0,3,1,2).float()\n",
    "    logits.append(adv_model(norm(gen_imgs_debias)))\n",
    "logits_t = torch.cat(logits)\n",
    "debiasing = torch.ones(1).cuda() - torch.mean(logits_t, dim=0)"
   ],
   "metadata": {
    "id": "du-ITTfayanw"
   },
   "execution_count": null,
   "outputs": []
  },
  {
   "cell_type": "code",
   "source": [
    "# BIGRoC args\n",
    "epsilon, steps = 5, 7\n",
    "step_size = 1.5 * epsilon / steps\n",
    "use_pl = False"
   ],
   "metadata": {
    "id": "QQC2hqJk_sqT"
   },
   "execution_count": 4,
   "outputs": []
  },
  {
   "cell_type": "code",
   "metadata": {
    "colab": {
     "base_uri": "https://localhost:8080/",
     "height": 49,
     "referenced_widgets": [
      "268fcfaa4e8148a99b3f370a90d446d9",
      "72c3d31c1a874cde93ab786e45515c92",
      "71c166b8af78450cabc8f33bd6944f75",
      "783298f7f82b43699ae4182afabe78e7",
      "54e06a0f80e84078ac02791e6a70fcb5",
      "9cd5c6c064b04f2cbd8c834378f0340e",
      "f249388d1c43497f83a54429404e5082",
      "c0c11da6b4ba4e038782738baedbbdde",
      "5413c9f324c540d4bdfe2dec37c01d22",
      "84a92f910b864d2f96659beeec12df5c",
      "82a1b3a771b24a8e9b1bf312d722ae95"
     ]
    },
    "id": "ewW0-8yHrzR9",
    "outputId": "73859b3a-19d4-4008-e46f-ba2bb630bcdf"
   },
   "source": [
    "from tqdm.notebook import tqdm\n",
    "\n",
    "torch.manual_seed(1234)\n",
    "boosted_gen_imgs = []\n",
    "for i in tqdm(range(250)):\n",
    "  x_batch = gen_imgs[i * 100: (i + 1) * 100]\n",
    "  x_batch_0_1 = torch.tensor(x_batch / 255.).cuda().permute(0,3,1,2).float()\n",
    "  with torch.no_grad():\n",
    "    if use_pl:\n",
    "      labels = torch.argmax(adv_model(norm(x_batch_0_1)), dim=1)\n",
    "    else:\n",
    "      labels = torch.tensor(gt_labels[i * 100: (i + 1) * 100]).cuda().long()\n",
    "  b_imgs = targeted_pgd_l2(model=adv_model, X=x_batch_0_1.data, y=labels.long(), num_iter=steps, eps=epsilon,\n",
    "                                    step_size=step_size).detach().cpu()\n",
    "  boosted_gen_imgs.append(b_imgs)\n",
    "\n",
    "boosted_gen_imgs = torch.cat(boosted_gen_imgs)\n",
    "boosted_gen_imgs = (boosted_gen_imgs * 255.).int()\n",
    "boosted_gen_imgs = boosted_gen_imgs.detach().cpu().permute(0,2,3,1).numpy().astype(np.uint8)\n",
    "\n",
    "\n",
    "if use_pl:\n",
    "  np.savez(f\"./boosted_deep_bigroc_1_eps_{epsilon}\", boosted_gen_imgs)\n",
    "else:\n",
    "  np.savez(f\"./boosted_deep_bigroc_1_eps_{epsilon}_labeled\", boosted_gen_imgs)"
   ],
   "execution_count": 5,
   "outputs": [
    {
     "output_type": "display_data",
     "data": {
      "application/vnd.jupyter.widget-view+json": {
       "model_id": "268fcfaa4e8148a99b3f370a90d446d9",
       "version_minor": 0,
       "version_major": 2
      },
      "text/plain": [
       "  0%|          | 0/250 [00:00<?, ?it/s]"
      ]
     },
     "metadata": {}
    }
   ]
  },
  {
   "cell_type": "code",
   "metadata": {
    "colab": {
     "base_uri": "https://localhost:8080/",
     "height": 49,
     "referenced_widgets": [
      "6d5fbe69757f4918ac7685ace313dc6f",
      "44c2d40dddf34630b397105314393c23",
      "b2e8a1d4caca41aba85baba03965d0ad",
      "7b271a19c04c4861b5b9a06562f32d73",
      "514a6ae8144b4cc486496005562219c7",
      "025d476e06164357b37e55abe5f72923",
      "c7a4d84a4f5b4b3cb426f9a06e8aceac",
      "00ac5b7e5246470b84eda6c72e79fcaf",
      "936567a8a17d46a8b887f64c1d5f0180",
      "e5729cdd013340a9bff25494002abdff",
      "665b0554e0ab47e08358d9b4f9a26802"
     ]
    },
    "id": "yVmaz9cGQnWL",
    "outputId": "71560992-17ef-465a-cc58-3b720428ec50"
   },
   "source": [
    "from tqdm.notebook import tqdm\n",
    "\n",
    "torch.manual_seed(1234)\n",
    "boosted_gen_imgs = []\n",
    "for i in tqdm(range(250)):\n",
    "  x_batch = gen_imgs[(25000 + i*100):(25000 + (i + 1) * 100)]\n",
    "  x_batch_0_1 = torch.tensor(x_batch / 255.).cuda().permute(0,3,1,2).float()\n",
    "  with torch.no_grad():\n",
    "    if use_pl:\n",
    "      labels = torch.argmax(adv_model(norm(x_batch_0_1)), dim=1)\n",
    "    else:\n",
    "      labels = torch.tensor(gt_labels[(25000 + i*100):(25000 + (i + 1) * 100)]).cuda().long()\n",
    "  boosted_gen_imgs.append(targeted_pgd_l2(model=adv_model, X=x_batch_0_1.data, y=labels.long(), num_iter=steps, eps=epsilon,\n",
    "                                    step_size=step_size).detach().cpu())\n",
    "\n",
    "boosted_gen_imgs = torch.cat(boosted_gen_imgs)\n",
    "boosted_gen_imgs = (boosted_gen_imgs * 255.).int()\n",
    "boosted_gen_imgs = boosted_gen_imgs.detach().cpu().permute(0,2,3,1).numpy().astype(np.uint8)\n",
    "\n",
    "if use_pl:\n",
    "  np.savez(f\"./boosted_deep_bigroc_2_eps_{epsilon}\", boosted_gen_imgs)\n",
    "else:\n",
    "  np.savez(f\"./boosted_deep_bigroc_2_eps_{epsilon}_labeled\", boosted_gen_imgs)"
   ],
   "execution_count": 6,
   "outputs": [
    {
     "output_type": "display_data",
     "data": {
      "application/vnd.jupyter.widget-view+json": {
       "model_id": "6d5fbe69757f4918ac7685ace313dc6f",
       "version_minor": 0,
       "version_major": 2
      },
      "text/plain": [
       "  0%|          | 0/250 [00:00<?, ?it/s]"
      ]
     },
     "metadata": {}
    }
   ]
  },
  {
   "cell_type": "markdown",
   "metadata": {
    "id": "DAFRFBhAk6Sj"
   },
   "source": [
    "load boosted images"
   ]
  },
  {
   "cell_type": "code",
   "source": [
    "import numpy as np\n",
    "from tqdm.notebook import tqdm\n",
    "\"\"\n",
    "arr = np.zeros(shape=(50000, 128, 128, 3), dtype=np.uint8)\n",
    "if use_pl:\n",
    "  x = np.load(f\"boosted_deep_bigroc_1_eps_{epsilon}.npz\")['arr_0']\n",
    "  arr[:25000] = x\n",
    "  x = np.load(f\"boosted_deep_bigroc_2_eps_{epsilon}.npz\")['arr_0']\n",
    "  arr[25000:] = x\n",
    "else:\n",
    "  x = np.load(f\"boosted_deep_bigroc_1_eps_{epsilon}_labeled.npz\")['arr_0']\n",
    "  arr[:25000] = x\n",
    "  x = np.load(f\"boosted_deep_bigroc_2_eps_{epsilon}_labeled.npz\")['arr_0']\n",
    "  arr[25000:] = x"
   ],
   "metadata": {
    "id": "LYogzp7eSDdv"
   },
   "execution_count": 7,
   "outputs": []
  },
  {
   "cell_type": "code",
   "source": [
    "arr.shape, arr.min(), arr.max()"
   ],
   "metadata": {
    "colab": {
     "base_uri": "https://localhost:8080/"
    },
    "id": "3RG1hfkn19aC",
    "outputId": "6825c8e2-50f8-4cd6-8396-f01b1ca35887"
   },
   "execution_count": 54,
   "outputs": [
    {
     "output_type": "execute_result",
     "data": {
      "text/plain": [
       "((50000, 128, 128, 3), 0, 255)"
      ]
     },
     "metadata": {},
     "execution_count": 54
    }
   ]
  },
  {
   "cell_type": "code",
   "metadata": {
    "id": "4hxlEIm35-ui"
   },
   "source": [
    "if use_pl:\n",
    "  np.savez(f\"boosted_deep_bigroc_eps_{epsilon}\", arr)\n",
    "else:\n",
    "  np.savez(f\"boosted_deep_bigroc_eps_{epsilon}_labeled\", arr)"
   ],
   "execution_count": 8,
   "outputs": []
  },
  {
   "cell_type": "markdown",
   "source": [
    "$\\epsilon = 5$ BIGRoC$_{GT}$"
   ],
   "metadata": {
    "id": "rfaLL3S3y2mr"
   }
  },
  {
   "cell_type": "code",
   "source": [
    "!python ./gdrive/MyDrive/models_and_scripts/evaluator.py ./VIRTUAL_imagenet128_labeled.npz ./boosted_deep_bigroc_eps_5_labeled.npz"
   ],
   "metadata": {
    "colab": {
     "base_uri": "https://localhost:8080/"
    },
    "id": "PYh5WgEzKzGI",
    "outputId": "fe1764d0-00dc-4530-aa91-20ef6ce8ec4a"
   },
   "execution_count": 15,
   "outputs": [
    {
     "output_type": "stream",
     "name": "stdout",
     "text": [
      "downloading InceptionV3 model...\n",
      "11679it [00:16, 695.21it/s]\n",
      "2022-01-27 17:22:40.350712: W tensorflow/core/framework/op_def_util.cc:371] Op BatchNormWithGlobalNormalization is deprecated. It will cease to work in GraphDef version 9. Use tf.nn.batch_normalization().\n",
      "warming up TensorFlow...\n",
      "100% 1/1 [00:10<00:00, 10.37s/it]\n",
      "computing reference batch activations...\n",
      "100% 157/157 [00:52<00:00,  2.99it/s]\n",
      "computing/reading reference batch statistics...\n",
      "computing sample batch activations...\n",
      "100% 782/782 [03:57<00:00,  3.30it/s]\n",
      "computing/reading sample batch statistics...\n",
      "Computing evaluations...\n",
      "Inception Score: 226.1678924560547\n",
      "FID: 5.708350833161319\n",
      "sFID: 7.166446597951563\n",
      "tcmalloc: large alloc 2000003072 bytes == 0x555704678000 @  0x7f0ed9b9b001 0x7f0ed666354f 0x7f0ed66b3b58 0x7f0ed66b7b17 0x7f0ed6756203 0x555605a44544 0x555605a44240 0x555605ab8627 0x555605ab2ced 0x555605a45bda 0x555605ab3c0d 0x555605a45afa 0x555605ab3c0d 0x555605a45afa 0x555605ab3915 0x555605ab29ee 0x555605ab26f3 0x555605b7c4c2 0x555605b7c83d 0x555605b7c6e6 0x555605b54163 0x555605b53e0c 0x7f0ed8983bf7 0x555605b53cea\n",
      "Precision: 0.86302\n",
      "Recall: 0.3385\n"
     ]
    }
   ]
  },
  {
   "cell_type": "markdown",
   "source": [
    "$\\epsilon = 5$ BIGRoC$_{PL}$"
   ],
   "metadata": {
    "id": "ubbwFwMVy7l3"
   }
  },
  {
   "cell_type": "code",
   "source": [
    "!python ./gdrive/MyDrive/models_and_scripts/evaluator.py ./VIRTUAL_imagenet128_labeled.npz ./boosted_deep_bigroc_eps_5.npz"
   ],
   "metadata": {
    "colab": {
     "base_uri": "https://localhost:8080/"
    },
    "id": "7DgMaa0mlNOa",
    "outputId": "80420d7e-372c-403c-8684-3730c401db6c"
   },
   "execution_count": 9,
   "outputs": [
    {
     "output_type": "stream",
     "name": "stdout",
     "text": [
      "2022-01-27 18:03:47.136015: W tensorflow/core/framework/op_def_util.cc:371] Op BatchNormWithGlobalNormalization is deprecated. It will cease to work in GraphDef version 9. Use tf.nn.batch_normalization().\n",
      "warming up TensorFlow...\n",
      "100% 1/1 [00:10<00:00, 10.11s/it]\n",
      "computing reference batch activations...\n",
      "100% 157/157 [00:51<00:00,  3.07it/s]\n",
      "computing/reading reference batch statistics...\n",
      "computing sample batch activations...\n",
      "100% 782/782 [03:58<00:00,  3.28it/s]\n",
      "computing/reading sample batch statistics...\n",
      "Computing evaluations...\n",
      "Inception Score: 176.42221069335938\n",
      "FID: 5.695593857996073\n",
      "sFID: 7.107968374035863\n",
      "tcmalloc: large alloc 2000003072 bytes == 0x55bbf1034000 @  0x7fe28da82001 0x7fe28a54a54f 0x7fe28a59ab58 0x7fe28a59eb17 0x7fe28a63d203 0x55baf340a544 0x55baf340a240 0x55baf347e627 0x55baf3478ced 0x55baf340bbda 0x55baf3479c0d 0x55baf340bafa 0x55baf3479c0d 0x55baf340bafa 0x55baf3479915 0x55baf34789ee 0x55baf34786f3 0x55baf35424c2 0x55baf354283d 0x55baf35426e6 0x55baf351a163 0x55baf3519e0c 0x7fe28c86abf7 0x55baf3519cea\n",
      "Precision: 0.84148\n",
      "Recall: 0.387\n"
     ]
    }
   ]
  }
 ]
}