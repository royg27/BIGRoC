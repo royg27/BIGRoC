{
 "cells": [
  {
   "cell_type": "markdown",
   "source": [
    "# BIGRoC: Boosting Image Generation via a Robust Classifier\n",
    "\n",
    "--------------------------------------------------\n",
    "\n",
    "## Boosting Guided Diffusion on ImageNet $128\\times128$\n",
    "\n",
    "This colab notebook contains the needed code to experiment with our proposed algorithm for boosting guided diffusion on ImageNet 128x128 (in Section 5.2).\n",
    "\n",
    "**How to use**\n",
    "\n",
    "1.   Upload the notebook to colab\n",
    "2.   Make sure that colab uses a GPU (Edit $\\rightarrow$ Notebook settings $\\rightarrow$ Hardware accelerator)\n",
    "\n",
    "**Setup:**\n",
    "\n",
    "This notebook mounts google drive and assumes that [this directory](https://drive.google.com/drive/folders/1yN6WjMmc-pi3zHylF-I1jri7I2nZpsGJ?usp=sharing) is located in your root folder in Google Drive. Therefore, please open the Google Drive's link and choose \"add a shortcut to drive\" and pick \"My Drive\" is the chosen location. By doing so, you are ready to go :)\n",
    "\n",
    "If you rather not to mount your google drive, download the files and edit the relevant paths accordingly.\n",
    "\n",
    "**Credits**\n",
    "\n",
    "This notebook uses the following packages:\n",
    "\n",
    "* [robustness](https://github.com/MadryLab/robustness) - For adversarially robust classifier\n",
    "* [guided-diffuision](https://github.com/openai/guided-diffusion/tree/main/evaluations) - ImageNet quantitative evaluation and 50K set of generated images + labels"
   ],
   "metadata": {
    "id": "v5z6dUzRjPK5"
   }
  },
  {
   "cell_type": "markdown",
   "source": [
    "# Setup & Installation"
   ],
   "metadata": {
    "id": "Y1AUMygTj64u"
   }
  },
  {
   "cell_type": "code",
   "execution_count": null,
   "metadata": {
    "id": "88-l2rMBa_2x"
   },
   "outputs": [],
   "source": [
    "!pip install torch==1.8.2+cu102 torchvision==0.9.2+cu102 -f https://download.pytorch.org/whl/lts/1.8/torch_lts.html"
   ]
  },
  {
   "cell_type": "code",
   "execution_count": null,
   "metadata": {
    "id": "B7kxmjDV6zJ5"
   },
   "outputs": [],
   "source": [
    "from google.colab import drive\n",
    "drive.mount('/content/gdrive')"
   ]
  },
  {
   "cell_type": "code",
   "execution_count": null,
   "metadata": {
    "id": "uWzwRENDpoKT"
   },
   "outputs": [],
   "source": [
    "!wget http://andrewilyas.com/ImageNet.pt"
   ]
  },
  {
   "cell_type": "code",
   "execution_count": null,
   "metadata": {
    "id": "QjlvYu2GpshB"
   },
   "outputs": [],
   "source": [
    "!pip install robustness"
   ]
  },
  {
   "cell_type": "code",
   "execution_count": null,
   "metadata": {
    "id": "F4u5i4W6pwc5"
   },
   "outputs": [],
   "source": [
    "from robustness import model_utils, datasets\n",
    "import torch\n",
    "\n",
    "\n",
    "def create_dl_model(DATA='CIFAR', BATCH_SIZE=128, NUM_WORKERS=8):\n",
    "    '''\n",
    "    :param DATA: Choices: ['CIFAR', 'ImageNet', 'RestrictedImageNet']\n",
    "    :param bs: batch size\n",
    "    :param num_workers:\n",
    "    :return: a dataloader object\n",
    "    '''\n",
    "\n",
    "    # Load dataset\n",
    "    dataset_function = getattr(datasets, DATA)\n",
    "    dataset = dataset_function('data')\n",
    "    # Load model\n",
    "    model_kwargs = {\n",
    "        'arch': 'resnet50',\n",
    "        'dataset': dataset,\n",
    "        'resume_path': f'./{DATA}.pt'\n",
    "    }\n",
    "    model, _ = model_utils.make_and_restore_model(**model_kwargs)\n",
    "    classifier = model.model\n",
    "    classifier.eval()\n",
    "    return classifier\n",
    "\n",
    "adv_model = create_dl_model(DATA='ImageNet')"
   ]
  },
  {
   "cell_type": "code",
   "execution_count": 2,
   "metadata": {
    "id": "gbD_W0ytpyVV"
   },
   "outputs": [],
   "source": [
    "import torch\n",
    "from torch import nn\n",
    "\n",
    "\n",
    "class AttackerStep:\n",
    "    '''\n",
    "    Generic class for attacker steps, under perturbation constraints\n",
    "    specified by an \"origin input\" and a perturbation magnitude.\n",
    "    Must implement project, step, and random_perturb\n",
    "    '''\n",
    "\n",
    "    def __init__(self, orig_input, eps, step_size, use_grad=True):\n",
    "        '''\n",
    "        Initialize the attacker step with a given perturbation magnitude.\n",
    "        Args:\n",
    "            eps (float): the perturbation magnitude\n",
    "            orig_input (ch.tensor): the original input\n",
    "        '''\n",
    "        self.orig_input = orig_input\n",
    "        self.eps = eps\n",
    "        self.step_size = step_size\n",
    "        self.use_grad = use_grad\n",
    "\n",
    "    def project(self, x):\n",
    "        '''\n",
    "        Given an input x, project it back into the feasible set\n",
    "        Args:\n",
    "            ch.tensor x : the input to project back into the feasible set.\n",
    "        Returns:\n",
    "            A `ch.tensor` that is the input projected back into\n",
    "            the feasible set, that is,\n",
    "        .. math:: \\min_{x' \\in S} \\|x' - x\\|_2\n",
    "        '''\n",
    "        raise NotImplementedError\n",
    "\n",
    "    def step(self, x, g):\n",
    "        '''\n",
    "        Given a gradient, make the appropriate step according to the\n",
    "        perturbation constraint (e.g. dual norm maximization for :math:`\\ell_p`\n",
    "        norms).\n",
    "        Parameters:\n",
    "            g (ch.tensor): the raw gradient\n",
    "        Returns:\n",
    "            The new input, a ch.tensor for the next step.\n",
    "        '''\n",
    "        raise NotImplementedError\n",
    "\n",
    "    def random_perturb(self, x):\n",
    "        '''\n",
    "        Given a starting input, take a random step within the feasible set\n",
    "        '''\n",
    "        raise NotImplementedError\n",
    "\n",
    "    def to_image(self, x):\n",
    "        '''\n",
    "        Given an input (which may be in an alternative parameterization),\n",
    "        convert it to a valid image (this is implemented as the identity\n",
    "        function by default as most of the time we use the pixel\n",
    "        parameterization, but for alternative parameterizations this functino\n",
    "        must be overriden).\n",
    "        '''\n",
    "        return x\n",
    "\n",
    "\n",
    "from torch import nn\n",
    "\n",
    "# simple Module to normalize an image\n",
    "class Normalize(nn.Module):\n",
    "    def __init__(self, mean, std):\n",
    "        super(Normalize, self).__init__()\n",
    "        self.mean = torch.Tensor(mean)\n",
    "        self.std = torch.Tensor(std)\n",
    "    def forward(self, x):\n",
    "        return (x - self.mean.type_as(x)[None, :, None, None]) / self.std.type_as(x)[None, :, None, None]\n",
    "\n",
    "norm = Normalize(mean=[0.485, 0.456, 0.406], std=[0.229, 0.224, 0.225])\n",
    "\n",
    "\n",
    "\n",
    "# L2 threat model\n",
    "class L2Step(AttackerStep):\n",
    "    \"\"\"\n",
    "    Attack step for :math:`\\ell_\\infty` threat model. Given :math:`x_0`\n",
    "    and :math:`\\epsilon`, the constraint set is given by:\n",
    "    .. math:: S = \\{x | \\|x - x_0\\|_2 \\leq \\epsilon\\}\n",
    "    \"\"\"\n",
    "\n",
    "    def project(self, x):\n",
    "        \"\"\"\n",
    "        \"\"\"\n",
    "        if self.orig_input is None: self.orig_input = x.detach()\n",
    "        self.orig_input = self.orig_input.cuda()\n",
    "        diff = x - self.orig_input\n",
    "        diff = diff.renorm(p=2, dim=0, maxnorm=self.eps)\n",
    "        return torch.clamp(self.orig_input + diff, 0, 1)\n",
    "\n",
    "    def step(self, x, g):\n",
    "        \"\"\"\n",
    "        \"\"\"\n",
    "        l = len(x.shape) - 1\n",
    "        g_norm = torch.norm(g.reshape(g.shape[0], -1), dim=1).view(-1, *([1] * l))\n",
    "        scaled_g = g / (g_norm + 1e-10)\n",
    "        return x + scaled_g * self.step_size\n",
    "\n",
    "def targeted_pgd_l2(model, X, y, num_iter, eps, step_size):\n",
    "    # input images are in range [0,1]\n",
    "    steper = L2Step(eps=eps, orig_input=None, step_size=step_size)\n",
    "    for t in range(num_iter):\n",
    "        X = X.clone().detach().requires_grad_(True).cuda()\n",
    "        loss = nn.CrossEntropyLoss(reduction='none')(model(norm(X)), y)\n",
    "        loss = torch.mean(loss)\n",
    "        grad, = torch.autograd.grad(-1 * loss, [X])\n",
    "        X = steper.step(X, grad)\n",
    "        X = steper.project(X)\n",
    "    return X.detach()"
   ]
  },
  {
   "cell_type": "markdown",
   "source": [
    "Download reference batch"
   ],
   "metadata": {
    "id": "0H1An_LAkE0r"
   }
  },
  {
   "cell_type": "code",
   "source": [
    "!wget https://openaipublic.blob.core.windows.net/diffusion/jul-2021/ref_batches/imagenet/128/VIRTUAL_imagenet128_labeled.npz"
   ],
   "metadata": {
    "id": "wtUqzIglgcGF"
   },
   "execution_count": null,
   "outputs": []
  },
  {
   "cell_type": "markdown",
   "source": [
    "Download guided diffusion generated images + gt labels"
   ],
   "metadata": {
    "id": "aTvMQLsVkHcM"
   }
  },
  {
   "cell_type": "code",
   "execution_count": null,
   "metadata": {
    "id": "xKNwsWGgprBH"
   },
   "outputs": [],
   "source": [
    "!wget https://openaipublic.blob.core.windows.net/diffusion/jul-2021/ref_batches/imagenet/128/admnet_guided_imagenet128.npz"
   ]
  },
  {
   "cell_type": "code",
   "execution_count": 3,
   "metadata": {
    "id": "yt0nCTh-qFp-"
   },
   "outputs": [],
   "source": [
    "import numpy as np\n",
    "\n",
    "x = np.load(\"admnet_guided_imagenet128.npz\", mmap_mode='r')\n",
    "gen_imgs = x['arr_0']\n",
    "gt_labels = x['arr_1']"
   ]
  },
  {
   "cell_type": "markdown",
   "source": [
    "# Guided Diffusion baseline quantitative results"
   ],
   "metadata": {
    "id": "26xcNV6zkfxA"
   }
  },
  {
   "cell_type": "markdown",
   "metadata": {
    "id": "D2vc2VwZqwEB"
   },
   "source": [
    "ADM-G quantitative evaluation"
   ]
  },
  {
   "cell_type": "code",
   "execution_count": null,
   "metadata": {
    "colab": {
     "base_uri": "https://localhost:8080/"
    },
    "id": "aVNAgWsCqUef",
    "outputId": "0a4caf48-5c16-4187-c308-0e41598c944a"
   },
   "outputs": [
    {
     "output_type": "stream",
     "name": "stdout",
     "text": [
      "downloading InceptionV3 model...\n",
      "11679it [00:02, 3993.89it/s]\n",
      "2022-01-27 07:27:42.287057: W tensorflow/core/framework/op_def_util.cc:371] Op BatchNormWithGlobalNormalization is deprecated. It will cease to work in GraphDef version 9. Use tf.nn.batch_normalization().\n",
      "warming up TensorFlow...\n",
      "100% 1/1 [00:09<00:00,  9.08s/it]\n",
      "computing reference batch activations...\n",
      "100% 157/157 [00:29<00:00,  5.29it/s]\n",
      "computing/reading reference batch statistics...\n",
      "computing sample batch activations...\n",
      "100% 782/782 [02:23<00:00,  5.46it/s]\n",
      "computing/reading sample batch statistics...\n",
      "Computing evaluations...\n",
      "Inception Score: 141.37184143066406\n",
      "FID: 2.9739931366061114\n",
      "sFID: 5.09352838087807\n",
      "tcmalloc: large alloc 2000003072 bytes == 0x55c041f34000 @  0x7fcf7295a001 0x7fcf6f42254f 0x7fcf6f472b58 0x7fcf6f476b17 0x7fcf6f515203 0x55bf6f82d544 0x55bf6f82d240 0x55bf6f8a1627 0x55bf6f89bced 0x55bf6f82ebda 0x55bf6f89cc0d 0x55bf6f82eafa 0x55bf6f89cc0d 0x55bf6f82eafa 0x55bf6f89c915 0x55bf6f89b9ee 0x55bf6f89b6f3 0x55bf6f9654c2 0x55bf6f96583d 0x55bf6f9656e6 0x55bf6f93d163 0x55bf6f93ce0c 0x7fcf71742bf7 0x55bf6f93ccea\n",
      "Precision: 0.78146\n",
      "Recall: 0.5929\n"
     ]
    }
   ],
   "source": [
    "!python ./gdrive/MyDrive/models_and_scripts/evaluator.py ./VIRTUAL_imagenet128_labeled.npz ./admnet_guided_imagenet128.npz"
   ]
  },
  {
   "cell_type": "markdown",
   "source": [
    "# BIGRoC Application"
   ],
   "metadata": {
    "id": "iC8r2HDAkm21"
   }
  },
  {
   "cell_type": "code",
   "execution_count": 4,
   "metadata": {
    "id": "QQC2hqJk_sqT"
   },
   "outputs": [],
   "source": [
    "# BIGRoC args\n",
    "epsilon, steps = 1.5, 7\n",
    "step_size = 1.5 * epsilon / steps\n",
    "use_pl = True"
   ]
  },
  {
   "cell_type": "code",
   "execution_count": 5,
   "metadata": {
    "colab": {
     "base_uri": "https://localhost:8080/",
     "height": 49,
     "referenced_widgets": [
      "49c4345e84fc44729838fac4b1522331",
      "588142c3051843f48f678cf1b4a8de35",
      "ab4f7a1c30964a3a911f3629100c4bdf",
      "e2725cdac19e4628a82859b00a2fd77a",
      "1ee2c985202f46548d8f260c55eba3da",
      "8d261d6a84a54dc3a58fe556a70fdc9c",
      "4a1a540abe42407ab46e962bffccadf3",
      "ef0c3661b168412ba1e12ccf1786e2bf",
      "a28f8af8376e4927a3a3889bd9167a1c",
      "3133ef65feb2476ebc410da1f20dba40",
      "e17eefaf73ed457a8eb6d985ac38d79a"
     ]
    },
    "id": "ewW0-8yHrzR9",
    "outputId": "4cfddd20-b995-40b7-f545-2181a173c0d1"
   },
   "outputs": [
    {
     "output_type": "display_data",
     "data": {
      "application/vnd.jupyter.widget-view+json": {
       "model_id": "49c4345e84fc44729838fac4b1522331",
       "version_minor": 0,
       "version_major": 2
      },
      "text/plain": [
       "  0%|          | 0/250 [00:00<?, ?it/s]"
      ]
     },
     "metadata": {}
    }
   ],
   "source": [
    "from tqdm.notebook import tqdm\n",
    "\n",
    "torch.manual_seed(1234)\n",
    "boosted_gen_imgs = []\n",
    "for i in tqdm(range(250)):\n",
    "  x_batch = gen_imgs[i * 100: (i + 1) * 100]\n",
    "  x_batch_0_1 = torch.tensor(x_batch / 255.).cuda().permute(0,3,1,2).float()\n",
    "  with torch.no_grad():\n",
    "    if use_pl:\n",
    "      labels = torch.argmax(adv_model(norm(x_batch_0_1)), dim=1)\n",
    "    else:\n",
    "      labels = torch.tensor(gt_labels[i * 100: (i + 1) * 100]).cuda().long()\n",
    "  b_imgs = targeted_pgd_l2(model=adv_model, X=x_batch_0_1.data, y=labels.long(), num_iter=steps, eps=epsilon,\n",
    "                                    step_size=step_size).detach().cpu()\n",
    "  boosted_gen_imgs.append(b_imgs)\n",
    "\n",
    "boosted_gen_imgs = torch.cat(boosted_gen_imgs)\n",
    "boosted_gen_imgs = (boosted_gen_imgs * 255.).int()\n",
    "boosted_gen_imgs = boosted_gen_imgs.detach().cpu().permute(0,2,3,1).numpy()"
   ]
  },
  {
   "cell_type": "code",
   "source": [
    "if use_pl:\n",
    "  np.savez(\"boosted_diff_1_eps_1_5\", boosted_gen_imgs)\n",
    "else:\n",
    "  np.savez(\"boosted_diff_1_eps_1_5_labeled\", boosted_gen_imgs)"
   ],
   "metadata": {
    "id": "sGsVs2palXKm"
   },
   "execution_count": 6,
   "outputs": []
  },
  {
   "cell_type": "code",
   "execution_count": 7,
   "metadata": {
    "colab": {
     "base_uri": "https://localhost:8080/",
     "height": 49,
     "referenced_widgets": [
      "b142155960ff48aa98e0a86d3906c7e3",
      "0de48a199825451296941a4f3834653d",
      "7228823b808e4b5fbc3d74e1a751ca92",
      "17e0618de9c24c57b245f56a511c9bdc",
      "1ee9158c612a4e948d1a4db7ee639faf",
      "78fef80dc73a4d1c93d08d21b0364dce",
      "4d666420fabe4b6499c99f5258f77383",
      "d60e2a28591d4cdea1eecbd2451e78c6",
      "f31f1633c2c24a59a868f201c69a9c81",
      "fda08f757561432da44e4aca9f8233c8",
      "084618a746674083b42b8938dd711ff6"
     ]
    },
    "id": "yVmaz9cGQnWL",
    "outputId": "28c12ac6-9fd6-44c0-ab34-31cf0a2f8f4d"
   },
   "outputs": [
    {
     "output_type": "display_data",
     "data": {
      "application/vnd.jupyter.widget-view+json": {
       "model_id": "b142155960ff48aa98e0a86d3906c7e3",
       "version_minor": 0,
       "version_major": 2
      },
      "text/plain": [
       "  0%|          | 0/250 [00:00<?, ?it/s]"
      ]
     },
     "metadata": {}
    }
   ],
   "source": [
    "from tqdm.notebook import tqdm\n",
    "\n",
    "torch.manual_seed(1234)\n",
    "boosted_gen_imgs = []\n",
    "for i in tqdm(range(250)):\n",
    "  x_batch = gen_imgs[(25000 + i*100):(25000 + (i + 1) * 100)]\n",
    "  x_batch_0_1 = torch.tensor(x_batch / 255.).cuda().permute(0,3,1,2).float()\n",
    "  with torch.no_grad():\n",
    "    if use_pl:\n",
    "      labels = torch.argmax(adv_model(norm(x_batch_0_1)), dim=1)\n",
    "    else:\n",
    "      labels = torch.tensor(gt_labels[(25000 + i*100):(25000 + (i + 1) * 100)]).cuda().long()\n",
    "  boosted_gen_imgs.append(targeted_pgd_l2(model=adv_model, X=x_batch_0_1.data, y=labels.long(), num_iter=steps, eps=epsilon,\n",
    "                                    step_size=step_size).detach().cpu())\n",
    "\n",
    "boosted_gen_imgs = torch.cat(boosted_gen_imgs)\n",
    "boosted_gen_imgs = (boosted_gen_imgs * 255.).int()\n",
    "boosted_gen_imgs = boosted_gen_imgs.detach().cpu().permute(0,2,3,1).numpy()"
   ]
  },
  {
   "cell_type": "code",
   "source": [
    "if use_pl:\n",
    "  np.savez(\"boosted_diff_2_eps_1_5\", boosted_gen_imgs)\n",
    "else:\n",
    "  np.savez(\"boosted_diff_2_eps_1_5_labeled\", boosted_gen_imgs)"
   ],
   "metadata": {
    "id": "a_l80RQnldbU"
   },
   "execution_count": 8,
   "outputs": []
  },
  {
   "cell_type": "markdown",
   "metadata": {
    "id": "DAFRFBhAk6Sj"
   },
   "source": [
    "gather boosted images to one npz for evaluation"
   ]
  },
  {
   "cell_type": "code",
   "source": [
    "import numpy as np\n",
    "from tqdm.notebook import tqdm\n",
    "\"\"\n",
    "arr = np.zeros(shape=(50000, 128, 128, 3), dtype=np.uint8)\n",
    "\n",
    "if use_pl:\n",
    "  x = np.load(\"boosted_diff_1_eps_1_5.npz\")['arr_0']\n",
    "  arr[:25000] = x\n",
    "  x = np.load(\"boosted_diff_2_eps_1_5.npz\")['arr_0']\n",
    "  arr[25000:] = x\n",
    "else:\n",
    "  x = np.load(\"boosted_diff_1_eps_1_5_labeled.npz\")['arr_0']\n",
    "  arr[:25000] = x\n",
    "  x = np.load(\"boosted_diff_2_eps_1_5_labeled.npz\")['arr_0']\n",
    "  arr[25000:] = x"
   ],
   "metadata": {
    "id": "yTq9V97tsb5P"
   },
   "execution_count": 9,
   "outputs": []
  },
  {
   "cell_type": "code",
   "execution_count": null,
   "metadata": {
    "colab": {
     "base_uri": "https://localhost:8080/"
    },
    "id": "3RG1hfkn19aC",
    "outputId": "5bba2e94-61d4-470c-c1c3-6f47644300f3"
   },
   "outputs": [
    {
     "output_type": "execute_result",
     "data": {
      "text/plain": [
       "((50000, 128, 128, 3), 0, 255)"
      ]
     },
     "metadata": {},
     "execution_count": 17
    }
   ],
   "source": [
    "arr.shape, arr.min(), arr.max()"
   ]
  },
  {
   "cell_type": "code",
   "execution_count": 10,
   "metadata": {
    "id": "4hxlEIm35-ui"
   },
   "outputs": [],
   "source": [
    "if use_pl:\n",
    "  np.savez(\"boosted_diff_eps_1_5\", arr)\n",
    "else:\n",
    "  np.savez(\"boosted_diff_eps_1_5_labeled\", arr)"
   ]
  },
  {
   "cell_type": "markdown",
   "source": [
    "$\\epsilon = 1.5$ BIGRoC$_{GT}$"
   ],
   "metadata": {
    "id": "oGEpcygAgEds"
   }
  },
  {
   "cell_type": "code",
   "source": [
    "!python ./gdrive/MyDrive/models_and_scripts/evaluator.py ./VIRTUAL_imagenet128_labeled.npz ./boosted_diff_eps_1_5_labeled.npz"
   ],
   "metadata": {
    "colab": {
     "base_uri": "https://localhost:8080/"
    },
    "id": "_VplyerGwIbm",
    "outputId": "57e6e648-60b3-47ff-b37f-265751b15358"
   },
   "execution_count": null,
   "outputs": [
    {
     "output_type": "stream",
     "name": "stdout",
     "text": [
      "2022-01-27 08:00:46.832763: W tensorflow/core/framework/op_def_util.cc:371] Op BatchNormWithGlobalNormalization is deprecated. It will cease to work in GraphDef version 9. Use tf.nn.batch_normalization().\n",
      "warming up TensorFlow...\n",
      "100% 1/1 [00:02<00:00,  2.44s/it]\n",
      "computing reference batch activations...\n",
      "100% 157/157 [00:29<00:00,  5.28it/s]\n",
      "computing/reading reference batch statistics...\n",
      "computing sample batch activations...\n",
      "100% 782/782 [02:29<00:00,  5.24it/s]\n",
      "computing/reading sample batch statistics...\n",
      "Computing evaluations...\n",
      "Inception Score: 169.73379516601562\n",
      "FID: 2.533804513797861\n",
      "sFID: 4.886204958273538\n",
      "tcmalloc: large alloc 2000003072 bytes == 0x565120a3e000 @  0x7fa0c11dc001 0x7fa0bdca454f 0x7fa0bdcf4b58 0x7fa0bdcf8b17 0x7fa0bdd97203 0x56504e70e544 0x56504e70e240 0x56504e782627 0x56504e77cced 0x56504e70fbda 0x56504e77dc0d 0x56504e70fafa 0x56504e77dc0d 0x56504e70fafa 0x56504e77d915 0x56504e77c9ee 0x56504e77c6f3 0x56504e8464c2 0x56504e84683d 0x56504e8466e6 0x56504e81e163 0x56504e81de0c 0x7fa0bffc4bf7 0x56504e81dcea\n",
      "Precision: 0.80006\n",
      "Recall: 0.5759\n"
     ]
    }
   ]
  },
  {
   "cell_type": "markdown",
   "source": [
    "$\\epsilon = 1.5$ BIGRoC$_{PL}$"
   ],
   "metadata": {
    "id": "NzoZAewNyFFC"
   }
  },
  {
   "cell_type": "code",
   "execution_count": 11,
   "metadata": {
    "id": "Om5xZ22ohzD9",
    "outputId": "248b382b-b12f-4787-b393-f674761aeb5e",
    "colab": {
     "base_uri": "https://localhost:8080/"
    }
   },
   "outputs": [
    {
     "output_type": "stream",
     "name": "stdout",
     "text": [
      "2022-01-27 09:57:25.725015: W tensorflow/core/framework/op_def_util.cc:371] Op BatchNormWithGlobalNormalization is deprecated. It will cease to work in GraphDef version 9. Use tf.nn.batch_normalization().\n",
      "warming up TensorFlow...\n",
      "100% 1/1 [00:09<00:00,  9.03s/it]\n",
      "computing reference batch activations...\n",
      "100% 157/157 [00:30<00:00,  5.15it/s]\n",
      "computing/reading reference batch statistics...\n",
      "computing sample batch activations...\n",
      "100% 782/782 [02:26<00:00,  5.32it/s]\n",
      "computing/reading sample batch statistics...\n",
      "Computing evaluations...\n",
      "Inception Score: 150.43173217773438\n",
      "FID: 2.7753071639148743\n",
      "sFID: 4.971221621778113\n",
      "tcmalloc: large alloc 2000003072 bytes == 0x556aa63ce000 @  0x7f7cd0169001 0x7f7cccc3154f 0x7f7cccc81b58 0x7f7cccc85b17 0x7f7cccd24203 0x5569d2fcb544 0x5569d2fcb240 0x5569d303f627 0x5569d3039ced 0x5569d2fccbda 0x5569d303ac0d 0x5569d2fccafa 0x5569d303ac0d 0x5569d2fccafa 0x5569d303a915 0x5569d30399ee 0x5569d30396f3 0x5569d31034c2 0x5569d310383d 0x5569d31036e6 0x5569d30db163 0x5569d30dae0c 0x7f7ccef51bf7 0x5569d30dacea\n",
      "Precision: 0.78944\n",
      "Recall: 0.583\n"
     ]
    }
   ],
   "source": [
    "!python ./gdrive/MyDrive/models_and_scripts/evaluator.py ./VIRTUAL_imagenet128_labeled.npz ./boosted_diff_eps_1_5.npz"
   ]
  }
 ],
 "metadata": {
  "accelerator": "GPU",
  "colab": {
   "collapsed_sections": [],
   "machine_shape": "hm",
   "name": "BigROC_Diffusion_ImageNet128.ipynb",
   "provenance": [],
   "toc_visible": true,
   "authorship_tag": "ABX9TyODb7MLmkO1+H+fvidS5OKD",
   "include_colab_link": true
  },
  "kernelspec": {
   "display_name": "Python 3",
   "name": "python3"
  },
  "language_info": {
   "name": "python"
  },
  "widgets": {
   "application/vnd.jupyter.widget-state+json": {
    "49c4345e84fc44729838fac4b1522331": {
     "model_module": "@jupyter-widgets/controls",
     "model_name": "HBoxModel",
     "model_module_version": "1.5.0",
     "state": {
      "_view_name": "HBoxView",
      "_dom_classes": [],
      "_model_name": "HBoxModel",
      "_view_module": "@jupyter-widgets/controls",
      "_model_module_version": "1.5.0",
      "_view_count": null,
      "_view_module_version": "1.5.0",
      "box_style": "",
      "layout": "IPY_MODEL_588142c3051843f48f678cf1b4a8de35",
      "_model_module": "@jupyter-widgets/controls",
      "children": [
       "IPY_MODEL_ab4f7a1c30964a3a911f3629100c4bdf",
       "IPY_MODEL_e2725cdac19e4628a82859b00a2fd77a",
       "IPY_MODEL_1ee2c985202f46548d8f260c55eba3da"
      ]
     }
    },
    "588142c3051843f48f678cf1b4a8de35": {
     "model_module": "@jupyter-widgets/base",
     "model_name": "LayoutModel",
     "model_module_version": "1.2.0",
     "state": {
      "_view_name": "LayoutView",
      "grid_template_rows": null,
      "right": null,
      "justify_content": null,
      "_view_module": "@jupyter-widgets/base",
      "overflow": null,
      "_model_module_version": "1.2.0",
      "_view_count": null,
      "flex_flow": null,
      "width": null,
      "min_width": null,
      "border": null,
      "align_items": null,
      "bottom": null,
      "_model_module": "@jupyter-widgets/base",
      "top": null,
      "grid_column": null,
      "overflow_y": null,
      "overflow_x": null,
      "grid_auto_flow": null,
      "grid_area": null,
      "grid_template_columns": null,
      "flex": null,
      "_model_name": "LayoutModel",
      "justify_items": null,
      "grid_row": null,
      "max_height": null,
      "align_content": null,
      "visibility": null,
      "align_self": null,
      "height": null,
      "min_height": null,
      "padding": null,
      "grid_auto_rows": null,
      "grid_gap": null,
      "max_width": null,
      "order": null,
      "_view_module_version": "1.2.0",
      "grid_template_areas": null,
      "object_position": null,
      "object_fit": null,
      "grid_auto_columns": null,
      "margin": null,
      "display": null,
      "left": null
     }
    },
    "ab4f7a1c30964a3a911f3629100c4bdf": {
     "model_module": "@jupyter-widgets/controls",
     "model_name": "HTMLModel",
     "model_module_version": "1.5.0",
     "state": {
      "_view_name": "HTMLView",
      "style": "IPY_MODEL_8d261d6a84a54dc3a58fe556a70fdc9c",
      "_dom_classes": [],
      "description": "",
      "_model_name": "HTMLModel",
      "placeholder": "​",
      "_view_module": "@jupyter-widgets/controls",
      "_model_module_version": "1.5.0",
      "value": "100%",
      "_view_count": null,
      "_view_module_version": "1.5.0",
      "description_tooltip": null,
      "_model_module": "@jupyter-widgets/controls",
      "layout": "IPY_MODEL_4a1a540abe42407ab46e962bffccadf3"
     }
    },
    "e2725cdac19e4628a82859b00a2fd77a": {
     "model_module": "@jupyter-widgets/controls",
     "model_name": "FloatProgressModel",
     "model_module_version": "1.5.0",
     "state": {
      "_view_name": "ProgressView",
      "style": "IPY_MODEL_ef0c3661b168412ba1e12ccf1786e2bf",
      "_dom_classes": [],
      "description": "",
      "_model_name": "FloatProgressModel",
      "bar_style": "success",
      "max": 250,
      "_view_module": "@jupyter-widgets/controls",
      "_model_module_version": "1.5.0",
      "value": 250,
      "_view_count": null,
      "_view_module_version": "1.5.0",
      "orientation": "horizontal",
      "min": 0,
      "description_tooltip": null,
      "_model_module": "@jupyter-widgets/controls",
      "layout": "IPY_MODEL_a28f8af8376e4927a3a3889bd9167a1c"
     }
    },
    "1ee2c985202f46548d8f260c55eba3da": {
     "model_module": "@jupyter-widgets/controls",
     "model_name": "HTMLModel",
     "model_module_version": "1.5.0",
     "state": {
      "_view_name": "HTMLView",
      "style": "IPY_MODEL_3133ef65feb2476ebc410da1f20dba40",
      "_dom_classes": [],
      "description": "",
      "_model_name": "HTMLModel",
      "placeholder": "​",
      "_view_module": "@jupyter-widgets/controls",
      "_model_module_version": "1.5.0",
      "value": " 250/250 [11:56&lt;00:00,  2.87s/it]",
      "_view_count": null,
      "_view_module_version": "1.5.0",
      "description_tooltip": null,
      "_model_module": "@jupyter-widgets/controls",
      "layout": "IPY_MODEL_e17eefaf73ed457a8eb6d985ac38d79a"
     }
    },
    "8d261d6a84a54dc3a58fe556a70fdc9c": {
     "model_module": "@jupyter-widgets/controls",
     "model_name": "DescriptionStyleModel",
     "model_module_version": "1.5.0",
     "state": {
      "_view_name": "StyleView",
      "_model_name": "DescriptionStyleModel",
      "description_width": "",
      "_view_module": "@jupyter-widgets/base",
      "_model_module_version": "1.5.0",
      "_view_count": null,
      "_view_module_version": "1.2.0",
      "_model_module": "@jupyter-widgets/controls"
     }
    },
    "4a1a540abe42407ab46e962bffccadf3": {
     "model_module": "@jupyter-widgets/base",
     "model_name": "LayoutModel",
     "model_module_version": "1.2.0",
     "state": {
      "_view_name": "LayoutView",
      "grid_template_rows": null,
      "right": null,
      "justify_content": null,
      "_view_module": "@jupyter-widgets/base",
      "overflow": null,
      "_model_module_version": "1.2.0",
      "_view_count": null,
      "flex_flow": null,
      "width": null,
      "min_width": null,
      "border": null,
      "align_items": null,
      "bottom": null,
      "_model_module": "@jupyter-widgets/base",
      "top": null,
      "grid_column": null,
      "overflow_y": null,
      "overflow_x": null,
      "grid_auto_flow": null,
      "grid_area": null,
      "grid_template_columns": null,
      "flex": null,
      "_model_name": "LayoutModel",
      "justify_items": null,
      "grid_row": null,
      "max_height": null,
      "align_content": null,
      "visibility": null,
      "align_self": null,
      "height": null,
      "min_height": null,
      "padding": null,
      "grid_auto_rows": null,
      "grid_gap": null,
      "max_width": null,
      "order": null,
      "_view_module_version": "1.2.0",
      "grid_template_areas": null,
      "object_position": null,
      "object_fit": null,
      "grid_auto_columns": null,
      "margin": null,
      "display": null,
      "left": null
     }
    },
    "ef0c3661b168412ba1e12ccf1786e2bf": {
     "model_module": "@jupyter-widgets/controls",
     "model_name": "ProgressStyleModel",
     "model_module_version": "1.5.0",
     "state": {
      "_view_name": "StyleView",
      "_model_name": "ProgressStyleModel",
      "description_width": "",
      "_view_module": "@jupyter-widgets/base",
      "_model_module_version": "1.5.0",
      "_view_count": null,
      "_view_module_version": "1.2.0",
      "bar_color": null,
      "_model_module": "@jupyter-widgets/controls"
     }
    },
    "a28f8af8376e4927a3a3889bd9167a1c": {
     "model_module": "@jupyter-widgets/base",
     "model_name": "LayoutModel",
     "model_module_version": "1.2.0",
     "state": {
      "_view_name": "LayoutView",
      "grid_template_rows": null,
      "right": null,
      "justify_content": null,
      "_view_module": "@jupyter-widgets/base",
      "overflow": null,
      "_model_module_version": "1.2.0",
      "_view_count": null,
      "flex_flow": null,
      "width": null,
      "min_width": null,
      "border": null,
      "align_items": null,
      "bottom": null,
      "_model_module": "@jupyter-widgets/base",
      "top": null,
      "grid_column": null,
      "overflow_y": null,
      "overflow_x": null,
      "grid_auto_flow": null,
      "grid_area": null,
      "grid_template_columns": null,
      "flex": null,
      "_model_name": "LayoutModel",
      "justify_items": null,
      "grid_row": null,
      "max_height": null,
      "align_content": null,
      "visibility": null,
      "align_self": null,
      "height": null,
      "min_height": null,
      "padding": null,
      "grid_auto_rows": null,
      "grid_gap": null,
      "max_width": null,
      "order": null,
      "_view_module_version": "1.2.0",
      "grid_template_areas": null,
      "object_position": null,
      "object_fit": null,
      "grid_auto_columns": null,
      "margin": null,
      "display": null,
      "left": null
     }
    },
    "3133ef65feb2476ebc410da1f20dba40": {
     "model_module": "@jupyter-widgets/controls",
     "model_name": "DescriptionStyleModel",
     "model_module_version": "1.5.0",
     "state": {
      "_view_name": "StyleView",
      "_model_name": "DescriptionStyleModel",
      "description_width": "",
      "_view_module": "@jupyter-widgets/base",
      "_model_module_version": "1.5.0",
      "_view_count": null,
      "_view_module_version": "1.2.0",
      "_model_module": "@jupyter-widgets/controls"
     }
    },
    "e17eefaf73ed457a8eb6d985ac38d79a": {
     "model_module": "@jupyter-widgets/base",
     "model_name": "LayoutModel",
     "model_module_version": "1.2.0",
     "state": {
      "_view_name": "LayoutView",
      "grid_template_rows": null,
      "right": null,
      "justify_content": null,
      "_view_module": "@jupyter-widgets/base",
      "overflow": null,
      "_model_module_version": "1.2.0",
      "_view_count": null,
      "flex_flow": null,
      "width": null,
      "min_width": null,
      "border": null,
      "align_items": null,
      "bottom": null,
      "_model_module": "@jupyter-widgets/base",
      "top": null,
      "grid_column": null,
      "overflow_y": null,
      "overflow_x": null,
      "grid_auto_flow": null,
      "grid_area": null,
      "grid_template_columns": null,
      "flex": null,
      "_model_name": "LayoutModel",
      "justify_items": null,
      "grid_row": null,
      "max_height": null,
      "align_content": null,
      "visibility": null,
      "align_self": null,
      "height": null,
      "min_height": null,
      "padding": null,
      "grid_auto_rows": null,
      "grid_gap": null,
      "max_width": null,
      "order": null,
      "_view_module_version": "1.2.0",
      "grid_template_areas": null,
      "object_position": null,
      "object_fit": null,
      "grid_auto_columns": null,
      "margin": null,
      "display": null,
      "left": null
     }
    },
    "b142155960ff48aa98e0a86d3906c7e3": {
     "model_module": "@jupyter-widgets/controls",
     "model_name": "HBoxModel",
     "model_module_version": "1.5.0",
     "state": {
      "_view_name": "HBoxView",
      "_dom_classes": [],
      "_model_name": "HBoxModel",
      "_view_module": "@jupyter-widgets/controls",
      "_model_module_version": "1.5.0",
      "_view_count": null,
      "_view_module_version": "1.5.0",
      "box_style": "",
      "layout": "IPY_MODEL_0de48a199825451296941a4f3834653d",
      "_model_module": "@jupyter-widgets/controls",
      "children": [
       "IPY_MODEL_7228823b808e4b5fbc3d74e1a751ca92",
       "IPY_MODEL_17e0618de9c24c57b245f56a511c9bdc",
       "IPY_MODEL_1ee9158c612a4e948d1a4db7ee639faf"
      ]
     }
    },
    "0de48a199825451296941a4f3834653d": {
     "model_module": "@jupyter-widgets/base",
     "model_name": "LayoutModel",
     "model_module_version": "1.2.0",
     "state": {
      "_view_name": "LayoutView",
      "grid_template_rows": null,
      "right": null,
      "justify_content": null,
      "_view_module": "@jupyter-widgets/base",
      "overflow": null,
      "_model_module_version": "1.2.0",
      "_view_count": null,
      "flex_flow": null,
      "width": null,
      "min_width": null,
      "border": null,
      "align_items": null,
      "bottom": null,
      "_model_module": "@jupyter-widgets/base",
      "top": null,
      "grid_column": null,
      "overflow_y": null,
      "overflow_x": null,
      "grid_auto_flow": null,
      "grid_area": null,
      "grid_template_columns": null,
      "flex": null,
      "_model_name": "LayoutModel",
      "justify_items": null,
      "grid_row": null,
      "max_height": null,
      "align_content": null,
      "visibility": null,
      "align_self": null,
      "height": null,
      "min_height": null,
      "padding": null,
      "grid_auto_rows": null,
      "grid_gap": null,
      "max_width": null,
      "order": null,
      "_view_module_version": "1.2.0",
      "grid_template_areas": null,
      "object_position": null,
      "object_fit": null,
      "grid_auto_columns": null,
      "margin": null,
      "display": null,
      "left": null
     }
    },
    "7228823b808e4b5fbc3d74e1a751ca92": {
     "model_module": "@jupyter-widgets/controls",
     "model_name": "HTMLModel",
     "model_module_version": "1.5.0",
     "state": {
      "_view_name": "HTMLView",
      "style": "IPY_MODEL_78fef80dc73a4d1c93d08d21b0364dce",
      "_dom_classes": [],
      "description": "",
      "_model_name": "HTMLModel",
      "placeholder": "​",
      "_view_module": "@jupyter-widgets/controls",
      "_model_module_version": "1.5.0",
      "value": "100%",
      "_view_count": null,
      "_view_module_version": "1.5.0",
      "description_tooltip": null,
      "_model_module": "@jupyter-widgets/controls",
      "layout": "IPY_MODEL_4d666420fabe4b6499c99f5258f77383"
     }
    },
    "17e0618de9c24c57b245f56a511c9bdc": {
     "model_module": "@jupyter-widgets/controls",
     "model_name": "FloatProgressModel",
     "model_module_version": "1.5.0",
     "state": {
      "_view_name": "ProgressView",
      "style": "IPY_MODEL_d60e2a28591d4cdea1eecbd2451e78c6",
      "_dom_classes": [],
      "description": "",
      "_model_name": "FloatProgressModel",
      "bar_style": "success",
      "max": 250,
      "_view_module": "@jupyter-widgets/controls",
      "_model_module_version": "1.5.0",
      "value": 250,
      "_view_count": null,
      "_view_module_version": "1.5.0",
      "orientation": "horizontal",
      "min": 0,
      "description_tooltip": null,
      "_model_module": "@jupyter-widgets/controls",
      "layout": "IPY_MODEL_f31f1633c2c24a59a868f201c69a9c81"
     }
    },
    "1ee9158c612a4e948d1a4db7ee639faf": {
     "model_module": "@jupyter-widgets/controls",
     "model_name": "HTMLModel",
     "model_module_version": "1.5.0",
     "state": {
      "_view_name": "HTMLView",
      "style": "IPY_MODEL_fda08f757561432da44e4aca9f8233c8",
      "_dom_classes": [],
      "description": "",
      "_model_name": "HTMLModel",
      "placeholder": "​",
      "_view_module": "@jupyter-widgets/controls",
      "_model_module_version": "1.5.0",
      "value": " 250/250 [11:56&lt;00:00,  2.87s/it]",
      "_view_count": null,
      "_view_module_version": "1.5.0",
      "description_tooltip": null,
      "_model_module": "@jupyter-widgets/controls",
      "layout": "IPY_MODEL_084618a746674083b42b8938dd711ff6"
     }
    },
    "78fef80dc73a4d1c93d08d21b0364dce": {
     "model_module": "@jupyter-widgets/controls",
     "model_name": "DescriptionStyleModel",
     "model_module_version": "1.5.0",
     "state": {
      "_view_name": "StyleView",
      "_model_name": "DescriptionStyleModel",
      "description_width": "",
      "_view_module": "@jupyter-widgets/base",
      "_model_module_version": "1.5.0",
      "_view_count": null,
      "_view_module_version": "1.2.0",
      "_model_module": "@jupyter-widgets/controls"
     }
    },
    "4d666420fabe4b6499c99f5258f77383": {
     "model_module": "@jupyter-widgets/base",
     "model_name": "LayoutModel",
     "model_module_version": "1.2.0",
     "state": {
      "_view_name": "LayoutView",
      "grid_template_rows": null,
      "right": null,
      "justify_content": null,
      "_view_module": "@jupyter-widgets/base",
      "overflow": null,
      "_model_module_version": "1.2.0",
      "_view_count": null,
      "flex_flow": null,
      "width": null,
      "min_width": null,
      "border": null,
      "align_items": null,
      "bottom": null,
      "_model_module": "@jupyter-widgets/base",
      "top": null,
      "grid_column": null,
      "overflow_y": null,
      "overflow_x": null,
      "grid_auto_flow": null,
      "grid_area": null,
      "grid_template_columns": null,
      "flex": null,
      "_model_name": "LayoutModel",
      "justify_items": null,
      "grid_row": null,
      "max_height": null,
      "align_content": null,
      "visibility": null,
      "align_self": null,
      "height": null,
      "min_height": null,
      "padding": null,
      "grid_auto_rows": null,
      "grid_gap": null,
      "max_width": null,
      "order": null,
      "_view_module_version": "1.2.0",
      "grid_template_areas": null,
      "object_position": null,
      "object_fit": null,
      "grid_auto_columns": null,
      "margin": null,
      "display": null,
      "left": null
     }
    },
    "d60e2a28591d4cdea1eecbd2451e78c6": {
     "model_module": "@jupyter-widgets/controls",
     "model_name": "ProgressStyleModel",
     "model_module_version": "1.5.0",
     "state": {
      "_view_name": "StyleView",
      "_model_name": "ProgressStyleModel",
      "description_width": "",
      "_view_module": "@jupyter-widgets/base",
      "_model_module_version": "1.5.0",
      "_view_count": null,
      "_view_module_version": "1.2.0",
      "bar_color": null,
      "_model_module": "@jupyter-widgets/controls"
     }
    },
    "f31f1633c2c24a59a868f201c69a9c81": {
     "model_module": "@jupyter-widgets/base",
     "model_name": "LayoutModel",
     "model_module_version": "1.2.0",
     "state": {
      "_view_name": "LayoutView",
      "grid_template_rows": null,
      "right": null,
      "justify_content": null,
      "_view_module": "@jupyter-widgets/base",
      "overflow": null,
      "_model_module_version": "1.2.0",
      "_view_count": null,
      "flex_flow": null,
      "width": null,
      "min_width": null,
      "border": null,
      "align_items": null,
      "bottom": null,
      "_model_module": "@jupyter-widgets/base",
      "top": null,
      "grid_column": null,
      "overflow_y": null,
      "overflow_x": null,
      "grid_auto_flow": null,
      "grid_area": null,
      "grid_template_columns": null,
      "flex": null,
      "_model_name": "LayoutModel",
      "justify_items": null,
      "grid_row": null,
      "max_height": null,
      "align_content": null,
      "visibility": null,
      "align_self": null,
      "height": null,
      "min_height": null,
      "padding": null,
      "grid_auto_rows": null,
      "grid_gap": null,
      "max_width": null,
      "order": null,
      "_view_module_version": "1.2.0",
      "grid_template_areas": null,
      "object_position": null,
      "object_fit": null,
      "grid_auto_columns": null,
      "margin": null,
      "display": null,
      "left": null
     }
    },
    "fda08f757561432da44e4aca9f8233c8": {
     "model_module": "@jupyter-widgets/controls",
     "model_name": "DescriptionStyleModel",
     "model_module_version": "1.5.0",
     "state": {
      "_view_name": "StyleView",
      "_model_name": "DescriptionStyleModel",
      "description_width": "",
      "_view_module": "@jupyter-widgets/base",
      "_model_module_version": "1.5.0",
      "_view_count": null,
      "_view_module_version": "1.2.0",
      "_model_module": "@jupyter-widgets/controls"
     }
    },
    "084618a746674083b42b8938dd711ff6": {
     "model_module": "@jupyter-widgets/base",
     "model_name": "LayoutModel",
     "model_module_version": "1.2.0",
     "state": {
      "_view_name": "LayoutView",
      "grid_template_rows": null,
      "right": null,
      "justify_content": null,
      "_view_module": "@jupyter-widgets/base",
      "overflow": null,
      "_model_module_version": "1.2.0",
      "_view_count": null,
      "flex_flow": null,
      "width": null,
      "min_width": null,
      "border": null,
      "align_items": null,
      "bottom": null,
      "_model_module": "@jupyter-widgets/base",
      "top": null,
      "grid_column": null,
      "overflow_y": null,
      "overflow_x": null,
      "grid_auto_flow": null,
      "grid_area": null,
      "grid_template_columns": null,
      "flex": null,
      "_model_name": "LayoutModel",
      "justify_items": null,
      "grid_row": null,
      "max_height": null,
      "align_content": null,
      "visibility": null,
      "align_self": null,
      "height": null,
      "min_height": null,
      "padding": null,
      "grid_auto_rows": null,
      "grid_gap": null,
      "max_width": null,
      "order": null,
      "_view_module_version": "1.2.0",
      "grid_template_areas": null,
      "object_position": null,
      "object_fit": null,
      "grid_auto_columns": null,
      "margin": null,
      "display": null,
      "left": null
     }
    }
   }
  }
 },
 "nbformat": 4,
 "nbformat_minor": 0
}